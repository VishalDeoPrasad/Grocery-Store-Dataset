{
 "cells": [
  {
   "cell_type": "code",
   "execution_count": 1,
   "id": "39255765",
   "metadata": {
    "_cell_guid": "b1076dfc-b9ad-4769-8c92-a6c4dae69d19",
    "_uuid": "8f2839f25d086af736a60e9eeb907d3b93b6e0e5",
    "execution": {
     "iopub.execute_input": "2024-01-15T16:58:02.203962Z",
     "iopub.status.busy": "2024-01-15T16:58:02.203602Z",
     "iopub.status.idle": "2024-01-15T16:58:02.592775Z",
     "shell.execute_reply": "2024-01-15T16:58:02.591802Z"
    },
    "papermill": {
     "duration": 0.398891,
     "end_time": "2024-01-15T16:58:02.595343",
     "exception": false,
     "start_time": "2024-01-15T16:58:02.196452",
     "status": "completed"
    },
    "tags": []
   },
   "outputs": [
    {
     "name": "stdout",
     "output_type": "stream",
     "text": [
      "/kaggle/input/grocery-store-dataset/GroceryDataset.csv\n"
     ]
    }
   ],
   "source": [
    "# This Python 3 environment comes with many helpful analytics libraries installed\n",
    "# It is defined by the kaggle/python Docker image: https://github.com/kaggle/docker-python\n",
    "# For example, here's several helpful packages to load\n",
    "\n",
    "import numpy as np # linear algebra\n",
    "import pandas as pd # data processing, CSV file I/O (e.g. pd.read_csv)\n",
    "\n",
    "# Input data files are available in the read-only \"../input/\" directory\n",
    "# For example, running this (by clicking run or pressing Shift+Enter) will list all files under the input directory\n",
    "\n",
    "import os\n",
    "for dirname, _, filenames in os.walk('/kaggle/input'):\n",
    "    for filename in filenames:\n",
    "        print(os.path.join(dirname, filename))\n",
    "\n",
    "# You can write up to 20GB to the current directory (/kaggle/working/) that gets preserved as output when you create a version using \"Save & Run All\" \n",
    "# You can also write temporary files to /kaggle/temp/, but they won't be saved outside of the current session"
   ]
  },
  {
   "cell_type": "code",
   "execution_count": 2,
   "id": "dffa3586",
   "metadata": {
    "execution": {
     "iopub.execute_input": "2024-01-15T16:58:02.607376Z",
     "iopub.status.busy": "2024-01-15T16:58:02.606915Z",
     "iopub.status.idle": "2024-01-15T16:58:02.698634Z",
     "shell.execute_reply": "2024-01-15T16:58:02.697547Z"
    },
    "papermill": {
     "duration": 0.100384,
     "end_time": "2024-01-15T16:58:02.700968",
     "exception": false,
     "start_time": "2024-01-15T16:58:02.600584",
     "status": "completed"
    },
    "tags": []
   },
   "outputs": [
    {
     "data": {
      "text/html": [
       "<div>\n",
       "<style scoped>\n",
       "    .dataframe tbody tr th:only-of-type {\n",
       "        vertical-align: middle;\n",
       "    }\n",
       "\n",
       "    .dataframe tbody tr th {\n",
       "        vertical-align: top;\n",
       "    }\n",
       "\n",
       "    .dataframe thead th {\n",
       "        text-align: right;\n",
       "    }\n",
       "</style>\n",
       "<table border=\"1\" class=\"dataframe\">\n",
       "  <thead>\n",
       "    <tr style=\"text-align: right;\">\n",
       "      <th></th>\n",
       "      <th>Sub Category</th>\n",
       "      <th>Price</th>\n",
       "      <th>Discount</th>\n",
       "      <th>Rating</th>\n",
       "      <th>Title</th>\n",
       "      <th>Currency</th>\n",
       "      <th>Feature</th>\n",
       "      <th>Product Description</th>\n",
       "    </tr>\n",
       "  </thead>\n",
       "  <tbody>\n",
       "    <tr>\n",
       "      <th>795</th>\n",
       "      <td>Household</td>\n",
       "      <td>$17.99</td>\n",
       "      <td>No Discount</td>\n",
       "      <td>NaN</td>\n",
       "      <td>Post-it Notes, Canary Yellow, 3\" x 3\" 100 Shee...</td>\n",
       "      <td>$</td>\n",
       "      <td>NaN</td>\n",
       "      <td>Model: MMM202624YWSelf Stick NotesCanary Yello...</td>\n",
       "    </tr>\n",
       "    <tr>\n",
       "      <th>28</th>\n",
       "      <td>Bakery &amp; Desserts</td>\n",
       "      <td>$34.99</td>\n",
       "      <td>No Discount</td>\n",
       "      <td>Rated 4.5 out of 5 stars based on 702 reviews.</td>\n",
       "      <td>Ferrara's Bakery Rainbow Cookies 1.5 lb</td>\n",
       "      <td>$</td>\n",
       "      <td>Tricolor Rainbow Cookies   Each cookie is appr...</td>\n",
       "      <td>Ferrara's Bakery of Little Italy in New York C...</td>\n",
       "    </tr>\n",
       "    <tr>\n",
       "      <th>1404</th>\n",
       "      <td>Paper &amp; Plastic Products</td>\n",
       "      <td>$28.99</td>\n",
       "      <td>No Discount</td>\n",
       "      <td>NaN</td>\n",
       "      <td>Polyvinyl Films All Purpose Food Wrap, 18 in x...</td>\n",
       "      <td>$</td>\n",
       "      <td>More Cling   More Stretch   More Strength   Ma...</td>\n",
       "      <td>Wrap BowlsCover TraysGreat InsulatorUse in Mic...</td>\n",
       "    </tr>\n",
       "    <tr>\n",
       "      <th>1219</th>\n",
       "      <td>Pantry &amp; Dry Goods</td>\n",
       "      <td>$10.99</td>\n",
       "      <td>No Discount</td>\n",
       "      <td>NaN</td>\n",
       "      <td>Prego, Pasta Sauce Low Sodium 45 oz, 3-Count</td>\n",
       "      <td>$</td>\n",
       "      <td>Italian Sauce   Traditional Lower Sodium   Glu...</td>\n",
       "      <td>25% Lower Sodium Than Prego Traditional\\n40% o...</td>\n",
       "    </tr>\n",
       "    <tr>\n",
       "      <th>1506</th>\n",
       "      <td>Snacks</td>\n",
       "      <td>$9.99</td>\n",
       "      <td>No Discount</td>\n",
       "      <td>NaN</td>\n",
       "      <td>Lance Toasty Cracker Sandwiches, 1.29 oz, 40-c...</td>\n",
       "      <td>$</td>\n",
       "      <td>Real Peanut Butter   No High-Fructose Corn Syr...</td>\n",
       "      <td>1.29 oz Packs</td>\n",
       "    </tr>\n",
       "    <tr>\n",
       "      <th>129</th>\n",
       "      <td>Beverages &amp; Water</td>\n",
       "      <td>$74.99</td>\n",
       "      <td>No Discount</td>\n",
       "      <td>Rated 4.3 out of 5 stars based on 354 reviews.</td>\n",
       "      <td>Pressed Cold-Pressed Greens, Roots &amp; Citrus Bu...</td>\n",
       "      <td>$</td>\n",
       "      <td>12 Oz. Bottles\\nNo Sugars Added, No Added Wate...</td>\n",
       "      <td>Due to the perishable nature of this item, ord...</td>\n",
       "    </tr>\n",
       "    <tr>\n",
       "      <th>15</th>\n",
       "      <td>Bakery &amp; Desserts</td>\n",
       "      <td>$59.99</td>\n",
       "      <td>No Discount</td>\n",
       "      <td>Rated 4.5 out of 5 stars based on 452 reviews.</td>\n",
       "      <td>David’s Cookies Variety Cheesecakes, 2-pack (2...</td>\n",
       "      <td>$</td>\n",
       "      <td>\"10\"\" Cheesecakes, 2-count\\n1 Turtle Style, Ch...</td>\n",
       "      <td>We've done it again with our Turtle Cheesecake...</td>\n",
       "    </tr>\n",
       "    <tr>\n",
       "      <th>843</th>\n",
       "      <td>Kirkland Signature Grocery</td>\n",
       "      <td>$52.99</td>\n",
       "      <td>No Discount</td>\n",
       "      <td>Rated 4.6 out of 5 stars based on 3871 reviews.</td>\n",
       "      <td>Kirkland Signature Nature's Domain Salmon &amp; Sw...</td>\n",
       "      <td>$</td>\n",
       "      <td>Salmon &amp; Sweet Potato Formula\\nGrain-Free\\n35 ...</td>\n",
       "      <td>Item may be available in your local warehouse ...</td>\n",
       "    </tr>\n",
       "    <tr>\n",
       "      <th>558</th>\n",
       "      <td>Deli</td>\n",
       "      <td>$249.99</td>\n",
       "      <td>No Discount</td>\n",
       "      <td>Rated 4.2 out of 5 stars based on 42 reviews.</td>\n",
       "      <td>Tsar Nicoulai Caviar Tasting Flight Gift Set</td>\n",
       "      <td>$</td>\n",
       "      <td>Vacuum sealed Caviar jar keeps 60 days unopene...</td>\n",
       "      <td>Enjoy a caviar tasting experience inspired by ...</td>\n",
       "    </tr>\n",
       "    <tr>\n",
       "      <th>515</th>\n",
       "      <td>Coffee</td>\n",
       "      <td>$16.99</td>\n",
       "      <td>No Discount</td>\n",
       "      <td>NaN</td>\n",
       "      <td>Nestlé Coffee-mate Coffee Creamer, Hazelnut, P...</td>\n",
       "      <td>$</td>\n",
       "      <td>1.5-liter Pump Bottle full of Liquid Creamer  ...</td>\n",
       "      <td>The nutty Hazelnut flavored Nestlé Coffee-mate...</td>\n",
       "    </tr>\n",
       "  </tbody>\n",
       "</table>\n",
       "</div>"
      ],
      "text/plain": [
       "                    Sub Category     Price     Discount  \\\n",
       "795                    Household   $17.99   No Discount   \n",
       "28             Bakery & Desserts   $34.99   No Discount   \n",
       "1404    Paper & Plastic Products   $28.99   No Discount   \n",
       "1219          Pantry & Dry Goods   $10.99   No Discount   \n",
       "1506                      Snacks    $9.99   No Discount   \n",
       "129            Beverages & Water   $74.99   No Discount   \n",
       "15             Bakery & Desserts   $59.99   No Discount   \n",
       "843   Kirkland Signature Grocery   $52.99   No Discount   \n",
       "558                         Deli  $249.99   No Discount   \n",
       "515                       Coffee   $16.99   No Discount   \n",
       "\n",
       "                                               Rating  \\\n",
       "795                                               NaN   \n",
       "28     Rated 4.5 out of 5 stars based on 702 reviews.   \n",
       "1404                                              NaN   \n",
       "1219                                              NaN   \n",
       "1506                                              NaN   \n",
       "129    Rated 4.3 out of 5 stars based on 354 reviews.   \n",
       "15     Rated 4.5 out of 5 stars based on 452 reviews.   \n",
       "843   Rated 4.6 out of 5 stars based on 3871 reviews.   \n",
       "558     Rated 4.2 out of 5 stars based on 42 reviews.   \n",
       "515                                               NaN   \n",
       "\n",
       "                                                  Title Currency  \\\n",
       "795   Post-it Notes, Canary Yellow, 3\" x 3\" 100 Shee...        $   \n",
       "28              Ferrara's Bakery Rainbow Cookies 1.5 lb        $   \n",
       "1404  Polyvinyl Films All Purpose Food Wrap, 18 in x...        $   \n",
       "1219       Prego, Pasta Sauce Low Sodium 45 oz, 3-Count        $   \n",
       "1506  Lance Toasty Cracker Sandwiches, 1.29 oz, 40-c...        $   \n",
       "129   Pressed Cold-Pressed Greens, Roots & Citrus Bu...        $   \n",
       "15    David’s Cookies Variety Cheesecakes, 2-pack (2...        $   \n",
       "843   Kirkland Signature Nature's Domain Salmon & Sw...        $   \n",
       "558       Tsar Nicoulai Caviar Tasting Flight Gift Set         $   \n",
       "515   Nestlé Coffee-mate Coffee Creamer, Hazelnut, P...        $   \n",
       "\n",
       "                                                Feature  \\\n",
       "795                                                 NaN   \n",
       "28    Tricolor Rainbow Cookies   Each cookie is appr...   \n",
       "1404  More Cling   More Stretch   More Strength   Ma...   \n",
       "1219  Italian Sauce   Traditional Lower Sodium   Glu...   \n",
       "1506  Real Peanut Butter   No High-Fructose Corn Syr...   \n",
       "129   12 Oz. Bottles\\nNo Sugars Added, No Added Wate...   \n",
       "15    \"10\"\" Cheesecakes, 2-count\\n1 Turtle Style, Ch...   \n",
       "843   Salmon & Sweet Potato Formula\\nGrain-Free\\n35 ...   \n",
       "558   Vacuum sealed Caviar jar keeps 60 days unopene...   \n",
       "515   1.5-liter Pump Bottle full of Liquid Creamer  ...   \n",
       "\n",
       "                                    Product Description  \n",
       "795   Model: MMM202624YWSelf Stick NotesCanary Yello...  \n",
       "28    Ferrara's Bakery of Little Italy in New York C...  \n",
       "1404  Wrap BowlsCover TraysGreat InsulatorUse in Mic...  \n",
       "1219  25% Lower Sodium Than Prego Traditional\\n40% o...  \n",
       "1506                                      1.29 oz Packs  \n",
       "129   Due to the perishable nature of this item, ord...  \n",
       "15    We've done it again with our Turtle Cheesecake...  \n",
       "843   Item may be available in your local warehouse ...  \n",
       "558   Enjoy a caviar tasting experience inspired by ...  \n",
       "515   The nutty Hazelnut flavored Nestlé Coffee-mate...  "
      ]
     },
     "execution_count": 2,
     "metadata": {},
     "output_type": "execute_result"
    }
   ],
   "source": [
    "data = pd.read_csv(\"/kaggle/input/grocery-store-dataset/GroceryDataset.csv\")\n",
    "data.sample(10)"
   ]
  },
  {
   "cell_type": "markdown",
   "id": "28f85145",
   "metadata": {
    "papermill": {
     "duration": 0.005139,
     "end_time": "2024-01-15T16:58:02.711929",
     "exception": false,
     "start_time": "2024-01-15T16:58:02.706790",
     "status": "completed"
    },
    "tags": []
   },
   "source": [
    "1. Check for Missing Value\n",
    "1. Fix datatype\n",
    "1. encode categorical data\n",
    "1. change rating column to something numerical value\n",
    "1. Fetch quantiy from title\n",
    "1. check out differnt currency to purchases"
   ]
  },
  {
   "cell_type": "code",
   "execution_count": 3,
   "id": "4b3df4b4",
   "metadata": {
    "execution": {
     "iopub.execute_input": "2024-01-15T16:58:02.724922Z",
     "iopub.status.busy": "2024-01-15T16:58:02.723845Z",
     "iopub.status.idle": "2024-01-15T16:58:02.730487Z",
     "shell.execute_reply": "2024-01-15T16:58:02.729694Z"
    },
    "papermill": {
     "duration": 0.015149,
     "end_time": "2024-01-15T16:58:02.732435",
     "exception": false,
     "start_time": "2024-01-15T16:58:02.717286",
     "status": "completed"
    },
    "tags": []
   },
   "outputs": [
    {
     "data": {
      "text/plain": [
       "(1757, 8)"
      ]
     },
     "execution_count": 3,
     "metadata": {},
     "output_type": "execute_result"
    }
   ],
   "source": [
    "data.shape"
   ]
  },
  {
   "cell_type": "markdown",
   "id": "88dc355e",
   "metadata": {
    "papermill": {
     "duration": 0.00584,
     "end_time": "2024-01-15T16:58:02.744649",
     "exception": false,
     "start_time": "2024-01-15T16:58:02.738809",
     "status": "completed"
    },
    "tags": []
   },
   "source": [
    "## 1. Check and Fix Missing Value\n",
    "> Here, I can see Price column has 3 missing value, Rating has 1075 missing value, currency has 5, Feature has 18 and Product Discription has 42 missing value."
   ]
  },
  {
   "cell_type": "code",
   "execution_count": 4,
   "id": "0827783e",
   "metadata": {
    "execution": {
     "iopub.execute_input": "2024-01-15T16:58:02.756953Z",
     "iopub.status.busy": "2024-01-15T16:58:02.756625Z",
     "iopub.status.idle": "2024-01-15T16:58:02.764760Z",
     "shell.execute_reply": "2024-01-15T16:58:02.763819Z"
    },
    "papermill": {
     "duration": 0.016671,
     "end_time": "2024-01-15T16:58:02.766760",
     "exception": false,
     "start_time": "2024-01-15T16:58:02.750089",
     "status": "completed"
    },
    "tags": []
   },
   "outputs": [
    {
     "data": {
      "text/plain": [
       "Sub Category              0\n",
       "Price                     3\n",
       "Discount                  0\n",
       "Rating                 1075\n",
       "Title                     0\n",
       "Currency                  5\n",
       "Feature                  18\n",
       "Product Description      42\n",
       "dtype: int64"
      ]
     },
     "execution_count": 4,
     "metadata": {},
     "output_type": "execute_result"
    }
   ],
   "source": [
    "data.isnull().sum()"
   ]
  },
  {
   "cell_type": "markdown",
   "id": "0f7790e2",
   "metadata": {
    "papermill": {
     "duration": 0.005431,
     "end_time": "2024-01-15T16:58:02.777917",
     "exception": false,
     "start_time": "2024-01-15T16:58:02.772486",
     "status": "completed"
    },
    "tags": []
   },
   "source": [
    "### 1.a). Find missing value percentage.\n",
    "- if any column has more then 60 percentage of data is missing value then it is good idea to remove that columns\n",
    "- Missing Value Percentage = (Total Number of Values/Number of Missing Values)×100"
   ]
  },
  {
   "cell_type": "code",
   "execution_count": 5,
   "id": "1edead5e",
   "metadata": {
    "execution": {
     "iopub.execute_input": "2024-01-15T16:58:02.791258Z",
     "iopub.status.busy": "2024-01-15T16:58:02.790628Z",
     "iopub.status.idle": "2024-01-15T16:58:02.795398Z",
     "shell.execute_reply": "2024-01-15T16:58:02.794456Z"
    },
    "papermill": {
     "duration": 0.013897,
     "end_time": "2024-01-15T16:58:02.797459",
     "exception": false,
     "start_time": "2024-01-15T16:58:02.783562",
     "status": "completed"
    },
    "tags": []
   },
   "outputs": [],
   "source": [
    "def find_percentage(columns_name):\n",
    "    missing_cnt = columns_name.isnull().sum()\n",
    "    total_cnt = columns_name.shape\n",
    "    missing_percentage = ((missing_cnt/total_cnt)*100).round(2)\n",
    "    return missing_percentage"
   ]
  },
  {
   "cell_type": "code",
   "execution_count": 6,
   "id": "049f393e",
   "metadata": {
    "execution": {
     "iopub.execute_input": "2024-01-15T16:58:02.810314Z",
     "iopub.status.busy": "2024-01-15T16:58:02.809983Z",
     "iopub.status.idle": "2024-01-15T16:58:02.826672Z",
     "shell.execute_reply": "2024-01-15T16:58:02.825705Z"
    },
    "papermill": {
     "duration": 0.02568,
     "end_time": "2024-01-15T16:58:02.828852",
     "exception": false,
     "start_time": "2024-01-15T16:58:02.803172",
     "status": "completed"
    },
    "tags": []
   },
   "outputs": [
    {
     "data": {
      "text/html": [
       "<div>\n",
       "<style scoped>\n",
       "    .dataframe tbody tr th:only-of-type {\n",
       "        vertical-align: middle;\n",
       "    }\n",
       "\n",
       "    .dataframe tbody tr th {\n",
       "        vertical-align: top;\n",
       "    }\n",
       "\n",
       "    .dataframe thead th {\n",
       "        text-align: right;\n",
       "    }\n",
       "</style>\n",
       "<table border=\"1\" class=\"dataframe\">\n",
       "  <thead>\n",
       "    <tr style=\"text-align: right;\">\n",
       "      <th></th>\n",
       "      <th>Sub Category</th>\n",
       "      <th>Price</th>\n",
       "      <th>Discount</th>\n",
       "      <th>Rating</th>\n",
       "      <th>Title</th>\n",
       "      <th>Currency</th>\n",
       "      <th>Feature</th>\n",
       "      <th>Product Description</th>\n",
       "    </tr>\n",
       "  </thead>\n",
       "  <tbody>\n",
       "    <tr>\n",
       "      <th>0</th>\n",
       "      <td>0.0</td>\n",
       "      <td>0.17</td>\n",
       "      <td>0.0</td>\n",
       "      <td>61.18</td>\n",
       "      <td>0.0</td>\n",
       "      <td>0.28</td>\n",
       "      <td>1.02</td>\n",
       "      <td>2.39</td>\n",
       "    </tr>\n",
       "  </tbody>\n",
       "</table>\n",
       "</div>"
      ],
      "text/plain": [
       "   Sub Category  Price  Discount  Rating  Title  Currency  Feature  \\\n",
       "0           0.0   0.17       0.0   61.18    0.0      0.28     1.02   \n",
       "\n",
       "   Product Description  \n",
       "0                 2.39  "
      ]
     },
     "execution_count": 6,
     "metadata": {},
     "output_type": "execute_result"
    }
   ],
   "source": [
    "data.apply(find_percentage)"
   ]
  },
  {
   "cell_type": "markdown",
   "id": "7ff7f5c3",
   "metadata": {
    "papermill": {
     "duration": 0.005465,
     "end_time": "2024-01-15T16:58:02.840157",
     "exception": false,
     "start_time": "2024-01-15T16:58:02.834692",
     "status": "completed"
    },
    "tags": []
   },
   "source": [
    "### 1.b). Drop Rating Column "
   ]
  },
  {
   "cell_type": "code",
   "execution_count": 7,
   "id": "14221620",
   "metadata": {
    "execution": {
     "iopub.execute_input": "2024-01-15T16:58:02.853297Z",
     "iopub.status.busy": "2024-01-15T16:58:02.852949Z",
     "iopub.status.idle": "2024-01-15T16:58:02.861785Z",
     "shell.execute_reply": "2024-01-15T16:58:02.860780Z"
    },
    "papermill": {
     "duration": 0.01789,
     "end_time": "2024-01-15T16:58:02.863727",
     "exception": false,
     "start_time": "2024-01-15T16:58:02.845837",
     "status": "completed"
    },
    "tags": []
   },
   "outputs": [],
   "source": [
    "#since Rating has 61.18 percentage of null value so drop the columns\n",
    "data.drop(['Rating'], axis=1, inplace=True)"
   ]
  },
  {
   "cell_type": "markdown",
   "id": "5f977a5e",
   "metadata": {
    "papermill": {
     "duration": 0.005442,
     "end_time": "2024-01-15T16:58:02.875031",
     "exception": false,
     "start_time": "2024-01-15T16:58:02.869589",
     "status": "completed"
    },
    "tags": []
   },
   "source": [
    "### 1.c). Handle Missing Value\n",
    "1. Price\n",
    "1. Currency\n",
    "1. Feature\n",
    "1. Product Description"
   ]
  },
  {
   "cell_type": "code",
   "execution_count": 8,
   "id": "4654aab7",
   "metadata": {
    "execution": {
     "iopub.execute_input": "2024-01-15T16:58:02.888096Z",
     "iopub.status.busy": "2024-01-15T16:58:02.887317Z",
     "iopub.status.idle": "2024-01-15T16:58:02.897333Z",
     "shell.execute_reply": "2024-01-15T16:58:02.896456Z"
    },
    "papermill": {
     "duration": 0.01878,
     "end_time": "2024-01-15T16:58:02.899457",
     "exception": false,
     "start_time": "2024-01-15T16:58:02.880677",
     "status": "completed"
    },
    "tags": []
   },
   "outputs": [],
   "source": [
    "data['Price'] = data['Price'].str.replace('[^\\d.]', '', regex=True)\n",
    "data['Price'] = pd.to_numeric(data['Price'], errors='coerce')\n",
    "data['Price'] = data['Price'].round(2)\n"
   ]
  },
  {
   "cell_type": "code",
   "execution_count": 9,
   "id": "7077cb0f",
   "metadata": {
    "execution": {
     "iopub.execute_input": "2024-01-15T16:58:02.912923Z",
     "iopub.status.busy": "2024-01-15T16:58:02.912231Z",
     "iopub.status.idle": "2024-01-15T16:58:02.928579Z",
     "shell.execute_reply": "2024-01-15T16:58:02.927557Z"
    },
    "papermill": {
     "duration": 0.025441,
     "end_time": "2024-01-15T16:58:02.930799",
     "exception": false,
     "start_time": "2024-01-15T16:58:02.905358",
     "status": "completed"
    },
    "tags": []
   },
   "outputs": [
    {
     "data": {
      "text/html": [
       "<div>\n",
       "<style scoped>\n",
       "    .dataframe tbody tr th:only-of-type {\n",
       "        vertical-align: middle;\n",
       "    }\n",
       "\n",
       "    .dataframe tbody tr th {\n",
       "        vertical-align: top;\n",
       "    }\n",
       "\n",
       "    .dataframe thead th {\n",
       "        text-align: right;\n",
       "    }\n",
       "</style>\n",
       "<table border=\"1\" class=\"dataframe\">\n",
       "  <thead>\n",
       "    <tr style=\"text-align: right;\">\n",
       "      <th></th>\n",
       "      <th>Sub Category</th>\n",
       "      <th>Price</th>\n",
       "      <th>Discount</th>\n",
       "      <th>Title</th>\n",
       "      <th>Currency</th>\n",
       "      <th>Feature</th>\n",
       "      <th>Product Description</th>\n",
       "    </tr>\n",
       "  </thead>\n",
       "  <tbody>\n",
       "    <tr>\n",
       "      <th>389</th>\n",
       "      <td>Cleaning Supplies</td>\n",
       "      <td>NaN</td>\n",
       "      <td>No Discount</td>\n",
       "      <td>simplehuman Custom Fit Liners, 300-pack</td>\n",
       "      <td>$</td>\n",
       "      <td>Perfectly Fits simplehuman Sensor and Step Can...</td>\n",
       "      <td>Limit 5 per memberOur custom fit liners are de...</td>\n",
       "    </tr>\n",
       "    <tr>\n",
       "      <th>578</th>\n",
       "      <td>Floral</td>\n",
       "      <td>NaN</td>\n",
       "      <td>No Discount</td>\n",
       "      <td>Inspire Floral Arrangement</td>\n",
       "      <td>$</td>\n",
       "      <td>Farm Fresh Flowers   Pick Your Arrival Date at...</td>\n",
       "      <td>Let this great combination of flowers, colors ...</td>\n",
       "    </tr>\n",
       "    <tr>\n",
       "      <th>579</th>\n",
       "      <td>Floral</td>\n",
       "      <td>NaN</td>\n",
       "      <td>No Discount</td>\n",
       "      <td>Tranquility Vase Arrangement</td>\n",
       "      <td>$</td>\n",
       "      <td>Farm Fresh Flowers   Pick Your Arrival Date at...</td>\n",
       "      <td>Let your mind drift away into tranquil thought...</td>\n",
       "    </tr>\n",
       "    <tr>\n",
       "      <th>581</th>\n",
       "      <td>Floral</td>\n",
       "      <td>NaN</td>\n",
       "      <td>No Discount</td>\n",
       "      <td>Passion Vase Arrangement</td>\n",
       "      <td>$</td>\n",
       "      <td>Farm Fresh Flowers   Pick Your Arrival Date at...</td>\n",
       "      <td>Fuel your Passion, Find Your Passion, Follow y...</td>\n",
       "    </tr>\n",
       "    <tr>\n",
       "      <th>589</th>\n",
       "      <td>Floral</td>\n",
       "      <td>NaN</td>\n",
       "      <td>No Discount</td>\n",
       "      <td>Day Dream Vase Arrangement</td>\n",
       "      <td>$</td>\n",
       "      <td>Farm Fresh Flowers   Pick Your Arrival Date at...</td>\n",
       "      <td>Don't quit your daydreams as they bring joy to...</td>\n",
       "    </tr>\n",
       "    <tr>\n",
       "      <th>611</th>\n",
       "      <td>Floral</td>\n",
       "      <td>NaN</td>\n",
       "      <td>No Discount</td>\n",
       "      <td>Valentine's Day Pre-Order Endless Love</td>\n",
       "      <td>$</td>\n",
       "      <td>Pick Your Arrival Date at Checkout   Gift Mess...</td>\n",
       "      <td>Artistically designed and hand-tied, the Endle...</td>\n",
       "    </tr>\n",
       "    <tr>\n",
       "      <th>630</th>\n",
       "      <td>Floral</td>\n",
       "      <td>NaN</td>\n",
       "      <td>No Discount</td>\n",
       "      <td>Valentine's Day Perfect Love</td>\n",
       "      <td>$</td>\n",
       "      <td>Pick Your Arrival Date at Checkout   Gift Mess...</td>\n",
       "      <td>Artistically designed and hand-tied, the Perfe...</td>\n",
       "    </tr>\n",
       "    <tr>\n",
       "      <th>633</th>\n",
       "      <td>Floral</td>\n",
       "      <td>NaN</td>\n",
       "      <td>No Discount</td>\n",
       "      <td>Soft Grace Wedding Collection</td>\n",
       "      <td>$</td>\n",
       "      <td>Pre-Order Months in Advance   4-Piece, 10-Piec...</td>\n",
       "      <td>Costco.com offers a magnificent assortment of ...</td>\n",
       "    </tr>\n",
       "    <tr>\n",
       "      <th>635</th>\n",
       "      <td>Floral</td>\n",
       "      <td>NaN</td>\n",
       "      <td>No Discount</td>\n",
       "      <td>Wedding Variety Collection</td>\n",
       "      <td>$</td>\n",
       "      <td>Pre-Order Months in Advance   6-Piece or 10-Pi...</td>\n",
       "      <td>6-piece Candle Rings Includes:\\n• Six (6) 12\" ...</td>\n",
       "    </tr>\n",
       "    <tr>\n",
       "      <th>639</th>\n",
       "      <td>Floral</td>\n",
       "      <td>NaN</td>\n",
       "      <td>No Discount</td>\n",
       "      <td>Orange Sorbet Wedding Package</td>\n",
       "      <td>$</td>\n",
       "      <td>Pre-Order Months in Advance   4-Piece, 10-Piec...</td>\n",
       "      <td>Costco.com offers a magnificent assortment of ...</td>\n",
       "    </tr>\n",
       "    <tr>\n",
       "      <th>640</th>\n",
       "      <td>Floral</td>\n",
       "      <td>NaN</td>\n",
       "      <td>No Discount</td>\n",
       "      <td>Blush Wedding Collection</td>\n",
       "      <td>$</td>\n",
       "      <td>Pre-Order Months in Advance   4-Piece, 10-Piec...</td>\n",
       "      <td>For the bride that loves that Antique and Vint...</td>\n",
       "    </tr>\n",
       "    <tr>\n",
       "      <th>976</th>\n",
       "      <td>Meat &amp; Seafood</td>\n",
       "      <td>NaN</td>\n",
       "      <td>After $40 - $80 OFF</td>\n",
       "      <td>Kansas City Steak Company USDA Choice Ribeye S...</td>\n",
       "      <td>$</td>\n",
       "      <td>Buy More and Save   Aged Beef up to 28 Days   ...</td>\n",
       "      <td>These steaks are cut by Kansas City Steak Comp...</td>\n",
       "    </tr>\n",
       "    <tr>\n",
       "      <th>977</th>\n",
       "      <td>Meat &amp; Seafood</td>\n",
       "      <td>NaN</td>\n",
       "      <td>After $40 - $70 OFF</td>\n",
       "      <td>Kansas City Steak Company USDA Choice NY Strip...</td>\n",
       "      <td>$</td>\n",
       "      <td>Buy More and Save   Aged Beef up to 28 Days   ...</td>\n",
       "      <td>These steaks are cut by Kansas City Steak Comp...</td>\n",
       "    </tr>\n",
       "    <tr>\n",
       "      <th>1064</th>\n",
       "      <td>Meat &amp; Seafood</td>\n",
       "      <td>NaN</td>\n",
       "      <td>.</td>\n",
       "      <td>Hillshire Farm Slow Roasted Turkey Breast, 11 ...</td>\n",
       "      <td>NaN</td>\n",
       "      <td>Gluten Free   No Artificial Ingredients   No N...</td>\n",
       "      <td>Available at your local Costco warehouse or cl...</td>\n",
       "    </tr>\n",
       "    <tr>\n",
       "      <th>1089</th>\n",
       "      <td>Meat &amp; Seafood</td>\n",
       "      <td>NaN</td>\n",
       "      <td>No Discount</td>\n",
       "      <td>Kansas City Steak Company USDA Choice Filet Mi...</td>\n",
       "      <td>$</td>\n",
       "      <td>Buy More and Save   Aged Beef up to 28 Days   ...</td>\n",
       "      <td>These steaks are cut by Kansas City Steak Comp...</td>\n",
       "    </tr>\n",
       "    <tr>\n",
       "      <th>1414</th>\n",
       "      <td>Poultry</td>\n",
       "      <td>NaN</td>\n",
       "      <td>.</td>\n",
       "      <td>Hillshire Farm Slow Roasted Turkey Breast, 11 ...</td>\n",
       "      <td>NaN</td>\n",
       "      <td>Gluten Free   No Artificial Ingredients   No N...</td>\n",
       "      <td>Available at your local Costco warehouse or cl...</td>\n",
       "    </tr>\n",
       "    <tr>\n",
       "      <th>1480</th>\n",
       "      <td>Snacks</td>\n",
       "      <td>NaN</td>\n",
       "      <td>Costco Members Receive an Additional $5 OFF Ca...</td>\n",
       "      <td>FITCRUNCH - Costco Next</td>\n",
       "      <td>NaN</td>\n",
       "      <td>Non-GMO   Gluten Free   Soy Free   Flavor Mixo...</td>\n",
       "      <td>Shop Costco Next   Chef Robert Irvine’s FITCRU...</td>\n",
       "    </tr>\n",
       "  </tbody>\n",
       "</table>\n",
       "</div>"
      ],
      "text/plain": [
       "           Sub Category  Price  \\\n",
       "389   Cleaning Supplies    NaN   \n",
       "578              Floral    NaN   \n",
       "579              Floral    NaN   \n",
       "581              Floral    NaN   \n",
       "589              Floral    NaN   \n",
       "611              Floral    NaN   \n",
       "630              Floral    NaN   \n",
       "633              Floral    NaN   \n",
       "635              Floral    NaN   \n",
       "639              Floral    NaN   \n",
       "640              Floral    NaN   \n",
       "976      Meat & Seafood    NaN   \n",
       "977      Meat & Seafood    NaN   \n",
       "1064     Meat & Seafood    NaN   \n",
       "1089     Meat & Seafood    NaN   \n",
       "1414            Poultry    NaN   \n",
       "1480             Snacks    NaN   \n",
       "\n",
       "                                               Discount  \\\n",
       "389                                         No Discount   \n",
       "578                                         No Discount   \n",
       "579                                         No Discount   \n",
       "581                                         No Discount   \n",
       "589                                         No Discount   \n",
       "611                                         No Discount   \n",
       "630                                         No Discount   \n",
       "633                                         No Discount   \n",
       "635                                         No Discount   \n",
       "639                                         No Discount   \n",
       "640                                         No Discount   \n",
       "976                                 After $40 - $80 OFF   \n",
       "977                                 After $40 - $70 OFF   \n",
       "1064                                                  .   \n",
       "1089                                        No Discount   \n",
       "1414                                                  .   \n",
       "1480  Costco Members Receive an Additional $5 OFF Ca...   \n",
       "\n",
       "                                                  Title Currency  \\\n",
       "389             simplehuman Custom Fit Liners, 300-pack        $   \n",
       "578                          Inspire Floral Arrangement        $   \n",
       "579                       Tranquility Vase Arrangement         $   \n",
       "581                            Passion Vase Arrangement        $   \n",
       "589                         Day Dream Vase Arrangement         $   \n",
       "611             Valentine's Day Pre-Order Endless Love         $   \n",
       "630                       Valentine's Day Perfect Love         $   \n",
       "633                       Soft Grace Wedding Collection        $   \n",
       "635                          Wedding Variety Collection        $   \n",
       "639                       Orange Sorbet Wedding Package        $   \n",
       "640                            Blush Wedding Collection        $   \n",
       "976   Kansas City Steak Company USDA Choice Ribeye S...        $   \n",
       "977   Kansas City Steak Company USDA Choice NY Strip...        $   \n",
       "1064  Hillshire Farm Slow Roasted Turkey Breast, 11 ...      NaN   \n",
       "1089  Kansas City Steak Company USDA Choice Filet Mi...        $   \n",
       "1414  Hillshire Farm Slow Roasted Turkey Breast, 11 ...      NaN   \n",
       "1480                            FITCRUNCH - Costco Next      NaN   \n",
       "\n",
       "                                                Feature  \\\n",
       "389   Perfectly Fits simplehuman Sensor and Step Can...   \n",
       "578   Farm Fresh Flowers   Pick Your Arrival Date at...   \n",
       "579   Farm Fresh Flowers   Pick Your Arrival Date at...   \n",
       "581   Farm Fresh Flowers   Pick Your Arrival Date at...   \n",
       "589   Farm Fresh Flowers   Pick Your Arrival Date at...   \n",
       "611   Pick Your Arrival Date at Checkout   Gift Mess...   \n",
       "630   Pick Your Arrival Date at Checkout   Gift Mess...   \n",
       "633   Pre-Order Months in Advance   4-Piece, 10-Piec...   \n",
       "635   Pre-Order Months in Advance   6-Piece or 10-Pi...   \n",
       "639   Pre-Order Months in Advance   4-Piece, 10-Piec...   \n",
       "640   Pre-Order Months in Advance   4-Piece, 10-Piec...   \n",
       "976   Buy More and Save   Aged Beef up to 28 Days   ...   \n",
       "977   Buy More and Save   Aged Beef up to 28 Days   ...   \n",
       "1064  Gluten Free   No Artificial Ingredients   No N...   \n",
       "1089  Buy More and Save   Aged Beef up to 28 Days   ...   \n",
       "1414  Gluten Free   No Artificial Ingredients   No N...   \n",
       "1480  Non-GMO   Gluten Free   Soy Free   Flavor Mixo...   \n",
       "\n",
       "                                    Product Description  \n",
       "389   Limit 5 per memberOur custom fit liners are de...  \n",
       "578   Let this great combination of flowers, colors ...  \n",
       "579   Let your mind drift away into tranquil thought...  \n",
       "581   Fuel your Passion, Find Your Passion, Follow y...  \n",
       "589   Don't quit your daydreams as they bring joy to...  \n",
       "611   Artistically designed and hand-tied, the Endle...  \n",
       "630   Artistically designed and hand-tied, the Perfe...  \n",
       "633   Costco.com offers a magnificent assortment of ...  \n",
       "635   6-piece Candle Rings Includes:\\n• Six (6) 12\" ...  \n",
       "639   Costco.com offers a magnificent assortment of ...  \n",
       "640   For the bride that loves that Antique and Vint...  \n",
       "976   These steaks are cut by Kansas City Steak Comp...  \n",
       "977   These steaks are cut by Kansas City Steak Comp...  \n",
       "1064  Available at your local Costco warehouse or cl...  \n",
       "1089  These steaks are cut by Kansas City Steak Comp...  \n",
       "1414  Available at your local Costco warehouse or cl...  \n",
       "1480  Shop Costco Next   Chef Robert Irvine’s FITCRU...  "
      ]
     },
     "execution_count": 9,
     "metadata": {},
     "output_type": "execute_result"
    }
   ],
   "source": [
    "data[data['Price'].isnull()]"
   ]
  },
  {
   "cell_type": "code",
   "execution_count": 10,
   "id": "0eacced1",
   "metadata": {
    "execution": {
     "iopub.execute_input": "2024-01-15T16:58:02.945356Z",
     "iopub.status.busy": "2024-01-15T16:58:02.944709Z",
     "iopub.status.idle": "2024-01-15T16:58:02.951443Z",
     "shell.execute_reply": "2024-01-15T16:58:02.950534Z"
    },
    "papermill": {
     "duration": 0.016153,
     "end_time": "2024-01-15T16:58:02.953468",
     "exception": false,
     "start_time": "2024-01-15T16:58:02.937315",
     "status": "completed"
    },
    "tags": []
   },
   "outputs": [
    {
     "data": {
      "text/plain": [
       "17"
      ]
     },
     "execution_count": 10,
     "metadata": {},
     "output_type": "execute_result"
    }
   ],
   "source": [
    "data['Price'].isnull().sum()"
   ]
  },
  {
   "cell_type": "code",
   "execution_count": 11,
   "id": "3146566a",
   "metadata": {
    "execution": {
     "iopub.execute_input": "2024-01-15T16:58:02.968672Z",
     "iopub.status.busy": "2024-01-15T16:58:02.968249Z",
     "iopub.status.idle": "2024-01-15T16:58:02.976444Z",
     "shell.execute_reply": "2024-01-15T16:58:02.975552Z"
    },
    "papermill": {
     "duration": 0.01861,
     "end_time": "2024-01-15T16:58:02.978457",
     "exception": false,
     "start_time": "2024-01-15T16:58:02.959847",
     "status": "completed"
    },
    "tags": []
   },
   "outputs": [
    {
     "data": {
      "text/plain": [
       "(1682, 7)"
      ]
     },
     "execution_count": 11,
     "metadata": {},
     "output_type": "execute_result"
    }
   ],
   "source": [
    "df = data.dropna()\n",
    "df.shape"
   ]
  },
  {
   "cell_type": "code",
   "execution_count": 12,
   "id": "353186e6",
   "metadata": {
    "execution": {
     "iopub.execute_input": "2024-01-15T16:58:02.993117Z",
     "iopub.status.busy": "2024-01-15T16:58:02.992737Z",
     "iopub.status.idle": "2024-01-15T16:58:03.001645Z",
     "shell.execute_reply": "2024-01-15T16:58:03.000625Z"
    },
    "papermill": {
     "duration": 0.018681,
     "end_time": "2024-01-15T16:58:03.003694",
     "exception": false,
     "start_time": "2024-01-15T16:58:02.985013",
     "status": "completed"
    },
    "tags": []
   },
   "outputs": [
    {
     "data": {
      "text/plain": [
       "Sub Category           0\n",
       "Price                  0\n",
       "Discount               0\n",
       "Title                  0\n",
       "Currency               0\n",
       "Feature                0\n",
       "Product Description    0\n",
       "dtype: int64"
      ]
     },
     "execution_count": 12,
     "metadata": {},
     "output_type": "execute_result"
    }
   ],
   "source": [
    "df.isnull().sum()"
   ]
  },
  {
   "cell_type": "markdown",
   "id": "8a6fa312",
   "metadata": {
    "execution": {
     "iopub.execute_input": "2024-01-15T14:23:32.589792Z",
     "iopub.status.busy": "2024-01-15T14:23:32.589322Z",
     "iopub.status.idle": "2024-01-15T14:23:32.594386Z",
     "shell.execute_reply": "2024-01-15T14:23:32.593531Z",
     "shell.execute_reply.started": "2024-01-15T14:23:32.589757Z"
    },
    "papermill": {
     "duration": 0.006461,
     "end_time": "2024-01-15T16:58:03.016835",
     "exception": false,
     "start_time": "2024-01-15T16:58:03.010374",
     "status": "completed"
    },
    "tags": []
   },
   "source": [
    "### Display Unique Sub Category"
   ]
  },
  {
   "cell_type": "code",
   "execution_count": 13,
   "id": "1536cd8d",
   "metadata": {
    "execution": {
     "iopub.execute_input": "2024-01-15T16:58:03.031615Z",
     "iopub.status.busy": "2024-01-15T16:58:03.031011Z",
     "iopub.status.idle": "2024-01-15T16:58:03.040890Z",
     "shell.execute_reply": "2024-01-15T16:58:03.039724Z"
    },
    "papermill": {
     "duration": 0.019311,
     "end_time": "2024-01-15T16:58:03.042772",
     "exception": false,
     "start_time": "2024-01-15T16:58:03.023461",
     "status": "completed"
    },
    "tags": []
   },
   "outputs": [
    {
     "name": "stdout",
     "output_type": "stream",
     "text": [
      "['Bakery & Desserts' 'Beverages & Water' 'Breakfast' 'Candy'\n",
      " 'Cleaning Supplies' 'Coffee' 'Deli' 'Floral' 'Gift Baskets' 'Household'\n",
      " 'Kirkland Signature Grocery' 'Laundry Detergent & Supplies'\n",
      " 'Meat & Seafood' 'Organic' 'Pantry & Dry Goods'\n",
      " 'Paper & Plastic Products' 'Poultry' 'Seafood' 'Snacks']\n",
      "\n",
      "Total Sub Category count = 19\n"
     ]
    }
   ],
   "source": [
    "print(data['Sub Category'].unique())\n",
    "print(\"\\nTotal Sub Category count =\", data['Sub Category'].nunique())"
   ]
  },
  {
   "cell_type": "code",
   "execution_count": 14,
   "id": "1ad616cf",
   "metadata": {
    "execution": {
     "iopub.execute_input": "2024-01-15T16:58:03.057970Z",
     "iopub.status.busy": "2024-01-15T16:58:03.057621Z",
     "iopub.status.idle": "2024-01-15T16:58:03.062838Z",
     "shell.execute_reply": "2024-01-15T16:58:03.061881Z"
    },
    "papermill": {
     "duration": 0.015435,
     "end_time": "2024-01-15T16:58:03.064986",
     "exception": false,
     "start_time": "2024-01-15T16:58:03.049551",
     "status": "completed"
    },
    "tags": []
   },
   "outputs": [
    {
     "name": "stdout",
     "output_type": "stream",
     "text": [
      "Original number: 3.456\n",
      "Rounded number: 3.46\n"
     ]
    }
   ],
   "source": [
    "# Example number\n",
    "number = 3.456\n",
    "\n",
    "# Round to two decimal places\n",
    "rounded_number = round(number, 2)\n",
    "\n",
    "# Print the result\n",
    "print(\"Original number:\", number)\n",
    "print(\"Rounded number:\", rounded_number)"
   ]
  },
  {
   "cell_type": "code",
   "execution_count": null,
   "id": "4589fa25",
   "metadata": {
    "papermill": {
     "duration": 0.006571,
     "end_time": "2024-01-15T16:58:03.078286",
     "exception": false,
     "start_time": "2024-01-15T16:58:03.071715",
     "status": "completed"
    },
    "tags": []
   },
   "outputs": [],
   "source": []
  }
 ],
 "metadata": {
  "kaggle": {
   "accelerator": "none",
   "dataSources": [
    {
     "datasetId": 4266581,
     "sourceId": 7347604,
     "sourceType": "datasetVersion"
    }
   ],
   "dockerImageVersionId": 30635,
   "isGpuEnabled": false,
   "isInternetEnabled": true,
   "language": "python",
   "sourceType": "notebook"
  },
  "kernelspec": {
   "display_name": "Python 3",
   "language": "python",
   "name": "python3"
  },
  "language_info": {
   "codemirror_mode": {
    "name": "ipython",
    "version": 3
   },
   "file_extension": ".py",
   "mimetype": "text/x-python",
   "name": "python",
   "nbconvert_exporter": "python",
   "pygments_lexer": "ipython3",
   "version": "3.10.12"
  },
  "papermill": {
   "default_parameters": {},
   "duration": 4.262299,
   "end_time": "2024-01-15T16:58:03.504565",
   "environment_variables": {},
   "exception": null,
   "input_path": "__notebook__.ipynb",
   "output_path": "__notebook__.ipynb",
   "parameters": {},
   "start_time": "2024-01-15T16:57:59.242266",
   "version": "2.4.0"
  }
 },
 "nbformat": 4,
 "nbformat_minor": 5
}
