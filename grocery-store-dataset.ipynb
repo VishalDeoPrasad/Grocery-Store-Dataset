{
 "cells": [
  {
   "cell_type": "code",
   "execution_count": 1,
   "id": "10673469",
   "metadata": {
    "_cell_guid": "b1076dfc-b9ad-4769-8c92-a6c4dae69d19",
    "_uuid": "8f2839f25d086af736a60e9eeb907d3b93b6e0e5",
    "execution": {
     "iopub.execute_input": "2024-01-17T19:49:19.348148Z",
     "iopub.status.busy": "2024-01-17T19:49:19.347759Z",
     "iopub.status.idle": "2024-01-17T19:49:20.986649Z",
     "shell.execute_reply": "2024-01-17T19:49:20.985234Z"
    },
    "papermill": {
     "duration": 1.65676,
     "end_time": "2024-01-17T19:49:20.989476",
     "exception": false,
     "start_time": "2024-01-17T19:49:19.332716",
     "status": "completed"
    },
    "tags": []
   },
   "outputs": [
    {
     "name": "stdout",
     "output_type": "stream",
     "text": [
      "/kaggle/input/grocery-store-dataset/GroceryDataset.csv\n"
     ]
    }
   ],
   "source": [
    "# This Python 3 environment comes with many helpful analytics libraries installed\n",
    "# It is defined by the kaggle/python Docker image: https://github.com/kaggle/docker-python\n",
    "# For example, here's several helpful packages to load\n",
    "\n",
    "import numpy as np # linear algebra\n",
    "import pandas as pd # data processing, CSV file I/O (e.g. pd.read_csv)\n",
    "import matplotlib.pyplot as plt\n",
    "import seaborn as sns\n",
    "\n",
    "# Input data files are available in the read-only \"../input/\" directory\n",
    "# For example, running this (by clicking run or pressing Shift+Enter) will list all files under the input directory\n",
    "\n",
    "import os\n",
    "for dirname, _, filenames in os.walk('/kaggle/input'):\n",
    "    for filename in filenames:\n",
    "        print(os.path.join(dirname, filename))\n",
    "\n",
    "# You can write up to 20GB to the current directory (/kaggle/working/) that gets preserved as output when you create a version using \"Save & Run All\" \n",
    "# You can also write temporary files to /kaggle/temp/, but they won't be saved outside of the current session"
   ]
  },
  {
   "cell_type": "code",
   "execution_count": 2,
   "id": "35700b10",
   "metadata": {
    "execution": {
     "iopub.execute_input": "2024-01-17T19:49:21.016281Z",
     "iopub.status.busy": "2024-01-17T19:49:21.015708Z",
     "iopub.status.idle": "2024-01-17T19:49:21.104147Z",
     "shell.execute_reply": "2024-01-17T19:49:21.102869Z"
    },
    "papermill": {
     "duration": 0.104524,
     "end_time": "2024-01-17T19:49:21.106626",
     "exception": false,
     "start_time": "2024-01-17T19:49:21.002102",
     "status": "completed"
    },
    "tags": []
   },
   "outputs": [
    {
     "data": {
      "text/html": [
       "<div>\n",
       "<style scoped>\n",
       "    .dataframe tbody tr th:only-of-type {\n",
       "        vertical-align: middle;\n",
       "    }\n",
       "\n",
       "    .dataframe tbody tr th {\n",
       "        vertical-align: top;\n",
       "    }\n",
       "\n",
       "    .dataframe thead th {\n",
       "        text-align: right;\n",
       "    }\n",
       "</style>\n",
       "<table border=\"1\" class=\"dataframe\">\n",
       "  <thead>\n",
       "    <tr style=\"text-align: right;\">\n",
       "      <th></th>\n",
       "      <th>Sub Category</th>\n",
       "      <th>Price</th>\n",
       "      <th>Discount</th>\n",
       "      <th>Rating</th>\n",
       "      <th>Title</th>\n",
       "      <th>Currency</th>\n",
       "      <th>Feature</th>\n",
       "      <th>Product Description</th>\n",
       "    </tr>\n",
       "  </thead>\n",
       "  <tbody>\n",
       "    <tr>\n",
       "      <th>1733</th>\n",
       "      <td>Snacks</td>\n",
       "      <td>$11.99</td>\n",
       "      <td>No Discount</td>\n",
       "      <td>NaN</td>\n",
       "      <td>Bimbo Mantecaditas Muffins, Vanilla, 2.47 oz, ...</td>\n",
       "      <td>$</td>\n",
       "      <td>Mantecaditas Muffins   Vanilla   2.47 oz Pack ...</td>\n",
       "      <td>Vanilla Flavored Muffins\\nEnjoy Them On The Go</td>\n",
       "    </tr>\n",
       "    <tr>\n",
       "      <th>540</th>\n",
       "      <td>Coffee</td>\n",
       "      <td>$13.99</td>\n",
       "      <td>No Discount</td>\n",
       "      <td>NaN</td>\n",
       "      <td>Caffe D'Vita, Instant Mocha Cappuccino, 4 lbs</td>\n",
       "      <td>$</td>\n",
       "      <td>Mocha Cappuccino   Gluten Free   Store in Dry ...</td>\n",
       "      <td>Hot,Iced, or Blended Cappuccino Drink Mix\\nAls...</td>\n",
       "    </tr>\n",
       "    <tr>\n",
       "      <th>1115</th>\n",
       "      <td>Meat &amp; Seafood</td>\n",
       "      <td>$649.99</td>\n",
       "      <td>No Discount</td>\n",
       "      <td>Rated 4.7 out of 5 stars based on 305 reviews.</td>\n",
       "      <td>Japanese Wagyu Filet Mignons Steaks, A5 Grade,...</td>\n",
       "      <td>$</td>\n",
       "      <td>(8) A5 Wagyu Filet Mignons Steaks, 6 ounces ea...</td>\n",
       "      <td>Cut from the heart of the tenderloin, Authenti...</td>\n",
       "    </tr>\n",
       "    <tr>\n",
       "      <th>1309</th>\n",
       "      <td>Pantry &amp; Dry Goods</td>\n",
       "      <td>$8.99</td>\n",
       "      <td>No Discount</td>\n",
       "      <td>NaN</td>\n",
       "      <td>C&amp;H, Brown Cane Sugar, 7 lbs</td>\n",
       "      <td>$</td>\n",
       "      <td>100% Pure Cane   Kosher   Non-GMO Project Veri...</td>\n",
       "      <td>Net Weight: 7 lbs</td>\n",
       "    </tr>\n",
       "    <tr>\n",
       "      <th>765</th>\n",
       "      <td>Household</td>\n",
       "      <td>$91.79</td>\n",
       "      <td>No Discount</td>\n",
       "      <td>NaN</td>\n",
       "      <td>HP 902XL High Yield Ink Cartridge, Black, 2-Count</td>\n",
       "      <td>$</td>\n",
       "      <td>Printer Compatibility: HP OfficeJet Pro: 6968,...</td>\n",
       "      <td>Item may be available in your local warehouse ...</td>\n",
       "    </tr>\n",
       "    <tr>\n",
       "      <th>1417</th>\n",
       "      <td>Seafood</td>\n",
       "      <td>$149.99</td>\n",
       "      <td>After $70 OFF</td>\n",
       "      <td>Rated 4.6 out of 5 stars based on 1237 reviews.</td>\n",
       "      <td>Ahi Tuna Individual Vacuum Packed Portion (26-...</td>\n",
       "      <td>$</td>\n",
       "      <td>Wild, Boneless Ahi Tuna, Frozen   6 oz. Portio...</td>\n",
       "      <td>Ahi means “fire” in Hawaiian and refers to the...</td>\n",
       "    </tr>\n",
       "    <tr>\n",
       "      <th>616</th>\n",
       "      <td>Floral</td>\n",
       "      <td>$69.99</td>\n",
       "      <td>No Discount</td>\n",
       "      <td>No Reviews</td>\n",
       "      <td>Valentine's Day Pre-Order Red, White &amp; Pink Ro...</td>\n",
       "      <td>$</td>\n",
       "      <td>Pick Your Arrival Date at Checkout   Gift Mess...</td>\n",
       "      <td>Adorn the one you adore with the Romance Bouqu...</td>\n",
       "    </tr>\n",
       "    <tr>\n",
       "      <th>1702</th>\n",
       "      <td>Snacks</td>\n",
       "      <td>$17.99</td>\n",
       "      <td>No Discount</td>\n",
       "      <td>NaN</td>\n",
       "      <td>Cheez-It White Cheddar Baked Snack Cracker, 1....</td>\n",
       "      <td>$</td>\n",
       "      <td>Cheese Crackers   White Cheddar   Kosher   210...</td>\n",
       "      <td>Make snack time more fun with Cheez-It White C...</td>\n",
       "    </tr>\n",
       "    <tr>\n",
       "      <th>1031</th>\n",
       "      <td>Meat &amp; Seafood</td>\n",
       "      <td>$249.99</td>\n",
       "      <td>No Discount</td>\n",
       "      <td>Rated 2.6 out of 5 stars based on 18 reviews.</td>\n",
       "      <td>Authentic Wagyu Japanese A5 Bacon Wrapped Cube...</td>\n",
       "      <td>$</td>\n",
       "      <td>A5 Japanese Wagyu Bacon Wrapped Trays   3pk -1...</td>\n",
       "      <td>To achieve the best results, cook the cubes fr...</td>\n",
       "    </tr>\n",
       "    <tr>\n",
       "      <th>60</th>\n",
       "      <td>Beverages &amp; Water</td>\n",
       "      <td>$23.49</td>\n",
       "      <td>No Discount</td>\n",
       "      <td>NaN</td>\n",
       "      <td>C4 Performance Energy Drink, Frozen Bombsicle,...</td>\n",
       "      <td>$</td>\n",
       "      <td>Frozen Bombsicle   16 fl oz Cans   12 Total Ca...</td>\n",
       "      <td>Performance Energy Drink\\nZero Sugar\\nZero Cal...</td>\n",
       "    </tr>\n",
       "  </tbody>\n",
       "</table>\n",
       "</div>"
      ],
      "text/plain": [
       "            Sub Category     Price       Discount  \\\n",
       "1733              Snacks   $11.99     No Discount   \n",
       "540               Coffee   $13.99     No Discount   \n",
       "1115      Meat & Seafood  $649.99     No Discount   \n",
       "1309  Pantry & Dry Goods    $8.99     No Discount   \n",
       "765            Household   $91.79     No Discount   \n",
       "1417             Seafood  $149.99   After $70 OFF   \n",
       "616               Floral   $69.99     No Discount   \n",
       "1702              Snacks   $17.99     No Discount   \n",
       "1031      Meat & Seafood  $249.99     No Discount   \n",
       "60     Beverages & Water   $23.49     No Discount   \n",
       "\n",
       "                                               Rating  \\\n",
       "1733                                              NaN   \n",
       "540                                               NaN   \n",
       "1115   Rated 4.7 out of 5 stars based on 305 reviews.   \n",
       "1309                                              NaN   \n",
       "765                                               NaN   \n",
       "1417  Rated 4.6 out of 5 stars based on 1237 reviews.   \n",
       "616                                        No Reviews   \n",
       "1702                                              NaN   \n",
       "1031    Rated 2.6 out of 5 stars based on 18 reviews.   \n",
       "60                                                NaN   \n",
       "\n",
       "                                                  Title Currency  \\\n",
       "1733  Bimbo Mantecaditas Muffins, Vanilla, 2.47 oz, ...        $   \n",
       "540       Caffe D'Vita, Instant Mocha Cappuccino, 4 lbs        $   \n",
       "1115  Japanese Wagyu Filet Mignons Steaks, A5 Grade,...        $   \n",
       "1309                       C&H, Brown Cane Sugar, 7 lbs        $   \n",
       "765   HP 902XL High Yield Ink Cartridge, Black, 2-Count        $   \n",
       "1417  Ahi Tuna Individual Vacuum Packed Portion (26-...        $   \n",
       "616   Valentine's Day Pre-Order Red, White & Pink Ro...        $   \n",
       "1702  Cheez-It White Cheddar Baked Snack Cracker, 1....        $   \n",
       "1031  Authentic Wagyu Japanese A5 Bacon Wrapped Cube...        $   \n",
       "60    C4 Performance Energy Drink, Frozen Bombsicle,...        $   \n",
       "\n",
       "                                                Feature  \\\n",
       "1733  Mantecaditas Muffins   Vanilla   2.47 oz Pack ...   \n",
       "540   Mocha Cappuccino   Gluten Free   Store in Dry ...   \n",
       "1115  (8) A5 Wagyu Filet Mignons Steaks, 6 ounces ea...   \n",
       "1309  100% Pure Cane   Kosher   Non-GMO Project Veri...   \n",
       "765   Printer Compatibility: HP OfficeJet Pro: 6968,...   \n",
       "1417  Wild, Boneless Ahi Tuna, Frozen   6 oz. Portio...   \n",
       "616   Pick Your Arrival Date at Checkout   Gift Mess...   \n",
       "1702  Cheese Crackers   White Cheddar   Kosher   210...   \n",
       "1031  A5 Japanese Wagyu Bacon Wrapped Trays   3pk -1...   \n",
       "60    Frozen Bombsicle   16 fl oz Cans   12 Total Ca...   \n",
       "\n",
       "                                    Product Description  \n",
       "1733     Vanilla Flavored Muffins\\nEnjoy Them On The Go  \n",
       "540   Hot,Iced, or Blended Cappuccino Drink Mix\\nAls...  \n",
       "1115  Cut from the heart of the tenderloin, Authenti...  \n",
       "1309                                  Net Weight: 7 lbs  \n",
       "765   Item may be available in your local warehouse ...  \n",
       "1417  Ahi means “fire” in Hawaiian and refers to the...  \n",
       "616   Adorn the one you adore with the Romance Bouqu...  \n",
       "1702  Make snack time more fun with Cheez-It White C...  \n",
       "1031  To achieve the best results, cook the cubes fr...  \n",
       "60    Performance Energy Drink\\nZero Sugar\\nZero Cal...  "
      ]
     },
     "execution_count": 2,
     "metadata": {},
     "output_type": "execute_result"
    }
   ],
   "source": [
    "data = pd.read_csv(\"/kaggle/input/grocery-store-dataset/GroceryDataset.csv\")\n",
    "data.sample(10)"
   ]
  },
  {
   "cell_type": "markdown",
   "id": "ca7a2fe4",
   "metadata": {
    "papermill": {
     "duration": 0.013154,
     "end_time": "2024-01-17T19:49:21.132986",
     "exception": false,
     "start_time": "2024-01-17T19:49:21.119832",
     "status": "completed"
    },
    "tags": []
   },
   "source": [
    "1. Check for Missing Value\n",
    "1. Fix datatype\n",
    "1. encode categorical data\n",
    "1. change rating column to something numerical value\n",
    "1. Fetch quantiy from title\n",
    "1. check out differnt currency to purchases"
   ]
  },
  {
   "cell_type": "code",
   "execution_count": 3,
   "id": "eb0bfff8",
   "metadata": {
    "execution": {
     "iopub.execute_input": "2024-01-17T19:49:21.162557Z",
     "iopub.status.busy": "2024-01-17T19:49:21.162116Z",
     "iopub.status.idle": "2024-01-17T19:49:21.170659Z",
     "shell.execute_reply": "2024-01-17T19:49:21.169557Z"
    },
    "papermill": {
     "duration": 0.026469,
     "end_time": "2024-01-17T19:49:21.172971",
     "exception": false,
     "start_time": "2024-01-17T19:49:21.146502",
     "status": "completed"
    },
    "tags": []
   },
   "outputs": [
    {
     "data": {
      "text/plain": [
       "(1757, 8)"
      ]
     },
     "execution_count": 3,
     "metadata": {},
     "output_type": "execute_result"
    }
   ],
   "source": [
    "data.shape"
   ]
  },
  {
   "cell_type": "markdown",
   "id": "752ec786",
   "metadata": {
    "papermill": {
     "duration": 0.012734,
     "end_time": "2024-01-17T19:49:21.199035",
     "exception": false,
     "start_time": "2024-01-17T19:49:21.186301",
     "status": "completed"
    },
    "tags": []
   },
   "source": [
    "## 1. Check and Fix Missing Value\n",
    "> Here, I can see Price column has 3 missing value, Rating has 1075 missing value, currency has 5, Feature has 18 and Product Discription has 42 missing value."
   ]
  },
  {
   "cell_type": "code",
   "execution_count": 4,
   "id": "a797d8e9",
   "metadata": {
    "execution": {
     "iopub.execute_input": "2024-01-17T19:49:21.226641Z",
     "iopub.status.busy": "2024-01-17T19:49:21.226285Z",
     "iopub.status.idle": "2024-01-17T19:49:21.234982Z",
     "shell.execute_reply": "2024-01-17T19:49:21.233883Z"
    },
    "papermill": {
     "duration": 0.025287,
     "end_time": "2024-01-17T19:49:21.237266",
     "exception": false,
     "start_time": "2024-01-17T19:49:21.211979",
     "status": "completed"
    },
    "tags": []
   },
   "outputs": [
    {
     "data": {
      "text/plain": [
       "Sub Category              0\n",
       "Price                     3\n",
       "Discount                  0\n",
       "Rating                 1075\n",
       "Title                     0\n",
       "Currency                  5\n",
       "Feature                  18\n",
       "Product Description      42\n",
       "dtype: int64"
      ]
     },
     "execution_count": 4,
     "metadata": {},
     "output_type": "execute_result"
    }
   ],
   "source": [
    "data.isnull().sum()"
   ]
  },
  {
   "cell_type": "markdown",
   "id": "0c3fe106",
   "metadata": {
    "papermill": {
     "duration": 0.013708,
     "end_time": "2024-01-17T19:49:21.264281",
     "exception": false,
     "start_time": "2024-01-17T19:49:21.250573",
     "status": "completed"
    },
    "tags": []
   },
   "source": [
    "### 1.a). Find missing value percentage.\n",
    "- if any column has more then 60 percentage of data is missing value then it is good idea to remove that columns\n",
    "- Missing Value Percentage = (Total Number of Values/Number of Missing Values)×100"
   ]
  },
  {
   "cell_type": "code",
   "execution_count": 5,
   "id": "852bc175",
   "metadata": {
    "execution": {
     "iopub.execute_input": "2024-01-17T19:49:21.292654Z",
     "iopub.status.busy": "2024-01-17T19:49:21.292278Z",
     "iopub.status.idle": "2024-01-17T19:49:21.297599Z",
     "shell.execute_reply": "2024-01-17T19:49:21.296443Z"
    },
    "papermill": {
     "duration": 0.022542,
     "end_time": "2024-01-17T19:49:21.299945",
     "exception": false,
     "start_time": "2024-01-17T19:49:21.277403",
     "status": "completed"
    },
    "tags": []
   },
   "outputs": [],
   "source": [
    "def find_percentage(columns_name):\n",
    "    missing_cnt = columns_name.isnull().sum()\n",
    "    total_cnt = columns_name.shape\n",
    "    missing_percentage = ((missing_cnt/total_cnt)*100).round(2)\n",
    "    return missing_percentage"
   ]
  },
  {
   "cell_type": "code",
   "execution_count": 6,
   "id": "edfd6d9d",
   "metadata": {
    "execution": {
     "iopub.execute_input": "2024-01-17T19:49:21.328562Z",
     "iopub.status.busy": "2024-01-17T19:49:21.328183Z",
     "iopub.status.idle": "2024-01-17T19:49:21.345846Z",
     "shell.execute_reply": "2024-01-17T19:49:21.344857Z"
    },
    "papermill": {
     "duration": 0.034409,
     "end_time": "2024-01-17T19:49:21.348028",
     "exception": false,
     "start_time": "2024-01-17T19:49:21.313619",
     "status": "completed"
    },
    "tags": []
   },
   "outputs": [
    {
     "data": {
      "text/html": [
       "<div>\n",
       "<style scoped>\n",
       "    .dataframe tbody tr th:only-of-type {\n",
       "        vertical-align: middle;\n",
       "    }\n",
       "\n",
       "    .dataframe tbody tr th {\n",
       "        vertical-align: top;\n",
       "    }\n",
       "\n",
       "    .dataframe thead th {\n",
       "        text-align: right;\n",
       "    }\n",
       "</style>\n",
       "<table border=\"1\" class=\"dataframe\">\n",
       "  <thead>\n",
       "    <tr style=\"text-align: right;\">\n",
       "      <th></th>\n",
       "      <th>Sub Category</th>\n",
       "      <th>Price</th>\n",
       "      <th>Discount</th>\n",
       "      <th>Rating</th>\n",
       "      <th>Title</th>\n",
       "      <th>Currency</th>\n",
       "      <th>Feature</th>\n",
       "      <th>Product Description</th>\n",
       "    </tr>\n",
       "  </thead>\n",
       "  <tbody>\n",
       "    <tr>\n",
       "      <th>0</th>\n",
       "      <td>0.0</td>\n",
       "      <td>0.17</td>\n",
       "      <td>0.0</td>\n",
       "      <td>61.18</td>\n",
       "      <td>0.0</td>\n",
       "      <td>0.28</td>\n",
       "      <td>1.02</td>\n",
       "      <td>2.39</td>\n",
       "    </tr>\n",
       "  </tbody>\n",
       "</table>\n",
       "</div>"
      ],
      "text/plain": [
       "   Sub Category  Price  Discount  Rating  Title  Currency  Feature  \\\n",
       "0           0.0   0.17       0.0   61.18    0.0      0.28     1.02   \n",
       "\n",
       "   Product Description  \n",
       "0                 2.39  "
      ]
     },
     "execution_count": 6,
     "metadata": {},
     "output_type": "execute_result"
    }
   ],
   "source": [
    "data.apply(find_percentage)"
   ]
  },
  {
   "cell_type": "markdown",
   "id": "2bc2afdf",
   "metadata": {
    "papermill": {
     "duration": 0.01303,
     "end_time": "2024-01-17T19:49:21.374942",
     "exception": false,
     "start_time": "2024-01-17T19:49:21.361912",
     "status": "completed"
    },
    "tags": []
   },
   "source": [
    "### 1.b). Drop Rating Column "
   ]
  },
  {
   "cell_type": "code",
   "execution_count": 7,
   "id": "fe882ac2",
   "metadata": {
    "execution": {
     "iopub.execute_input": "2024-01-17T19:49:21.466097Z",
     "iopub.status.busy": "2024-01-17T19:49:21.465707Z",
     "iopub.status.idle": "2024-01-17T19:49:21.475771Z",
     "shell.execute_reply": "2024-01-17T19:49:21.474969Z"
    },
    "papermill": {
     "duration": 0.02829,
     "end_time": "2024-01-17T19:49:21.478309",
     "exception": false,
     "start_time": "2024-01-17T19:49:21.450019",
     "status": "completed"
    },
    "tags": []
   },
   "outputs": [],
   "source": [
    "#since Rating has 61.18 percentage of null value so drop the columns\n",
    "data.drop(['Rating'], axis=1, inplace=True)"
   ]
  },
  {
   "cell_type": "markdown",
   "id": "ecbb5b69",
   "metadata": {
    "papermill": {
     "duration": 0.014144,
     "end_time": "2024-01-17T19:49:21.505977",
     "exception": false,
     "start_time": "2024-01-17T19:49:21.491833",
     "status": "completed"
    },
    "tags": []
   },
   "source": [
    "### 1.c). Handle Missing Value\n",
    "1. Price\n",
    "1. Currency\n",
    "1. Feature\n",
    "1. Product Description"
   ]
  },
  {
   "cell_type": "code",
   "execution_count": 8,
   "id": "8faea13d",
   "metadata": {
    "execution": {
     "iopub.execute_input": "2024-01-17T19:49:21.535574Z",
     "iopub.status.busy": "2024-01-17T19:49:21.535158Z",
     "iopub.status.idle": "2024-01-17T19:49:21.543910Z",
     "shell.execute_reply": "2024-01-17T19:49:21.542774Z"
    },
    "papermill": {
     "duration": 0.025846,
     "end_time": "2024-01-17T19:49:21.546266",
     "exception": false,
     "start_time": "2024-01-17T19:49:21.520420",
     "status": "completed"
    },
    "tags": []
   },
   "outputs": [],
   "source": [
    "data['Price'] = data['Price'].str.replace('[^\\d.]', '', regex=True)"
   ]
  },
  {
   "cell_type": "code",
   "execution_count": 9,
   "id": "505d20ef",
   "metadata": {
    "execution": {
     "iopub.execute_input": "2024-01-17T19:49:21.575890Z",
     "iopub.status.busy": "2024-01-17T19:49:21.575481Z",
     "iopub.status.idle": "2024-01-17T19:49:21.589590Z",
     "shell.execute_reply": "2024-01-17T19:49:21.588420Z"
    },
    "papermill": {
     "duration": 0.031069,
     "end_time": "2024-01-17T19:49:21.591608",
     "exception": false,
     "start_time": "2024-01-17T19:49:21.560539",
     "status": "completed"
    },
    "tags": []
   },
   "outputs": [
    {
     "data": {
      "text/html": [
       "<div>\n",
       "<style scoped>\n",
       "    .dataframe tbody tr th:only-of-type {\n",
       "        vertical-align: middle;\n",
       "    }\n",
       "\n",
       "    .dataframe tbody tr th {\n",
       "        vertical-align: top;\n",
       "    }\n",
       "\n",
       "    .dataframe thead th {\n",
       "        text-align: right;\n",
       "    }\n",
       "</style>\n",
       "<table border=\"1\" class=\"dataframe\">\n",
       "  <thead>\n",
       "    <tr style=\"text-align: right;\">\n",
       "      <th></th>\n",
       "      <th>Sub Category</th>\n",
       "      <th>Price</th>\n",
       "      <th>Discount</th>\n",
       "      <th>Title</th>\n",
       "      <th>Currency</th>\n",
       "      <th>Feature</th>\n",
       "      <th>Product Description</th>\n",
       "    </tr>\n",
       "  </thead>\n",
       "  <tbody>\n",
       "    <tr>\n",
       "      <th>1064</th>\n",
       "      <td>Meat &amp; Seafood</td>\n",
       "      <td>NaN</td>\n",
       "      <td>.</td>\n",
       "      <td>Hillshire Farm Slow Roasted Turkey Breast, 11 ...</td>\n",
       "      <td>NaN</td>\n",
       "      <td>Gluten Free   No Artificial Ingredients   No N...</td>\n",
       "      <td>Available at your local Costco warehouse or cl...</td>\n",
       "    </tr>\n",
       "    <tr>\n",
       "      <th>1414</th>\n",
       "      <td>Poultry</td>\n",
       "      <td>NaN</td>\n",
       "      <td>.</td>\n",
       "      <td>Hillshire Farm Slow Roasted Turkey Breast, 11 ...</td>\n",
       "      <td>NaN</td>\n",
       "      <td>Gluten Free   No Artificial Ingredients   No N...</td>\n",
       "      <td>Available at your local Costco warehouse or cl...</td>\n",
       "    </tr>\n",
       "    <tr>\n",
       "      <th>1480</th>\n",
       "      <td>Snacks</td>\n",
       "      <td>NaN</td>\n",
       "      <td>Costco Members Receive an Additional $5 OFF Ca...</td>\n",
       "      <td>FITCRUNCH - Costco Next</td>\n",
       "      <td>NaN</td>\n",
       "      <td>Non-GMO   Gluten Free   Soy Free   Flavor Mixo...</td>\n",
       "      <td>Shop Costco Next   Chef Robert Irvine’s FITCRU...</td>\n",
       "    </tr>\n",
       "  </tbody>\n",
       "</table>\n",
       "</div>"
      ],
      "text/plain": [
       "        Sub Category Price                                           Discount  \\\n",
       "1064  Meat & Seafood   NaN                                                  .   \n",
       "1414         Poultry   NaN                                                  .   \n",
       "1480          Snacks   NaN  Costco Members Receive an Additional $5 OFF Ca...   \n",
       "\n",
       "                                                  Title Currency  \\\n",
       "1064  Hillshire Farm Slow Roasted Turkey Breast, 11 ...      NaN   \n",
       "1414  Hillshire Farm Slow Roasted Turkey Breast, 11 ...      NaN   \n",
       "1480                            FITCRUNCH - Costco Next      NaN   \n",
       "\n",
       "                                                Feature  \\\n",
       "1064  Gluten Free   No Artificial Ingredients   No N...   \n",
       "1414  Gluten Free   No Artificial Ingredients   No N...   \n",
       "1480  Non-GMO   Gluten Free   Soy Free   Flavor Mixo...   \n",
       "\n",
       "                                    Product Description  \n",
       "1064  Available at your local Costco warehouse or cl...  \n",
       "1414  Available at your local Costco warehouse or cl...  \n",
       "1480  Shop Costco Next   Chef Robert Irvine’s FITCRU...  "
      ]
     },
     "execution_count": 9,
     "metadata": {},
     "output_type": "execute_result"
    }
   ],
   "source": [
    "data[data['Price'].isnull()]"
   ]
  },
  {
   "cell_type": "code",
   "execution_count": 10,
   "id": "dbe0400f",
   "metadata": {
    "execution": {
     "iopub.execute_input": "2024-01-17T19:49:21.621706Z",
     "iopub.status.busy": "2024-01-17T19:49:21.621317Z",
     "iopub.status.idle": "2024-01-17T19:49:21.628199Z",
     "shell.execute_reply": "2024-01-17T19:49:21.627222Z"
    },
    "papermill": {
     "duration": 0.024268,
     "end_time": "2024-01-17T19:49:21.630502",
     "exception": false,
     "start_time": "2024-01-17T19:49:21.606234",
     "status": "completed"
    },
    "tags": []
   },
   "outputs": [
    {
     "data": {
      "text/plain": [
       "3"
      ]
     },
     "execution_count": 10,
     "metadata": {},
     "output_type": "execute_result"
    }
   ],
   "source": [
    "data['Price'].isnull().sum()"
   ]
  },
  {
   "cell_type": "code",
   "execution_count": 11,
   "id": "aee00d5e",
   "metadata": {
    "execution": {
     "iopub.execute_input": "2024-01-17T19:49:21.660568Z",
     "iopub.status.busy": "2024-01-17T19:49:21.660158Z",
     "iopub.status.idle": "2024-01-17T19:49:21.671585Z",
     "shell.execute_reply": "2024-01-17T19:49:21.670535Z"
    },
    "papermill": {
     "duration": 0.029194,
     "end_time": "2024-01-17T19:49:21.673661",
     "exception": false,
     "start_time": "2024-01-17T19:49:21.644467",
     "status": "completed"
    },
    "tags": []
   },
   "outputs": [
    {
     "data": {
      "text/plain": [
       "(1696, 7)"
      ]
     },
     "execution_count": 11,
     "metadata": {},
     "output_type": "execute_result"
    }
   ],
   "source": [
    "df = data.dropna().copy()\n",
    "df.shape"
   ]
  },
  {
   "cell_type": "code",
   "execution_count": 12,
   "id": "c3a0fafe",
   "metadata": {
    "execution": {
     "iopub.execute_input": "2024-01-17T19:49:21.702968Z",
     "iopub.status.busy": "2024-01-17T19:49:21.702607Z",
     "iopub.status.idle": "2024-01-17T19:49:21.710945Z",
     "shell.execute_reply": "2024-01-17T19:49:21.709824Z"
    },
    "papermill": {
     "duration": 0.025485,
     "end_time": "2024-01-17T19:49:21.712934",
     "exception": false,
     "start_time": "2024-01-17T19:49:21.687449",
     "status": "completed"
    },
    "tags": []
   },
   "outputs": [
    {
     "data": {
      "text/plain": [
       "Sub Category           0\n",
       "Price                  0\n",
       "Discount               0\n",
       "Title                  0\n",
       "Currency               0\n",
       "Feature                0\n",
       "Product Description    0\n",
       "dtype: int64"
      ]
     },
     "execution_count": 12,
     "metadata": {},
     "output_type": "execute_result"
    }
   ],
   "source": [
    "df.isnull().sum()"
   ]
  },
  {
   "cell_type": "markdown",
   "id": "8df8795c",
   "metadata": {
    "papermill": {
     "duration": 0.014053,
     "end_time": "2024-01-17T19:49:21.740840",
     "exception": false,
     "start_time": "2024-01-17T19:49:21.726787",
     "status": "completed"
    },
    "tags": []
   },
   "source": [
    "### 1.d). Drop 'Currency' Columns"
   ]
  },
  {
   "cell_type": "code",
   "execution_count": 13,
   "id": "43fe78f6",
   "metadata": {
    "execution": {
     "iopub.execute_input": "2024-01-17T19:49:21.771703Z",
     "iopub.status.busy": "2024-01-17T19:49:21.770969Z",
     "iopub.status.idle": "2024-01-17T19:49:21.782444Z",
     "shell.execute_reply": "2024-01-17T19:49:21.781408Z"
    },
    "papermill": {
     "duration": 0.029507,
     "end_time": "2024-01-17T19:49:21.784578",
     "exception": false,
     "start_time": "2024-01-17T19:49:21.755071",
     "status": "completed"
    },
    "tags": []
   },
   "outputs": [
    {
     "data": {
      "text/plain": [
       "array(['$'], dtype=object)"
      ]
     },
     "execution_count": 13,
     "metadata": {},
     "output_type": "execute_result"
    }
   ],
   "source": [
    "df.Currency.unique()"
   ]
  },
  {
   "cell_type": "code",
   "execution_count": 14,
   "id": "a1b1e602",
   "metadata": {
    "execution": {
     "iopub.execute_input": "2024-01-17T19:49:21.814348Z",
     "iopub.status.busy": "2024-01-17T19:49:21.813948Z",
     "iopub.status.idle": "2024-01-17T19:49:21.820000Z",
     "shell.execute_reply": "2024-01-17T19:49:21.818914Z"
    },
    "papermill": {
     "duration": 0.023416,
     "end_time": "2024-01-17T19:49:21.822073",
     "exception": false,
     "start_time": "2024-01-17T19:49:21.798657",
     "status": "completed"
    },
    "tags": []
   },
   "outputs": [],
   "source": [
    "df.drop(['Currency'], axis=1, inplace=True)"
   ]
  },
  {
   "cell_type": "code",
   "execution_count": 15,
   "id": "ebdff469",
   "metadata": {
    "execution": {
     "iopub.execute_input": "2024-01-17T19:49:21.852763Z",
     "iopub.status.busy": "2024-01-17T19:49:21.852044Z",
     "iopub.status.idle": "2024-01-17T19:49:21.943029Z",
     "shell.execute_reply": "2024-01-17T19:49:21.941936Z"
    },
    "papermill": {
     "duration": 0.108413,
     "end_time": "2024-01-17T19:49:21.945149",
     "exception": false,
     "start_time": "2024-01-17T19:49:21.836736",
     "status": "completed"
    },
    "tags": []
   },
   "outputs": [
    {
     "data": {
      "text/html": [
       "<div>\n",
       "<style scoped>\n",
       "    .dataframe tbody tr th:only-of-type {\n",
       "        vertical-align: middle;\n",
       "    }\n",
       "\n",
       "    .dataframe tbody tr th {\n",
       "        vertical-align: top;\n",
       "    }\n",
       "\n",
       "    .dataframe thead th {\n",
       "        text-align: right;\n",
       "    }\n",
       "</style>\n",
       "<table border=\"1\" class=\"dataframe\">\n",
       "  <thead>\n",
       "    <tr style=\"text-align: right;\">\n",
       "      <th></th>\n",
       "      <th>Sub Category</th>\n",
       "      <th>Price</th>\n",
       "      <th>Discount</th>\n",
       "      <th>Title</th>\n",
       "      <th>Feature</th>\n",
       "      <th>Product Description</th>\n",
       "    </tr>\n",
       "  </thead>\n",
       "  <tbody>\n",
       "    <tr>\n",
       "      <th>0</th>\n",
       "      <td>Bakery &amp; Desserts</td>\n",
       "      <td>56.99</td>\n",
       "      <td>No Discount</td>\n",
       "      <td>David’s Cookies Mile High Peanut Butter Cake, ...</td>\n",
       "      <td>\"10\"\" Peanut Butter Cake\\nCertified Kosher OU-...</td>\n",
       "      <td>A cake the dessert epicure will die for!Our To...</td>\n",
       "    </tr>\n",
       "    <tr>\n",
       "      <th>1</th>\n",
       "      <td>Bakery &amp; Desserts</td>\n",
       "      <td>159.99</td>\n",
       "      <td>No Discount</td>\n",
       "      <td>The Cake Bake Shop 8\" Round Carrot Cake (16-22...</td>\n",
       "      <td>Spiced Carrot Cake with Cream Cheese Frosting ...</td>\n",
       "      <td>Due to the perishable nature of this item, ord...</td>\n",
       "    </tr>\n",
       "    <tr>\n",
       "      <th>2</th>\n",
       "      <td>Bakery &amp; Desserts</td>\n",
       "      <td>44.99</td>\n",
       "      <td>No Discount</td>\n",
       "      <td>St Michel Madeleine, Classic French Sponge Cak...</td>\n",
       "      <td>100 count\\nIndividually wrapped\\nMade in and I...</td>\n",
       "      <td>Moist and buttery sponge cakes with the tradit...</td>\n",
       "    </tr>\n",
       "    <tr>\n",
       "      <th>3</th>\n",
       "      <td>Bakery &amp; Desserts</td>\n",
       "      <td>39.99</td>\n",
       "      <td>No Discount</td>\n",
       "      <td>David's Cookies Butter Pecan Meltaways 32 oz, ...</td>\n",
       "      <td>Butter Pecan Meltaways\\n32 oz 2-Pack\\nNo Prese...</td>\n",
       "      <td>These delectable butter pecan meltaways are th...</td>\n",
       "    </tr>\n",
       "    <tr>\n",
       "      <th>4</th>\n",
       "      <td>Bakery &amp; Desserts</td>\n",
       "      <td>59.99</td>\n",
       "      <td>No Discount</td>\n",
       "      <td>David’s Cookies Premier Chocolate Cake, 7.2 lb...</td>\n",
       "      <td>\"10\" Four Layer Chocolate Cake\\nCertified Kosh...</td>\n",
       "      <td>A cake the dessert epicure will die for!To the...</td>\n",
       "    </tr>\n",
       "  </tbody>\n",
       "</table>\n",
       "</div>"
      ],
      "text/plain": [
       "        Sub Category   Price     Discount  \\\n",
       "0  Bakery & Desserts   56.99  No Discount   \n",
       "1  Bakery & Desserts  159.99  No Discount   \n",
       "2  Bakery & Desserts   44.99  No Discount   \n",
       "3  Bakery & Desserts   39.99  No Discount   \n",
       "4  Bakery & Desserts   59.99  No Discount   \n",
       "\n",
       "                                               Title  \\\n",
       "0  David’s Cookies Mile High Peanut Butter Cake, ...   \n",
       "1  The Cake Bake Shop 8\" Round Carrot Cake (16-22...   \n",
       "2  St Michel Madeleine, Classic French Sponge Cak...   \n",
       "3  David's Cookies Butter Pecan Meltaways 32 oz, ...   \n",
       "4  David’s Cookies Premier Chocolate Cake, 7.2 lb...   \n",
       "\n",
       "                                             Feature  \\\n",
       "0  \"10\"\" Peanut Butter Cake\\nCertified Kosher OU-...   \n",
       "1  Spiced Carrot Cake with Cream Cheese Frosting ...   \n",
       "2  100 count\\nIndividually wrapped\\nMade in and I...   \n",
       "3  Butter Pecan Meltaways\\n32 oz 2-Pack\\nNo Prese...   \n",
       "4  \"10\" Four Layer Chocolate Cake\\nCertified Kosh...   \n",
       "\n",
       "                                 Product Description  \n",
       "0  A cake the dessert epicure will die for!Our To...  \n",
       "1  Due to the perishable nature of this item, ord...  \n",
       "2  Moist and buttery sponge cakes with the tradit...  \n",
       "3  These delectable butter pecan meltaways are th...  \n",
       "4  A cake the dessert epicure will die for!To the...  "
      ]
     },
     "execution_count": 15,
     "metadata": {},
     "output_type": "execute_result"
    }
   ],
   "source": [
    "df.head()"
   ]
  },
  {
   "cell_type": "markdown",
   "id": "bb29221b",
   "metadata": {
    "papermill": {
     "duration": 0.014943,
     "end_time": "2024-01-17T19:49:21.974737",
     "exception": false,
     "start_time": "2024-01-17T19:49:21.959794",
     "status": "completed"
    },
    "tags": []
   },
   "source": [
    "## 2. Check for datatype"
   ]
  },
  {
   "cell_type": "code",
   "execution_count": 16,
   "id": "e4e1c6a6",
   "metadata": {
    "execution": {
     "iopub.execute_input": "2024-01-17T19:49:22.006197Z",
     "iopub.status.busy": "2024-01-17T19:49:22.005762Z",
     "iopub.status.idle": "2024-01-17T19:49:22.027448Z",
     "shell.execute_reply": "2024-01-17T19:49:22.026059Z"
    },
    "papermill": {
     "duration": 0.04049,
     "end_time": "2024-01-17T19:49:22.030373",
     "exception": false,
     "start_time": "2024-01-17T19:49:21.989883",
     "status": "completed"
    },
    "tags": []
   },
   "outputs": [
    {
     "name": "stdout",
     "output_type": "stream",
     "text": [
      "<class 'pandas.core.frame.DataFrame'>\n",
      "Index: 1696 entries, 0 to 1756\n",
      "Data columns (total 6 columns):\n",
      " #   Column               Non-Null Count  Dtype \n",
      "---  ------               --------------  ----- \n",
      " 0   Sub Category         1696 non-null   object\n",
      " 1   Price                1696 non-null   object\n",
      " 2   Discount             1696 non-null   object\n",
      " 3   Title                1696 non-null   object\n",
      " 4   Feature              1696 non-null   object\n",
      " 5   Product Description  1696 non-null   object\n",
      "dtypes: object(6)\n",
      "memory usage: 92.8+ KB\n"
     ]
    }
   ],
   "source": [
    "df.info()"
   ]
  },
  {
   "cell_type": "code",
   "execution_count": 17,
   "id": "c53052d2",
   "metadata": {
    "execution": {
     "iopub.execute_input": "2024-01-17T19:49:22.062354Z",
     "iopub.status.busy": "2024-01-17T19:49:22.061964Z",
     "iopub.status.idle": "2024-01-17T19:49:22.069024Z",
     "shell.execute_reply": "2024-01-17T19:49:22.068116Z"
    },
    "papermill": {
     "duration": 0.025749,
     "end_time": "2024-01-17T19:49:22.071355",
     "exception": false,
     "start_time": "2024-01-17T19:49:22.045606",
     "status": "completed"
    },
    "tags": []
   },
   "outputs": [],
   "source": [
    "df['Price'] = pd.to_numeric(df['Price'], errors='coerce')\n",
    "df['Price'] = df['Price'].round(2)"
   ]
  },
  {
   "cell_type": "markdown",
   "id": "0f8ec076",
   "metadata": {
    "papermill": {
     "duration": 0.016112,
     "end_time": "2024-01-17T19:49:22.102337",
     "exception": false,
     "start_time": "2024-01-17T19:49:22.086225",
     "status": "completed"
    },
    "tags": []
   },
   "source": [
    "## 3. Distribution of 'Price columns'"
   ]
  },
  {
   "cell_type": "code",
   "execution_count": 18,
   "id": "5f89d5f2",
   "metadata": {
    "execution": {
     "iopub.execute_input": "2024-01-17T19:49:22.134806Z",
     "iopub.status.busy": "2024-01-17T19:49:22.134423Z",
     "iopub.status.idle": "2024-01-17T19:49:22.976076Z",
     "shell.execute_reply": "2024-01-17T19:49:22.974936Z"
    },
    "papermill": {
     "duration": 0.860707,
     "end_time": "2024-01-17T19:49:22.978533",
     "exception": false,
     "start_time": "2024-01-17T19:49:22.117826",
     "status": "completed"
    },
    "tags": []
   },
   "outputs": [
    {
     "data": {
      "image/png": "[encoded data removed]",
      "text/plain": [
       "<Figure size 1000x500 with 1 Axes>"
      ]
     },
     "metadata": {},
     "output_type": "display_data"
    }
   ],
   "source": [
    "plt.figure(figsize=(10,5))\n",
    "sns.histplot(data=df, x=\"Price\", kde=True)\n",
    "plt.title(\"Price Distribution\")\n",
    "plt.show()"
   ]
  },
  {
   "cell_type": "markdown",
   "id": "45bab925",
   "metadata": {
    "execution": {
     "iopub.execute_input": "2024-01-15T14:23:32.589792Z",
     "iopub.status.busy": "2024-01-15T14:23:32.589322Z",
     "iopub.status.idle": "2024-01-15T14:23:32.594386Z",
     "shell.execute_reply": "2024-01-15T14:23:32.593531Z",
     "shell.execute_reply.started": "2024-01-15T14:23:32.589757Z"
    },
    "papermill": {
     "duration": 0.014489,
     "end_time": "2024-01-17T19:49:23.008095",
     "exception": false,
     "start_time": "2024-01-17T19:49:22.993606",
     "status": "completed"
    },
    "tags": []
   },
   "source": [
    "## 4. Sales of each Sub Category\n",
    "> by looking to the all the boxplot, I can clearly see that most expension sub category item is 'deli' and least expensive item is 'breakfast."
   ]
  },
  {
   "cell_type": "code",
   "execution_count": 19,
   "id": "7fc8537b",
   "metadata": {
    "execution": {
     "iopub.execute_input": "2024-01-17T19:49:23.039894Z",
     "iopub.status.busy": "2024-01-17T19:49:23.039495Z",
     "iopub.status.idle": "2024-01-17T19:49:23.047362Z",
     "shell.execute_reply": "2024-01-17T19:49:23.045878Z"
    },
    "papermill": {
     "duration": 0.026459,
     "end_time": "2024-01-17T19:49:23.049347",
     "exception": false,
     "start_time": "2024-01-17T19:49:23.022888",
     "status": "completed"
    },
    "tags": []
   },
   "outputs": [
    {
     "name": "stdout",
     "output_type": "stream",
     "text": [
      "['Bakery & Desserts' 'Beverages & Water' 'Breakfast' 'Candy'\n",
      " 'Cleaning Supplies' 'Coffee' 'Deli' 'Floral' 'Gift Baskets' 'Household'\n",
      " 'Kirkland Signature Grocery' 'Laundry Detergent & Supplies'\n",
      " 'Meat & Seafood' 'Organic' 'Pantry & Dry Goods'\n",
      " 'Paper & Plastic Products' 'Poultry' 'Seafood' 'Snacks']\n",
      "\n",
      "Total Sub Category count = 19\n"
     ]
    }
   ],
   "source": [
    "print(data['Sub Category'].unique())\n",
    "print(\"\\nTotal Sub Category count =\", data['Sub Category'].nunique())"
   ]
  },
  {
   "cell_type": "code",
   "execution_count": 20,
   "id": "2010c12f",
   "metadata": {
    "execution": {
     "iopub.execute_input": "2024-01-17T19:49:23.082404Z",
     "iopub.status.busy": "2024-01-17T19:49:23.081323Z",
     "iopub.status.idle": "2024-01-17T19:49:23.089578Z",
     "shell.execute_reply": "2024-01-17T19:49:23.088611Z"
    },
    "papermill": {
     "duration": 0.026898,
     "end_time": "2024-01-17T19:49:23.091644",
     "exception": false,
     "start_time": "2024-01-17T19:49:23.064746",
     "status": "completed"
    },
    "tags": []
   },
   "outputs": [
    {
     "data": {
      "text/plain": [
       "array([  56.99,  159.99,   44.99,   39.99,   59.99,   74.99,   29.99,\n",
       "         62.99,  299.99,   54.99,   89.99,   49.99,   99.99,   24.99,\n",
       "         72.99,  119.99,  109.99,   34.99,   27.99,   21.99,   20.99,\n",
       "         19.99,  439.99,    9.99,   14.99,   18.99,   21.49,   17.99,\n",
       "         23.99,    4.99,   12.99,   32.99,   13.79,   23.49,   22.99,\n",
       "          8.99,   15.99,   28.99,   16.49,  549.99,   17.49,   25.99,\n",
       "         11.69,   69.99,   21.79,   37.99,  139.99,   41.99,   18.49,\n",
       "         16.99,   36.99,   10.99,   61.99,   17.59,   11.99,   24.49,\n",
       "         10.49,    9.69,    8.19,    9.49,   12.49,   12.69,   31.99,\n",
       "         15.49,   46.99,   11.49,   16.39,   13.99,   38.99,   26.99,\n",
       "         13.49,   14.49,   26.69,   42.99,   45.99,    7.99,   25.69,\n",
       "         19.49,   10.79,   17.89,   84.99,     nan,   20.89,    9.79,\n",
       "         29.89,  199.99,   47.99,   18.39,   43.99,   33.99,   28.49,\n",
       "         10.29,   35.99,   48.99,   29.69,  149.99,  649.99, 1999.99,\n",
       "        124.99,  249.99,  279.99,  169.99, 1399.99,  379.99,   64.99,\n",
       "         55.99,  129.99,   57.99,   58.99,   52.99,  179.99,   79.99,\n",
       "        229.99,    8.49,   11.39,   93.79,   91.79,   95.79,  117.79,\n",
       "         69.79,    4.49,  102.79,   84.79,   10.19,   12.79,   73.99,\n",
       "        949.99,    3.99,    4.79,    6.69,   37.49,  239.99,  259.99,\n",
       "        209.99,  349.99,  219.99,  339.99,  399.99,  429.99,  114.99,\n",
       "        369.99,  469.99,  189.99,  329.99,  269.99,  449.99,  529.99,\n",
       "        999.99, 1099.99,   69.97,  569.99,   10.39,   10.69,    6.49,\n",
       "          6.99,   28.79,   16.19,   22.49,   13.69,   11.89,   15.29,\n",
       "         19.39,   13.39,   11.59,   15.39,   13.19,    7.79])"
      ]
     },
     "execution_count": 20,
     "metadata": {},
     "output_type": "execute_result"
    }
   ],
   "source": [
    "df.Price.unique()"
   ]
  },
  {
   "cell_type": "code",
   "execution_count": 21,
   "id": "06b3fd6b",
   "metadata": {
    "execution": {
     "iopub.execute_input": "2024-01-17T19:49:23.126976Z",
     "iopub.status.busy": "2024-01-17T19:49:23.126281Z",
     "iopub.status.idle": "2024-01-17T19:49:23.786056Z",
     "shell.execute_reply": "2024-01-17T19:49:23.784974Z"
    },
    "papermill": {
     "duration": 0.680081,
     "end_time": "2024-01-17T19:49:23.789192",
     "exception": false,
     "start_time": "2024-01-17T19:49:23.109111",
     "status": "completed"
    },
    "tags": []
   },
   "outputs": [
    {
     "data": {
      "image/png": "[encoded data removed]",
      "text/plain": [
       "<Figure size 1500x700 with 1 Axes>"
      ]
     },
     "metadata": {},
     "output_type": "display_data"
    }
   ],
   "source": [
    "plt.figure(figsize=(15, 7))\n",
    "sns.boxplot(x='Sub Category', y='Price', data=df)\n",
    "\n",
    "plt.xticks(rotation=90)\n",
    "plt.xlabel('Sub Category', fontsize=18)\n",
    "plt.ylabel('Price', fontsize=15)\n",
    "plt.title('Sales by Sub Category', fontsize=16)\n",
    "plt.grid(axis='y')\n",
    "\n",
    "plt.tight_layout()\n",
    "plt.show()"
   ]
  },
  {
   "cell_type": "markdown",
   "id": "8b5ca2e4",
   "metadata": {
    "papermill": {
     "duration": 0.016289,
     "end_time": "2024-01-17T19:49:23.822080",
     "exception": false,
     "start_time": "2024-01-17T19:49:23.805791",
     "status": "completed"
    },
    "tags": []
   },
   "source": [
    "## 5. Total Items Each Sub Category have.\n",
    "> since there is no where given the total item per category, so we will group by with 'sub category' column and count the price of 'sub category' columns, this way we will get the number of items each sub category have"
   ]
  },
  {
   "cell_type": "code",
   "execution_count": 22,
   "id": "2eb58afc",
   "metadata": {
    "execution": {
     "iopub.execute_input": "2024-01-17T19:49:23.859110Z",
     "iopub.status.busy": "2024-01-17T19:49:23.857869Z",
     "iopub.status.idle": "2024-01-17T19:49:23.873187Z",
     "shell.execute_reply": "2024-01-17T19:49:23.871962Z"
    },
    "papermill": {
     "duration": 0.036436,
     "end_time": "2024-01-17T19:49:23.875514",
     "exception": false,
     "start_time": "2024-01-17T19:49:23.839078",
     "status": "completed"
    },
    "tags": []
   },
   "outputs": [
    {
     "data": {
      "text/html": [
       "<div>\n",
       "<style scoped>\n",
       "    .dataframe tbody tr th:only-of-type {\n",
       "        vertical-align: middle;\n",
       "    }\n",
       "\n",
       "    .dataframe tbody tr th {\n",
       "        vertical-align: top;\n",
       "    }\n",
       "\n",
       "    .dataframe thead th {\n",
       "        text-align: right;\n",
       "    }\n",
       "</style>\n",
       "<table border=\"1\" class=\"dataframe\">\n",
       "  <thead>\n",
       "    <tr style=\"text-align: right;\">\n",
       "      <th></th>\n",
       "      <th>Sub Category</th>\n",
       "      <th>total_items</th>\n",
       "    </tr>\n",
       "  </thead>\n",
       "  <tbody>\n",
       "    <tr>\n",
       "      <th>18</th>\n",
       "      <td>Snacks</td>\n",
       "      <td>290</td>\n",
       "    </tr>\n",
       "    <tr>\n",
       "      <th>14</th>\n",
       "      <td>Pantry &amp; Dry Goods</td>\n",
       "      <td>171</td>\n",
       "    </tr>\n",
       "    <tr>\n",
       "      <th>3</th>\n",
       "      <td>Candy</td>\n",
       "      <td>153</td>\n",
       "    </tr>\n",
       "    <tr>\n",
       "      <th>1</th>\n",
       "      <td>Beverages &amp; Water</td>\n",
       "      <td>147</td>\n",
       "    </tr>\n",
       "    <tr>\n",
       "      <th>12</th>\n",
       "      <td>Meat &amp; Seafood</td>\n",
       "      <td>143</td>\n",
       "    </tr>\n",
       "    <tr>\n",
       "      <th>10</th>\n",
       "      <td>Kirkland Signature Grocery</td>\n",
       "      <td>117</td>\n",
       "    </tr>\n",
       "    <tr>\n",
       "      <th>5</th>\n",
       "      <td>Coffee</td>\n",
       "      <td>89</td>\n",
       "    </tr>\n",
       "    <tr>\n",
       "      <th>8</th>\n",
       "      <td>Gift Baskets</td>\n",
       "      <td>89</td>\n",
       "    </tr>\n",
       "    <tr>\n",
       "      <th>4</th>\n",
       "      <td>Cleaning Supplies</td>\n",
       "      <td>85</td>\n",
       "    </tr>\n",
       "    <tr>\n",
       "      <th>15</th>\n",
       "      <td>Paper &amp; Plastic Products</td>\n",
       "      <td>76</td>\n",
       "    </tr>\n",
       "    <tr>\n",
       "      <th>7</th>\n",
       "      <td>Floral</td>\n",
       "      <td>75</td>\n",
       "    </tr>\n",
       "    <tr>\n",
       "      <th>9</th>\n",
       "      <td>Household</td>\n",
       "      <td>65</td>\n",
       "    </tr>\n",
       "    <tr>\n",
       "      <th>17</th>\n",
       "      <td>Seafood</td>\n",
       "      <td>47</td>\n",
       "    </tr>\n",
       "    <tr>\n",
       "      <th>11</th>\n",
       "      <td>Laundry Detergent &amp; Supplies</td>\n",
       "      <td>33</td>\n",
       "    </tr>\n",
       "    <tr>\n",
       "      <th>13</th>\n",
       "      <td>Organic</td>\n",
       "      <td>33</td>\n",
       "    </tr>\n",
       "    <tr>\n",
       "      <th>0</th>\n",
       "      <td>Bakery &amp; Desserts</td>\n",
       "      <td>33</td>\n",
       "    </tr>\n",
       "    <tr>\n",
       "      <th>6</th>\n",
       "      <td>Deli</td>\n",
       "      <td>21</td>\n",
       "    </tr>\n",
       "    <tr>\n",
       "      <th>2</th>\n",
       "      <td>Breakfast</td>\n",
       "      <td>21</td>\n",
       "    </tr>\n",
       "    <tr>\n",
       "      <th>16</th>\n",
       "      <td>Poultry</td>\n",
       "      <td>8</td>\n",
       "    </tr>\n",
       "  </tbody>\n",
       "</table>\n",
       "</div>"
      ],
      "text/plain": [
       "                    Sub Category  total_items\n",
       "18                        Snacks          290\n",
       "14            Pantry & Dry Goods          171\n",
       "3                          Candy          153\n",
       "1              Beverages & Water          147\n",
       "12                Meat & Seafood          143\n",
       "10    Kirkland Signature Grocery          117\n",
       "5                         Coffee           89\n",
       "8                   Gift Baskets           89\n",
       "4              Cleaning Supplies           85\n",
       "15      Paper & Plastic Products           76\n",
       "7                         Floral           75\n",
       "9                      Household           65\n",
       "17                       Seafood           47\n",
       "11  Laundry Detergent & Supplies           33\n",
       "13                       Organic           33\n",
       "0              Bakery & Desserts           33\n",
       "6                           Deli           21\n",
       "2                      Breakfast           21\n",
       "16                       Poultry            8"
      ]
     },
     "execution_count": 22,
     "metadata": {},
     "output_type": "execute_result"
    }
   ],
   "source": [
    "no_of_items_per_category = df.groupby(by='Sub Category')['Title'].count()\n",
    "no_of_items_per_category = no_of_items_per_category.reset_index()\n",
    "no_of_items_per_category = no_of_items_per_category.rename(columns={'Title': 'total_items'})\n",
    "no_of_items_per_category = no_of_items_per_category.sort_values(by=\"total_items\", ascending=False)\n",
    "no_of_items_per_category"
   ]
  },
  {
   "cell_type": "code",
   "execution_count": 23,
   "id": "0f9a144d",
   "metadata": {
    "execution": {
     "iopub.execute_input": "2024-01-17T19:49:23.911235Z",
     "iopub.status.busy": "2024-01-17T19:49:23.910807Z",
     "iopub.status.idle": "2024-01-17T19:49:24.381155Z",
     "shell.execute_reply": "2024-01-17T19:49:24.380265Z"
    },
    "papermill": {
     "duration": 0.491059,
     "end_time": "2024-01-17T19:49:24.383793",
     "exception": false,
     "start_time": "2024-01-17T19:49:23.892734",
     "status": "completed"
    },
    "tags": []
   },
   "outputs": [
    {
     "data": {
      "image/png": "[encoded data removed]",
      "text/plain": [
       "<Figure size 1500x800 with 1 Axes>"
      ]
     },
     "metadata": {},
     "output_type": "display_data"
    }
   ],
   "source": [
    "plt.figure(figsize=(15, 8))\n",
    "ax = sns.barplot(data=no_of_items_per_category, x='Sub Category', y='total_items')\n",
    "plt.xticks(rotation=90)\n",
    "plt.tight_layout()\n",
    "plt.show()"
   ]
  },
  {
   "cell_type": "code",
   "execution_count": 24,
   "id": "59e37609",
   "metadata": {
    "execution": {
     "iopub.execute_input": "2024-01-17T19:49:24.425146Z",
     "iopub.status.busy": "2024-01-17T19:49:24.424511Z",
     "iopub.status.idle": "2024-01-17T19:49:24.902693Z",
     "shell.execute_reply": "2024-01-17T19:49:24.901697Z"
    },
    "papermill": {
     "duration": 0.500665,
     "end_time": "2024-01-17T19:49:24.904852",
     "exception": false,
     "start_time": "2024-01-17T19:49:24.404187",
     "status": "completed"
    },
    "tags": []
   },
   "outputs": [
    {
     "data": {
      "image/png": "[encoded data removed]",
      "text/plain": [
       "<Figure size 1000x600 with 1 Axes>"
      ]
     },
     "metadata": {},
     "output_type": "display_data"
    }
   ],
   "source": [
    "# Creating a bar plot\n",
    "fig, ax = plt.subplots(figsize=(10, 6))\n",
    "bars = ax.bar(no_of_items_per_category['Sub Category'].astype(str), no_of_items_per_category['total_items'], color='skyblue')\n",
    "\n",
    "# Adding total_items notation to each bar\n",
    "for bar in bars:\n",
    "    yval = bar.get_height()\n",
    "    plt.text(bar.get_x() + bar.get_width()/2, yval, int(yval), ha='center', va='bottom')\n",
    "\n",
    "# Setting labels and title\n",
    "plt.xlabel('Sub Category')\n",
    "plt.ylabel('Total Items')\n",
    "plt.title('Total Items per Sub Category')\n",
    "\n",
    "# Rotating x-axis labels for better readability\n",
    "plt.xticks(rotation=45, ha='right')\n",
    "\n",
    "# Show the plot\n",
    "plt.tight_layout()\n",
    "plt.show()"
   ]
  },
  {
   "cell_type": "markdown",
   "id": "006e6d6b",
   "metadata": {
    "papermill": {
     "duration": 0.019691,
     "end_time": "2024-01-17T19:49:24.943637",
     "exception": false,
     "start_time": "2024-01-17T19:49:24.923946",
     "status": "completed"
    },
    "tags": []
   },
   "source": [
    "## 6. Maximum Revenu Generated by Each Sub Category "
   ]
  },
  {
   "cell_type": "code",
   "execution_count": 25,
   "id": "3f2e179a",
   "metadata": {
    "execution": {
     "iopub.execute_input": "2024-01-17T19:49:24.984595Z",
     "iopub.status.busy": "2024-01-17T19:49:24.984178Z",
     "iopub.status.idle": "2024-01-17T19:49:25.001182Z",
     "shell.execute_reply": "2024-01-17T19:49:25.000053Z"
    },
    "papermill": {
     "duration": 0.040717,
     "end_time": "2024-01-17T19:49:25.003532",
     "exception": false,
     "start_time": "2024-01-17T19:49:24.962815",
     "status": "completed"
    },
    "tags": []
   },
   "outputs": [
    {
     "data": {
      "text/html": [
       "<div>\n",
       "<style scoped>\n",
       "    .dataframe tbody tr th:only-of-type {\n",
       "        vertical-align: middle;\n",
       "    }\n",
       "\n",
       "    .dataframe tbody tr th {\n",
       "        vertical-align: top;\n",
       "    }\n",
       "\n",
       "    .dataframe thead th {\n",
       "        text-align: right;\n",
       "    }\n",
       "</style>\n",
       "<table border=\"1\" class=\"dataframe\">\n",
       "  <thead>\n",
       "    <tr style=\"text-align: right;\">\n",
       "      <th></th>\n",
       "      <th>Sub Category</th>\n",
       "      <th>Revenue</th>\n",
       "    </tr>\n",
       "  </thead>\n",
       "  <tbody>\n",
       "    <tr>\n",
       "      <th>12</th>\n",
       "      <td>Meat &amp; Seafood</td>\n",
       "      <td>32418.58</td>\n",
       "    </tr>\n",
       "    <tr>\n",
       "      <th>8</th>\n",
       "      <td>Gift Baskets</td>\n",
       "      <td>10568.11</td>\n",
       "    </tr>\n",
       "    <tr>\n",
       "      <th>17</th>\n",
       "      <td>Seafood</td>\n",
       "      <td>9189.51</td>\n",
       "    </tr>\n",
       "    <tr>\n",
       "      <th>6</th>\n",
       "      <td>Deli</td>\n",
       "      <td>7784.79</td>\n",
       "    </tr>\n",
       "    <tr>\n",
       "      <th>18</th>\n",
       "      <td>Snacks</td>\n",
       "      <td>6255.00</td>\n",
       "    </tr>\n",
       "    <tr>\n",
       "      <th>1</th>\n",
       "      <td>Beverages &amp; Water</td>\n",
       "      <td>5372.13</td>\n",
       "    </tr>\n",
       "    <tr>\n",
       "      <th>14</th>\n",
       "      <td>Pantry &amp; Dry Goods</td>\n",
       "      <td>4976.69</td>\n",
       "    </tr>\n",
       "    <tr>\n",
       "      <th>7</th>\n",
       "      <td>Floral</td>\n",
       "      <td>4338.35</td>\n",
       "    </tr>\n",
       "    <tr>\n",
       "      <th>3</th>\n",
       "      <td>Candy</td>\n",
       "      <td>3841.67</td>\n",
       "    </tr>\n",
       "    <tr>\n",
       "      <th>10</th>\n",
       "      <td>Kirkland Signature Grocery</td>\n",
       "      <td>3335.63</td>\n",
       "    </tr>\n",
       "    <tr>\n",
       "      <th>5</th>\n",
       "      <td>Coffee</td>\n",
       "      <td>2964.11</td>\n",
       "    </tr>\n",
       "    <tr>\n",
       "      <th>0</th>\n",
       "      <td>Bakery &amp; Desserts</td>\n",
       "      <td>2752.67</td>\n",
       "    </tr>\n",
       "    <tr>\n",
       "      <th>4</th>\n",
       "      <td>Cleaning Supplies</td>\n",
       "      <td>2640.76</td>\n",
       "    </tr>\n",
       "    <tr>\n",
       "      <th>9</th>\n",
       "      <td>Household</td>\n",
       "      <td>2028.95</td>\n",
       "    </tr>\n",
       "    <tr>\n",
       "      <th>15</th>\n",
       "      <td>Paper &amp; Plastic Products</td>\n",
       "      <td>1926.44</td>\n",
       "    </tr>\n",
       "    <tr>\n",
       "      <th>16</th>\n",
       "      <td>Poultry</td>\n",
       "      <td>1279.92</td>\n",
       "    </tr>\n",
       "    <tr>\n",
       "      <th>11</th>\n",
       "      <td>Laundry Detergent &amp; Supplies</td>\n",
       "      <td>1179.17</td>\n",
       "    </tr>\n",
       "    <tr>\n",
       "      <th>13</th>\n",
       "      <td>Organic</td>\n",
       "      <td>739.87</td>\n",
       "    </tr>\n",
       "    <tr>\n",
       "      <th>2</th>\n",
       "      <td>Breakfast</td>\n",
       "      <td>279.39</td>\n",
       "    </tr>\n",
       "  </tbody>\n",
       "</table>\n",
       "</div>"
      ],
      "text/plain": [
       "                    Sub Category   Revenue\n",
       "12                Meat & Seafood  32418.58\n",
       "8                   Gift Baskets  10568.11\n",
       "17                       Seafood   9189.51\n",
       "6                           Deli   7784.79\n",
       "18                        Snacks   6255.00\n",
       "1              Beverages & Water   5372.13\n",
       "14            Pantry & Dry Goods   4976.69\n",
       "7                         Floral   4338.35\n",
       "3                          Candy   3841.67\n",
       "10    Kirkland Signature Grocery   3335.63\n",
       "5                         Coffee   2964.11\n",
       "0              Bakery & Desserts   2752.67\n",
       "4              Cleaning Supplies   2640.76\n",
       "9                      Household   2028.95\n",
       "15      Paper & Plastic Products   1926.44\n",
       "16                       Poultry   1279.92\n",
       "11  Laundry Detergent & Supplies   1179.17\n",
       "13                       Organic    739.87\n",
       "2                      Breakfast    279.39"
      ]
     },
     "execution_count": 25,
     "metadata": {},
     "output_type": "execute_result"
    }
   ],
   "source": [
    "revenue_df = df.groupby(by='Sub Category')['Price'].sum()\n",
    "revenue_df = revenue_df.reset_index()\n",
    "revenue_df = revenue_df.rename(columns={'Price': 'Revenue'})\n",
    "revenue_df = revenue_df.sort_values(by=\"Revenue\", ascending=False)\n",
    "revenue_df"
   ]
  },
  {
   "cell_type": "code",
   "execution_count": 26,
   "id": "b52b33fc",
   "metadata": {
    "execution": {
     "iopub.execute_input": "2024-01-17T19:49:25.045978Z",
     "iopub.status.busy": "2024-01-17T19:49:25.045550Z",
     "iopub.status.idle": "2024-01-17T19:49:25.534986Z",
     "shell.execute_reply": "2024-01-17T19:49:25.534146Z"
    },
    "papermill": {
     "duration": 0.514174,
     "end_time": "2024-01-17T19:49:25.537881",
     "exception": false,
     "start_time": "2024-01-17T19:49:25.023707",
     "status": "completed"
    },
    "tags": []
   },
   "outputs": [
    {
     "data": {
      "image/png": "[encoded data removed]",
      "text/plain": [
       "<Figure size 1200x600 with 1 Axes>"
      ]
     },
     "metadata": {},
     "output_type": "display_data"
    }
   ],
   "source": [
    "# Creating a bar plot\n",
    "fig, ax = plt.subplots(figsize=(12, 6))\n",
    "bars = ax.bar(revenue_df['Sub Category'].astype(str), revenue_df['Revenue'], color='skyblue')\n",
    "\n",
    "# Adding total_items notation to each bar\n",
    "for bar in bars:\n",
    "    yval = bar.get_height()\n",
    "    plt.text(bar.get_x() + bar.get_width()/2, yval, \"$\"+str(int(yval)), ha='center', va='bottom')\n",
    "\n",
    "# Setting labels and title\n",
    "plt.xlabel('Sub Category')\n",
    "plt.ylabel('Total Items')\n",
    "plt.title('Total Items per Sub Category')\n",
    "\n",
    "# Rotating x-axis labels for better readability\n",
    "plt.xticks(rotation=45, ha='right')\n",
    "\n",
    "# Show the plot\n",
    "plt.tight_layout()\n",
    "plt.show()"
   ]
  },
  {
   "cell_type": "markdown",
   "id": "448e136c",
   "metadata": {
    "papermill": {
     "duration": 0.020723,
     "end_time": "2024-01-17T19:49:25.579726",
     "exception": false,
     "start_time": "2024-01-17T19:49:25.559003",
     "status": "completed"
    },
    "tags": []
   },
   "source": [
    "## 7. Top 3 Revenue Generated Sub Category are follow:\n",
    "1. Meat & Seafood\n",
    "1. Gift Baskets\n",
    "1. Seafood\n",
    "> Come to with conclusion why these 3 are most revenue generated Sub category?\n"
   ]
  },
  {
   "cell_type": "code",
   "execution_count": 27,
   "id": "4e83d80f",
   "metadata": {
    "execution": {
     "iopub.execute_input": "2024-01-17T19:49:25.625182Z",
     "iopub.status.busy": "2024-01-17T19:49:25.624500Z",
     "iopub.status.idle": "2024-01-17T19:49:25.637848Z",
     "shell.execute_reply": "2024-01-17T19:49:25.636652Z"
    },
    "papermill": {
     "duration": 0.039772,
     "end_time": "2024-01-17T19:49:25.640489",
     "exception": false,
     "start_time": "2024-01-17T19:49:25.600717",
     "status": "completed"
    },
    "tags": []
   },
   "outputs": [
    {
     "data": {
      "text/html": [
       "<div>\n",
       "<style scoped>\n",
       "    .dataframe tbody tr th:only-of-type {\n",
       "        vertical-align: middle;\n",
       "    }\n",
       "\n",
       "    .dataframe tbody tr th {\n",
       "        vertical-align: top;\n",
       "    }\n",
       "\n",
       "    .dataframe thead th {\n",
       "        text-align: right;\n",
       "    }\n",
       "</style>\n",
       "<table border=\"1\" class=\"dataframe\">\n",
       "  <thead>\n",
       "    <tr style=\"text-align: right;\">\n",
       "      <th></th>\n",
       "      <th>Sub Category</th>\n",
       "      <th>Price</th>\n",
       "      <th>Discount</th>\n",
       "      <th>Title</th>\n",
       "      <th>Currency</th>\n",
       "      <th>Feature</th>\n",
       "      <th>Product Description</th>\n",
       "    </tr>\n",
       "  </thead>\n",
       "  <tbody>\n",
       "    <tr>\n",
       "      <th>0</th>\n",
       "      <td>Bakery &amp; Desserts</td>\n",
       "      <td>56.99</td>\n",
       "      <td>No Discount</td>\n",
       "      <td>David’s Cookies Mile High Peanut Butter Cake, ...</td>\n",
       "      <td>$</td>\n",
       "      <td>\"10\"\" Peanut Butter Cake\\nCertified Kosher OU-...</td>\n",
       "      <td>A cake the dessert epicure will die for!Our To...</td>\n",
       "    </tr>\n",
       "    <tr>\n",
       "      <th>1</th>\n",
       "      <td>Bakery &amp; Desserts</td>\n",
       "      <td>159.99</td>\n",
       "      <td>No Discount</td>\n",
       "      <td>The Cake Bake Shop 8\" Round Carrot Cake (16-22...</td>\n",
       "      <td>$</td>\n",
       "      <td>Spiced Carrot Cake with Cream Cheese Frosting ...</td>\n",
       "      <td>Due to the perishable nature of this item, ord...</td>\n",
       "    </tr>\n",
       "    <tr>\n",
       "      <th>2</th>\n",
       "      <td>Bakery &amp; Desserts</td>\n",
       "      <td>44.99</td>\n",
       "      <td>No Discount</td>\n",
       "      <td>St Michel Madeleine, Classic French Sponge Cak...</td>\n",
       "      <td>$</td>\n",
       "      <td>100 count\\nIndividually wrapped\\nMade in and I...</td>\n",
       "      <td>Moist and buttery sponge cakes with the tradit...</td>\n",
       "    </tr>\n",
       "    <tr>\n",
       "      <th>3</th>\n",
       "      <td>Bakery &amp; Desserts</td>\n",
       "      <td>39.99</td>\n",
       "      <td>No Discount</td>\n",
       "      <td>David's Cookies Butter Pecan Meltaways 32 oz, ...</td>\n",
       "      <td>$</td>\n",
       "      <td>Butter Pecan Meltaways\\n32 oz 2-Pack\\nNo Prese...</td>\n",
       "      <td>These delectable butter pecan meltaways are th...</td>\n",
       "    </tr>\n",
       "    <tr>\n",
       "      <th>4</th>\n",
       "      <td>Bakery &amp; Desserts</td>\n",
       "      <td>59.99</td>\n",
       "      <td>No Discount</td>\n",
       "      <td>David’s Cookies Premier Chocolate Cake, 7.2 lb...</td>\n",
       "      <td>$</td>\n",
       "      <td>\"10\" Four Layer Chocolate Cake\\nCertified Kosh...</td>\n",
       "      <td>A cake the dessert epicure will die for!To the...</td>\n",
       "    </tr>\n",
       "  </tbody>\n",
       "</table>\n",
       "</div>"
      ],
      "text/plain": [
       "        Sub Category   Price     Discount  \\\n",
       "0  Bakery & Desserts   56.99  No Discount   \n",
       "1  Bakery & Desserts  159.99  No Discount   \n",
       "2  Bakery & Desserts   44.99  No Discount   \n",
       "3  Bakery & Desserts   39.99  No Discount   \n",
       "4  Bakery & Desserts   59.99  No Discount   \n",
       "\n",
       "                                               Title Currency  \\\n",
       "0  David’s Cookies Mile High Peanut Butter Cake, ...        $   \n",
       "1  The Cake Bake Shop 8\" Round Carrot Cake (16-22...        $   \n",
       "2  St Michel Madeleine, Classic French Sponge Cak...        $   \n",
       "3  David's Cookies Butter Pecan Meltaways 32 oz, ...        $   \n",
       "4  David’s Cookies Premier Chocolate Cake, 7.2 lb...        $   \n",
       "\n",
       "                                             Feature  \\\n",
       "0  \"10\"\" Peanut Butter Cake\\nCertified Kosher OU-...   \n",
       "1  Spiced Carrot Cake with Cream Cheese Frosting ...   \n",
       "2  100 count\\nIndividually wrapped\\nMade in and I...   \n",
       "3  Butter Pecan Meltaways\\n32 oz 2-Pack\\nNo Prese...   \n",
       "4  \"10\" Four Layer Chocolate Cake\\nCertified Kosh...   \n",
       "\n",
       "                                 Product Description  \n",
       "0  A cake the dessert epicure will die for!Our To...  \n",
       "1  Due to the perishable nature of this item, ord...  \n",
       "2  Moist and buttery sponge cakes with the tradit...  \n",
       "3  These delectable butter pecan meltaways are th...  \n",
       "4  A cake the dessert epicure will die for!To the...  "
      ]
     },
     "execution_count": 27,
     "metadata": {},
     "output_type": "execute_result"
    }
   ],
   "source": [
    "data.head()"
   ]
  },
  {
   "cell_type": "code",
   "execution_count": 28,
   "id": "940de106",
   "metadata": {
    "execution": {
     "iopub.execute_input": "2024-01-17T19:49:25.687071Z",
     "iopub.status.busy": "2024-01-17T19:49:25.686337Z",
     "iopub.status.idle": "2024-01-17T19:49:25.693771Z",
     "shell.execute_reply": "2024-01-17T19:49:25.692943Z"
    },
    "papermill": {
     "duration": 0.032731,
     "end_time": "2024-01-17T19:49:25.695679",
     "exception": false,
     "start_time": "2024-01-17T19:49:25.662948",
     "status": "completed"
    },
    "tags": []
   },
   "outputs": [
    {
     "data": {
      "text/plain": [
       "array(['No Discount', 'After $30 OFF', 'After $5 OFF',\n",
       "       'This item is not returnable.', 'After $20 OFF', 'After $4.50 OFF',\n",
       "       'After $4 OFF', 'After $2.80 OFF', 'After $8 OFF',\n",
       "       'After $3.60 OFF', 'After $3 OFF', 'After $1.50 OFF',\n",
       "       'After $3.30 OFF', 'After $6 OFF', 'After $2.40 OFF',\n",
       "       'After $2.20 OFF', 'After $12 OFF', 'After $3.10 OFF',\n",
       "       'After $5.60 OFF', 'After $2.70 OFF', 'After $10 OFF',\n",
       "       'After $9.30 OFF', 'After $50 OFF', 'After $2.50 OFF',\n",
       "       'After $70 OFF', 'After $60 OFF', 'After $40 - $80 OFF',\n",
       "       'After $40 - $70 OFF', 'After $40 OFF', 'After $80 OFF', '.',\n",
       "       'After $3.50 OFF', 'Limit 1 Per Member', 'Limit 5 Per Member',\n",
       "       'After $6.50 OFF', 'After $3.80 OFF', 'After $2.60 OFF',\n",
       "       'After $7 OFF',\n",
       "       'Costco Members Receive an Additional $5 OFF Caramel Peanut Protein Bars with FitCrunch through Costco Next',\n",
       "       'After $4.10 OFF', 'After $2 OFF', 'After $2.30 OFF'], dtype=object)"
      ]
     },
     "execution_count": 28,
     "metadata": {},
     "output_type": "execute_result"
    }
   ],
   "source": [
    "data.Discount.unique()"
   ]
  },
  {
   "cell_type": "code",
   "execution_count": 29,
   "id": "9da8d197",
   "metadata": {
    "execution": {
     "iopub.execute_input": "2024-01-17T19:49:25.740756Z",
     "iopub.status.busy": "2024-01-17T19:49:25.740083Z",
     "iopub.status.idle": "2024-01-17T19:49:25.747661Z",
     "shell.execute_reply": "2024-01-17T19:49:25.746249Z"
    },
    "papermill": {
     "duration": 0.032908,
     "end_time": "2024-01-17T19:49:25.750094",
     "exception": false,
     "start_time": "2024-01-17T19:49:25.717186",
     "status": "completed"
    },
    "tags": []
   },
   "outputs": [],
   "source": [
    "Meat_Seafood = data[data['Sub Category'] == \"Meat & Seafood\"]\n",
    "Gift_Baskets = data[data['Sub Category'] == \"Gift Baskets\"]\n",
    "Seafood = data[data['Sub Category'] == \"Seafood\"]"
   ]
  },
  {
   "cell_type": "markdown",
   "id": "d6730fda",
   "metadata": {
    "papermill": {
     "duration": 0.021646,
     "end_time": "2024-01-17T19:49:25.793601",
     "exception": false,
     "start_time": "2024-01-17T19:49:25.771955",
     "status": "completed"
    },
    "tags": []
   },
   "source": [
    ">Becasue of high number of discount on the Meat and Seafood sub category, so it generated more revenue."
   ]
  },
  {
   "cell_type": "code",
   "execution_count": 30,
   "id": "f5cf90c7",
   "metadata": {
    "execution": {
     "iopub.execute_input": "2024-01-17T19:49:25.838837Z",
     "iopub.status.busy": "2024-01-17T19:49:25.838124Z",
     "iopub.status.idle": "2024-01-17T19:49:25.851048Z",
     "shell.execute_reply": "2024-01-17T19:49:25.850308Z"
    },
    "papermill": {
     "duration": 0.037598,
     "end_time": "2024-01-17T19:49:25.852865",
     "exception": false,
     "start_time": "2024-01-17T19:49:25.815267",
     "status": "completed"
    },
    "tags": []
   },
   "outputs": [
    {
     "name": "stdout",
     "output_type": "stream",
     "text": [
      "['After $70 OFF' 'After $60 OFF' 'No Discount' 'After $40 - $80 OFF'\n",
      " 'After $40 - $70 OFF' 'After $30 OFF' 'After $40 OFF' 'After $80 OFF' '.']\n"
     ]
    },
    {
     "data": {
      "text/html": [
       "<div>\n",
       "<style scoped>\n",
       "    .dataframe tbody tr th:only-of-type {\n",
       "        vertical-align: middle;\n",
       "    }\n",
       "\n",
       "    .dataframe tbody tr th {\n",
       "        vertical-align: top;\n",
       "    }\n",
       "\n",
       "    .dataframe thead th {\n",
       "        text-align: right;\n",
       "    }\n",
       "</style>\n",
       "<table border=\"1\" class=\"dataframe\">\n",
       "  <thead>\n",
       "    <tr style=\"text-align: right;\">\n",
       "      <th></th>\n",
       "      <th>Sub Category</th>\n",
       "      <th>Price</th>\n",
       "      <th>Discount</th>\n",
       "      <th>Title</th>\n",
       "      <th>Currency</th>\n",
       "      <th>Feature</th>\n",
       "      <th>Product Description</th>\n",
       "    </tr>\n",
       "  </thead>\n",
       "  <tbody>\n",
       "    <tr>\n",
       "      <th>972</th>\n",
       "      <td>Meat &amp; Seafood</td>\n",
       "      <td>149.99</td>\n",
       "      <td>After $70 OFF</td>\n",
       "      <td>Ahi Tuna Individual Vacuum Packed Portion (26-...</td>\n",
       "      <td>$</td>\n",
       "      <td>Wild, Boneless Ahi Tuna, Frozen   6 oz. Portio...</td>\n",
       "      <td>Ahi means “fire” in Hawaiian and refers to the...</td>\n",
       "    </tr>\n",
       "    <tr>\n",
       "      <th>973</th>\n",
       "      <td>Meat &amp; Seafood</td>\n",
       "      <td>229.99</td>\n",
       "      <td>After $60 OFF</td>\n",
       "      <td>Chicago Steak USDA Prime Beef Wet Aged Boneles...</td>\n",
       "      <td>$</td>\n",
       "      <td>8 USDA Prime Wet Aged Boneless NY Strips (12 O...</td>\n",
       "      <td>These tender Boneless Strips and juicy Gourmet...</td>\n",
       "    </tr>\n",
       "    <tr>\n",
       "      <th>974</th>\n",
       "      <td>Meat &amp; Seafood</td>\n",
       "      <td>239.99</td>\n",
       "      <td>After $60 OFF</td>\n",
       "      <td>Alaska Home Pack Frozen Sea Cucumber - 3 Packs...</td>\n",
       "      <td>$</td>\n",
       "      <td>Please Check Below for Pack Contents   Wild &amp; ...</td>\n",
       "      <td>Semi-dehydrated then frozen Sea Cucumber Skins...</td>\n",
       "    </tr>\n",
       "  </tbody>\n",
       "</table>\n",
       "</div>"
      ],
      "text/plain": [
       "       Sub Category   Price       Discount  \\\n",
       "972  Meat & Seafood  149.99  After $70 OFF   \n",
       "973  Meat & Seafood  229.99  After $60 OFF   \n",
       "974  Meat & Seafood  239.99  After $60 OFF   \n",
       "\n",
       "                                                 Title Currency  \\\n",
       "972  Ahi Tuna Individual Vacuum Packed Portion (26-...        $   \n",
       "973  Chicago Steak USDA Prime Beef Wet Aged Boneles...        $   \n",
       "974  Alaska Home Pack Frozen Sea Cucumber - 3 Packs...        $   \n",
       "\n",
       "                                               Feature  \\\n",
       "972  Wild, Boneless Ahi Tuna, Frozen   6 oz. Portio...   \n",
       "973  8 USDA Prime Wet Aged Boneless NY Strips (12 O...   \n",
       "974  Please Check Below for Pack Contents   Wild & ...   \n",
       "\n",
       "                                   Product Description  \n",
       "972  Ahi means “fire” in Hawaiian and refers to the...  \n",
       "973  These tender Boneless Strips and juicy Gourmet...  \n",
       "974  Semi-dehydrated then frozen Sea Cucumber Skins...  "
      ]
     },
     "execution_count": 30,
     "metadata": {},
     "output_type": "execute_result"
    }
   ],
   "source": [
    "print(Meat_Seafood.Discount.unique())\n",
    "Meat_Seafood.head(3)"
   ]
  },
  {
   "cell_type": "code",
   "execution_count": 31,
   "id": "4858136c",
   "metadata": {
    "execution": {
     "iopub.execute_input": "2024-01-17T19:49:25.898389Z",
     "iopub.status.busy": "2024-01-17T19:49:25.897698Z",
     "iopub.status.idle": "2024-01-17T19:49:25.911943Z",
     "shell.execute_reply": "2024-01-17T19:49:25.910908Z"
    },
    "papermill": {
     "duration": 0.039577,
     "end_time": "2024-01-17T19:49:25.914126",
     "exception": false,
     "start_time": "2024-01-17T19:49:25.874549",
     "status": "completed"
    },
    "tags": []
   },
   "outputs": [
    {
     "name": "stdout",
     "output_type": "stream",
     "text": [
      "['No Discount' 'After $50 OFF' 'After $20 OFF' 'After $30 OFF']\n"
     ]
    },
    {
     "data": {
      "text/html": [
       "<div>\n",
       "<style scoped>\n",
       "    .dataframe tbody tr th:only-of-type {\n",
       "        vertical-align: middle;\n",
       "    }\n",
       "\n",
       "    .dataframe tbody tr th {\n",
       "        vertical-align: top;\n",
       "    }\n",
       "\n",
       "    .dataframe thead th {\n",
       "        text-align: right;\n",
       "    }\n",
       "</style>\n",
       "<table border=\"1\" class=\"dataframe\">\n",
       "  <thead>\n",
       "    <tr style=\"text-align: right;\">\n",
       "      <th></th>\n",
       "      <th>Sub Category</th>\n",
       "      <th>Price</th>\n",
       "      <th>Discount</th>\n",
       "      <th>Title</th>\n",
       "      <th>Currency</th>\n",
       "      <th>Feature</th>\n",
       "      <th>Product Description</th>\n",
       "    </tr>\n",
       "  </thead>\n",
       "  <tbody>\n",
       "    <tr>\n",
       "      <th>641</th>\n",
       "      <td>Gift Baskets</td>\n",
       "      <td>11.99</td>\n",
       "      <td>No Discount</td>\n",
       "      <td>Kirkland Signature Caramel S’mores Clusters, 2...</td>\n",
       "      <td>$</td>\n",
       "      <td>Kosher   Resealable Bag   Store in Cool, Dry, ...</td>\n",
       "      <td>Delicious clusters of graham crackers and mars...</td>\n",
       "    </tr>\n",
       "    <tr>\n",
       "      <th>642</th>\n",
       "      <td>Gift Baskets</td>\n",
       "      <td>39.99</td>\n",
       "      <td>No Discount</td>\n",
       "      <td>Vacaville Fruit Company 56 oz  Dried Fruit &amp; N...</td>\n",
       "      <td>$</td>\n",
       "      <td>2 Types of Peaches (USA)   Mango Slices (Thail...</td>\n",
       "      <td>This delightfully arranged Dried Fruit &amp; Nut W...</td>\n",
       "    </tr>\n",
       "    <tr>\n",
       "      <th>643</th>\n",
       "      <td>Gift Baskets</td>\n",
       "      <td>49.99</td>\n",
       "      <td>No Discount</td>\n",
       "      <td>The Fruit Company Classic 5-box Tower</td>\n",
       "      <td>$</td>\n",
       "      <td>Royal Comice Pears   Bosc Pears   Fuji Apples ...</td>\n",
       "      <td>This year remember everyone on your list with ...</td>\n",
       "    </tr>\n",
       "  </tbody>\n",
       "</table>\n",
       "</div>"
      ],
      "text/plain": [
       "     Sub Category  Price     Discount  \\\n",
       "641  Gift Baskets  11.99  No Discount   \n",
       "642  Gift Baskets  39.99  No Discount   \n",
       "643  Gift Baskets  49.99  No Discount   \n",
       "\n",
       "                                                 Title Currency  \\\n",
       "641  Kirkland Signature Caramel S’mores Clusters, 2...        $   \n",
       "642  Vacaville Fruit Company 56 oz  Dried Fruit & N...        $   \n",
       "643              The Fruit Company Classic 5-box Tower        $   \n",
       "\n",
       "                                               Feature  \\\n",
       "641  Kosher   Resealable Bag   Store in Cool, Dry, ...   \n",
       "642  2 Types of Peaches (USA)   Mango Slices (Thail...   \n",
       "643  Royal Comice Pears   Bosc Pears   Fuji Apples ...   \n",
       "\n",
       "                                   Product Description  \n",
       "641  Delicious clusters of graham crackers and mars...  \n",
       "642  This delightfully arranged Dried Fruit & Nut W...  \n",
       "643  This year remember everyone on your list with ...  "
      ]
     },
     "execution_count": 31,
     "metadata": {},
     "output_type": "execute_result"
    }
   ],
   "source": [
    "print(Gift_Baskets.Discount.unique())\n",
    "Gift_Baskets.head(3)"
   ]
  },
  {
   "cell_type": "code",
   "execution_count": 32,
   "id": "a6fc02ba",
   "metadata": {
    "execution": {
     "iopub.execute_input": "2024-01-17T19:49:25.960175Z",
     "iopub.status.busy": "2024-01-17T19:49:25.959761Z",
     "iopub.status.idle": "2024-01-17T19:49:25.974788Z",
     "shell.execute_reply": "2024-01-17T19:49:25.973503Z"
    },
    "papermill": {
     "duration": 0.040995,
     "end_time": "2024-01-17T19:49:25.977092",
     "exception": false,
     "start_time": "2024-01-17T19:49:25.936097",
     "status": "completed"
    },
    "tags": []
   },
   "outputs": [
    {
     "name": "stdout",
     "output_type": "stream",
     "text": [
      "['After $70 OFF' 'After $60 OFF' 'No Discount']\n"
     ]
    },
    {
     "data": {
      "text/html": [
       "<div>\n",
       "<style scoped>\n",
       "    .dataframe tbody tr th:only-of-type {\n",
       "        vertical-align: middle;\n",
       "    }\n",
       "\n",
       "    .dataframe tbody tr th {\n",
       "        vertical-align: top;\n",
       "    }\n",
       "\n",
       "    .dataframe thead th {\n",
       "        text-align: right;\n",
       "    }\n",
       "</style>\n",
       "<table border=\"1\" class=\"dataframe\">\n",
       "  <thead>\n",
       "    <tr style=\"text-align: right;\">\n",
       "      <th></th>\n",
       "      <th>Sub Category</th>\n",
       "      <th>Price</th>\n",
       "      <th>Discount</th>\n",
       "      <th>Title</th>\n",
       "      <th>Currency</th>\n",
       "      <th>Feature</th>\n",
       "      <th>Product Description</th>\n",
       "    </tr>\n",
       "  </thead>\n",
       "  <tbody>\n",
       "    <tr>\n",
       "      <th>1417</th>\n",
       "      <td>Seafood</td>\n",
       "      <td>149.99</td>\n",
       "      <td>After $70 OFF</td>\n",
       "      <td>Ahi Tuna Individual Vacuum Packed Portion (26-...</td>\n",
       "      <td>$</td>\n",
       "      <td>Wild, Boneless Ahi Tuna, Frozen   6 oz. Portio...</td>\n",
       "      <td>Ahi means “fire” in Hawaiian and refers to the...</td>\n",
       "    </tr>\n",
       "    <tr>\n",
       "      <th>1418</th>\n",
       "      <td>Seafood</td>\n",
       "      <td>239.99</td>\n",
       "      <td>After $60 OFF</td>\n",
       "      <td>Alaska Home Pack Frozen Sea Cucumber - 3 Packs...</td>\n",
       "      <td>$</td>\n",
       "      <td>Please Check Below for Pack Contents   Wild &amp; ...</td>\n",
       "      <td>Semi-dehydrated then frozen Sea Cucumber Skins...</td>\n",
       "    </tr>\n",
       "    <tr>\n",
       "      <th>1419</th>\n",
       "      <td>Seafood</td>\n",
       "      <td>14.99</td>\n",
       "      <td>No Discount</td>\n",
       "      <td>Crown Prince Smoked Oysters in Olive Oil, Fanc...</td>\n",
       "      <td>$</td>\n",
       "      <td>ASC Certified   From Managed Fisheries   Fresh...</td>\n",
       "      <td>WARNING:Consuming this product can expose you ...</td>\n",
       "    </tr>\n",
       "  </tbody>\n",
       "</table>\n",
       "</div>"
      ],
      "text/plain": [
       "     Sub Category   Price       Discount  \\\n",
       "1417      Seafood  149.99  After $70 OFF   \n",
       "1418      Seafood  239.99  After $60 OFF   \n",
       "1419      Seafood   14.99    No Discount   \n",
       "\n",
       "                                                  Title Currency  \\\n",
       "1417  Ahi Tuna Individual Vacuum Packed Portion (26-...        $   \n",
       "1418  Alaska Home Pack Frozen Sea Cucumber - 3 Packs...        $   \n",
       "1419  Crown Prince Smoked Oysters in Olive Oil, Fanc...        $   \n",
       "\n",
       "                                                Feature  \\\n",
       "1417  Wild, Boneless Ahi Tuna, Frozen   6 oz. Portio...   \n",
       "1418  Please Check Below for Pack Contents   Wild & ...   \n",
       "1419  ASC Certified   From Managed Fisheries   Fresh...   \n",
       "\n",
       "                                    Product Description  \n",
       "1417  Ahi means “fire” in Hawaiian and refers to the...  \n",
       "1418  Semi-dehydrated then frozen Sea Cucumber Skins...  \n",
       "1419  WARNING:Consuming this product can expose you ...  "
      ]
     },
     "execution_count": 32,
     "metadata": {},
     "output_type": "execute_result"
    }
   ],
   "source": [
    "print(Seafood.Discount.unique())\n",
    "Seafood.head(3)"
   ]
  },
  {
   "cell_type": "markdown",
   "id": "b267fea2",
   "metadata": {
    "papermill": {
     "duration": 0.021954,
     "end_time": "2024-01-17T19:49:26.021406",
     "exception": false,
     "start_time": "2024-01-17T19:49:25.999452",
     "status": "completed"
    },
    "tags": []
   },
   "source": [
    "## 8. Create a new dataframe with following columns:-\n",
    "1. Sub Category Name\n",
    "1. Total Items\n",
    "1. Total Revenue\n",
    "1. Total  $discount on sub category"
   ]
  },
  {
   "cell_type": "code",
   "execution_count": 33,
   "id": "da40c4b8",
   "metadata": {
    "execution": {
     "iopub.execute_input": "2024-01-17T19:49:26.067951Z",
     "iopub.status.busy": "2024-01-17T19:49:26.067553Z",
     "iopub.status.idle": "2024-01-17T19:49:26.074023Z",
     "shell.execute_reply": "2024-01-17T19:49:26.072625Z"
    },
    "papermill": {
     "duration": 0.03284,
     "end_time": "2024-01-17T19:49:26.076654",
     "exception": false,
     "start_time": "2024-01-17T19:49:26.043814",
     "status": "completed"
    },
    "tags": []
   },
   "outputs": [],
   "source": [
    "no_of_items_per_category['revenue'] = revenue_df['Revenue']"
   ]
  },
  {
   "cell_type": "code",
   "execution_count": 34,
   "id": "e8c934fc",
   "metadata": {
    "execution": {
     "iopub.execute_input": "2024-01-17T19:49:26.138483Z",
     "iopub.status.busy": "2024-01-17T19:49:26.137314Z",
     "iopub.status.idle": "2024-01-17T19:49:26.155226Z",
     "shell.execute_reply": "2024-01-17T19:49:26.153941Z"
    },
    "papermill": {
     "duration": 0.052335,
     "end_time": "2024-01-17T19:49:26.158032",
     "exception": false,
     "start_time": "2024-01-17T19:49:26.105697",
     "status": "completed"
    },
    "tags": []
   },
   "outputs": [
    {
     "data": {
      "text/html": [
       "<div>\n",
       "<style scoped>\n",
       "    .dataframe tbody tr th:only-of-type {\n",
       "        vertical-align: middle;\n",
       "    }\n",
       "\n",
       "    .dataframe tbody tr th {\n",
       "        vertical-align: top;\n",
       "    }\n",
       "\n",
       "    .dataframe thead th {\n",
       "        text-align: right;\n",
       "    }\n",
       "</style>\n",
       "<table border=\"1\" class=\"dataframe\">\n",
       "  <thead>\n",
       "    <tr style=\"text-align: right;\">\n",
       "      <th></th>\n",
       "      <th>Sub Category</th>\n",
       "      <th>total_items</th>\n",
       "      <th>revenue</th>\n",
       "    </tr>\n",
       "  </thead>\n",
       "  <tbody>\n",
       "    <tr>\n",
       "      <th>18</th>\n",
       "      <td>Snacks</td>\n",
       "      <td>290</td>\n",
       "      <td>6255.00</td>\n",
       "    </tr>\n",
       "    <tr>\n",
       "      <th>14</th>\n",
       "      <td>Pantry &amp; Dry Goods</td>\n",
       "      <td>171</td>\n",
       "      <td>4976.69</td>\n",
       "    </tr>\n",
       "    <tr>\n",
       "      <th>3</th>\n",
       "      <td>Candy</td>\n",
       "      <td>153</td>\n",
       "      <td>3841.67</td>\n",
       "    </tr>\n",
       "    <tr>\n",
       "      <th>1</th>\n",
       "      <td>Beverages &amp; Water</td>\n",
       "      <td>147</td>\n",
       "      <td>5372.13</td>\n",
       "    </tr>\n",
       "    <tr>\n",
       "      <th>12</th>\n",
       "      <td>Meat &amp; Seafood</td>\n",
       "      <td>143</td>\n",
       "      <td>32418.58</td>\n",
       "    </tr>\n",
       "    <tr>\n",
       "      <th>10</th>\n",
       "      <td>Kirkland Signature Grocery</td>\n",
       "      <td>117</td>\n",
       "      <td>3335.63</td>\n",
       "    </tr>\n",
       "    <tr>\n",
       "      <th>5</th>\n",
       "      <td>Coffee</td>\n",
       "      <td>89</td>\n",
       "      <td>2964.11</td>\n",
       "    </tr>\n",
       "    <tr>\n",
       "      <th>8</th>\n",
       "      <td>Gift Baskets</td>\n",
       "      <td>89</td>\n",
       "      <td>10568.11</td>\n",
       "    </tr>\n",
       "    <tr>\n",
       "      <th>4</th>\n",
       "      <td>Cleaning Supplies</td>\n",
       "      <td>85</td>\n",
       "      <td>2640.76</td>\n",
       "    </tr>\n",
       "    <tr>\n",
       "      <th>15</th>\n",
       "      <td>Paper &amp; Plastic Products</td>\n",
       "      <td>76</td>\n",
       "      <td>1926.44</td>\n",
       "    </tr>\n",
       "    <tr>\n",
       "      <th>7</th>\n",
       "      <td>Floral</td>\n",
       "      <td>75</td>\n",
       "      <td>4338.35</td>\n",
       "    </tr>\n",
       "    <tr>\n",
       "      <th>9</th>\n",
       "      <td>Household</td>\n",
       "      <td>65</td>\n",
       "      <td>2028.95</td>\n",
       "    </tr>\n",
       "    <tr>\n",
       "      <th>17</th>\n",
       "      <td>Seafood</td>\n",
       "      <td>47</td>\n",
       "      <td>9189.51</td>\n",
       "    </tr>\n",
       "    <tr>\n",
       "      <th>11</th>\n",
       "      <td>Laundry Detergent &amp; Supplies</td>\n",
       "      <td>33</td>\n",
       "      <td>1179.17</td>\n",
       "    </tr>\n",
       "    <tr>\n",
       "      <th>13</th>\n",
       "      <td>Organic</td>\n",
       "      <td>33</td>\n",
       "      <td>739.87</td>\n",
       "    </tr>\n",
       "    <tr>\n",
       "      <th>0</th>\n",
       "      <td>Bakery &amp; Desserts</td>\n",
       "      <td>33</td>\n",
       "      <td>2752.67</td>\n",
       "    </tr>\n",
       "    <tr>\n",
       "      <th>6</th>\n",
       "      <td>Deli</td>\n",
       "      <td>21</td>\n",
       "      <td>7784.79</td>\n",
       "    </tr>\n",
       "    <tr>\n",
       "      <th>2</th>\n",
       "      <td>Breakfast</td>\n",
       "      <td>21</td>\n",
       "      <td>279.39</td>\n",
       "    </tr>\n",
       "    <tr>\n",
       "      <th>16</th>\n",
       "      <td>Poultry</td>\n",
       "      <td>8</td>\n",
       "      <td>1279.92</td>\n",
       "    </tr>\n",
       "  </tbody>\n",
       "</table>\n",
       "</div>"
      ],
      "text/plain": [
       "                    Sub Category  total_items   revenue\n",
       "18                        Snacks          290   6255.00\n",
       "14            Pantry & Dry Goods          171   4976.69\n",
       "3                          Candy          153   3841.67\n",
       "1              Beverages & Water          147   5372.13\n",
       "12                Meat & Seafood          143  32418.58\n",
       "10    Kirkland Signature Grocery          117   3335.63\n",
       "5                         Coffee           89   2964.11\n",
       "8                   Gift Baskets           89  10568.11\n",
       "4              Cleaning Supplies           85   2640.76\n",
       "15      Paper & Plastic Products           76   1926.44\n",
       "7                         Floral           75   4338.35\n",
       "9                      Household           65   2028.95\n",
       "17                       Seafood           47   9189.51\n",
       "11  Laundry Detergent & Supplies           33   1179.17\n",
       "13                       Organic           33    739.87\n",
       "0              Bakery & Desserts           33   2752.67\n",
       "6                           Deli           21   7784.79\n",
       "2                      Breakfast           21    279.39\n",
       "16                       Poultry            8   1279.92"
      ]
     },
     "execution_count": 34,
     "metadata": {},
     "output_type": "execute_result"
    }
   ],
   "source": [
    "new_df = no_of_items_per_category\n",
    "new_df "
   ]
  },
  {
   "cell_type": "code",
   "execution_count": 35,
   "id": "d98c2e86",
   "metadata": {
    "execution": {
     "iopub.execute_input": "2024-01-17T19:49:26.219388Z",
     "iopub.status.busy": "2024-01-17T19:49:26.218039Z",
     "iopub.status.idle": "2024-01-17T19:49:26.226520Z",
     "shell.execute_reply": "2024-01-17T19:49:26.225436Z"
    },
    "papermill": {
     "duration": 0.040533,
     "end_time": "2024-01-17T19:49:26.228594",
     "exception": false,
     "start_time": "2024-01-17T19:49:26.188061",
     "status": "completed"
    },
    "tags": []
   },
   "outputs": [
    {
     "data": {
      "text/plain": [
       "array(['No Discount', 'After $30 OFF', 'After $5 OFF',\n",
       "       'This item is not returnable.', 'After $20 OFF', 'After $4.50 OFF',\n",
       "       'After $4 OFF', 'After $2.80 OFF', 'After $8 OFF',\n",
       "       'After $3.60 OFF', 'After $3 OFF', 'After $1.50 OFF',\n",
       "       'After $3.30 OFF', 'After $6 OFF', 'After $2.20 OFF',\n",
       "       'After $12 OFF', 'After $3.10 OFF', 'After $5.60 OFF',\n",
       "       'After $2.70 OFF', 'After $10 OFF', 'After $9.30 OFF',\n",
       "       'After $50 OFF', 'After $2.50 OFF', 'After $70 OFF',\n",
       "       'After $60 OFF', 'After $40 - $80 OFF', 'After $40 - $70 OFF',\n",
       "       'After $40 OFF', 'After $80 OFF', 'After $3.50 OFF',\n",
       "       'Limit 1 Per Member', 'Limit 5 Per Member', 'After $6.50 OFF',\n",
       "       'After $3.80 OFF', 'After $2.60 OFF', 'After $7 OFF',\n",
       "       'After $4.10 OFF', 'After $2 OFF', 'After $2.30 OFF',\n",
       "       'After $2.40 OFF'], dtype=object)"
      ]
     },
     "execution_count": 35,
     "metadata": {},
     "output_type": "execute_result"
    }
   ],
   "source": [
    "df.Discount.unique()"
   ]
  },
  {
   "cell_type": "code",
   "execution_count": 36,
   "id": "d33f7ee9",
   "metadata": {
    "execution": {
     "iopub.execute_input": "2024-01-17T19:49:26.275532Z",
     "iopub.status.busy": "2024-01-17T19:49:26.275124Z",
     "iopub.status.idle": "2024-01-17T19:49:26.282252Z",
     "shell.execute_reply": "2024-01-17T19:49:26.281063Z"
    },
    "papermill": {
     "duration": 0.032979,
     "end_time": "2024-01-17T19:49:26.284320",
     "exception": false,
     "start_time": "2024-01-17T19:49:26.251341",
     "status": "completed"
    },
    "tags": []
   },
   "outputs": [],
   "source": [
    "df.drop(df[df['Discount'] == 'Limit 5 Per Member'].index, inplace=True)"
   ]
  },
  {
   "cell_type": "code",
   "execution_count": 37,
   "id": "e35ddc2e",
   "metadata": {
    "execution": {
     "iopub.execute_input": "2024-01-17T19:49:26.332800Z",
     "iopub.status.busy": "2024-01-17T19:49:26.332386Z",
     "iopub.status.idle": "2024-01-17T19:49:26.340222Z",
     "shell.execute_reply": "2024-01-17T19:49:26.338982Z"
    },
    "papermill": {
     "duration": 0.034946,
     "end_time": "2024-01-17T19:49:26.342373",
     "exception": false,
     "start_time": "2024-01-17T19:49:26.307427",
     "status": "completed"
    },
    "tags": []
   },
   "outputs": [],
   "source": [
    "df.drop(df[df['Discount'] == 'Limit 1 Per Member'].index, inplace=True)"
   ]
  },
  {
   "cell_type": "code",
   "execution_count": 38,
   "id": "f1019acf",
   "metadata": {
    "execution": {
     "iopub.execute_input": "2024-01-17T19:49:26.388923Z",
     "iopub.status.busy": "2024-01-17T19:49:26.388561Z",
     "iopub.status.idle": "2024-01-17T19:49:26.399567Z",
     "shell.execute_reply": "2024-01-17T19:49:26.398257Z"
    },
    "papermill": {
     "duration": 0.036825,
     "end_time": "2024-01-17T19:49:26.401698",
     "exception": false,
     "start_time": "2024-01-17T19:49:26.364873",
     "status": "completed"
    },
    "tags": []
   },
   "outputs": [],
   "source": [
    "df['Discount$'] = df['Discount'].str.replace('[^\\d.]', '', regex=True)"
   ]
  },
  {
   "cell_type": "code",
   "execution_count": 39,
   "id": "3393ab44",
   "metadata": {
    "execution": {
     "iopub.execute_input": "2024-01-17T19:49:26.449037Z",
     "iopub.status.busy": "2024-01-17T19:49:26.448035Z",
     "iopub.status.idle": "2024-01-17T19:49:26.465705Z",
     "shell.execute_reply": "2024-01-17T19:49:26.464428Z"
    },
    "papermill": {
     "duration": 0.044512,
     "end_time": "2024-01-17T19:49:26.468883",
     "exception": false,
     "start_time": "2024-01-17T19:49:26.424371",
     "status": "completed"
    },
    "tags": []
   },
   "outputs": [
    {
     "data": {
      "text/html": [
       "<div>\n",
       "<style scoped>\n",
       "    .dataframe tbody tr th:only-of-type {\n",
       "        vertical-align: middle;\n",
       "    }\n",
       "\n",
       "    .dataframe tbody tr th {\n",
       "        vertical-align: top;\n",
       "    }\n",
       "\n",
       "    .dataframe thead th {\n",
       "        text-align: right;\n",
       "    }\n",
       "</style>\n",
       "<table border=\"1\" class=\"dataframe\">\n",
       "  <thead>\n",
       "    <tr style=\"text-align: right;\">\n",
       "      <th></th>\n",
       "      <th>Sub Category</th>\n",
       "      <th>Price</th>\n",
       "      <th>Discount</th>\n",
       "      <th>Title</th>\n",
       "      <th>Feature</th>\n",
       "      <th>Product Description</th>\n",
       "      <th>Discount$</th>\n",
       "    </tr>\n",
       "  </thead>\n",
       "  <tbody>\n",
       "    <tr>\n",
       "      <th>0</th>\n",
       "      <td>Bakery &amp; Desserts</td>\n",
       "      <td>56.99</td>\n",
       "      <td>No Discount</td>\n",
       "      <td>David’s Cookies Mile High Peanut Butter Cake, ...</td>\n",
       "      <td>\"10\"\" Peanut Butter Cake\\nCertified Kosher OU-...</td>\n",
       "      <td>A cake the dessert epicure will die for!Our To...</td>\n",
       "      <td></td>\n",
       "    </tr>\n",
       "    <tr>\n",
       "      <th>1</th>\n",
       "      <td>Bakery &amp; Desserts</td>\n",
       "      <td>159.99</td>\n",
       "      <td>No Discount</td>\n",
       "      <td>The Cake Bake Shop 8\" Round Carrot Cake (16-22...</td>\n",
       "      <td>Spiced Carrot Cake with Cream Cheese Frosting ...</td>\n",
       "      <td>Due to the perishable nature of this item, ord...</td>\n",
       "      <td></td>\n",
       "    </tr>\n",
       "    <tr>\n",
       "      <th>2</th>\n",
       "      <td>Bakery &amp; Desserts</td>\n",
       "      <td>44.99</td>\n",
       "      <td>No Discount</td>\n",
       "      <td>St Michel Madeleine, Classic French Sponge Cak...</td>\n",
       "      <td>100 count\\nIndividually wrapped\\nMade in and I...</td>\n",
       "      <td>Moist and buttery sponge cakes with the tradit...</td>\n",
       "      <td></td>\n",
       "    </tr>\n",
       "    <tr>\n",
       "      <th>3</th>\n",
       "      <td>Bakery &amp; Desserts</td>\n",
       "      <td>39.99</td>\n",
       "      <td>No Discount</td>\n",
       "      <td>David's Cookies Butter Pecan Meltaways 32 oz, ...</td>\n",
       "      <td>Butter Pecan Meltaways\\n32 oz 2-Pack\\nNo Prese...</td>\n",
       "      <td>These delectable butter pecan meltaways are th...</td>\n",
       "      <td></td>\n",
       "    </tr>\n",
       "    <tr>\n",
       "      <th>4</th>\n",
       "      <td>Bakery &amp; Desserts</td>\n",
       "      <td>59.99</td>\n",
       "      <td>No Discount</td>\n",
       "      <td>David’s Cookies Premier Chocolate Cake, 7.2 lb...</td>\n",
       "      <td>\"10\" Four Layer Chocolate Cake\\nCertified Kosh...</td>\n",
       "      <td>A cake the dessert epicure will die for!To the...</td>\n",
       "      <td></td>\n",
       "    </tr>\n",
       "  </tbody>\n",
       "</table>\n",
       "</div>"
      ],
      "text/plain": [
       "        Sub Category   Price     Discount  \\\n",
       "0  Bakery & Desserts   56.99  No Discount   \n",
       "1  Bakery & Desserts  159.99  No Discount   \n",
       "2  Bakery & Desserts   44.99  No Discount   \n",
       "3  Bakery & Desserts   39.99  No Discount   \n",
       "4  Bakery & Desserts   59.99  No Discount   \n",
       "\n",
       "                                               Title  \\\n",
       "0  David’s Cookies Mile High Peanut Butter Cake, ...   \n",
       "1  The Cake Bake Shop 8\" Round Carrot Cake (16-22...   \n",
       "2  St Michel Madeleine, Classic French Sponge Cak...   \n",
       "3  David's Cookies Butter Pecan Meltaways 32 oz, ...   \n",
       "4  David’s Cookies Premier Chocolate Cake, 7.2 lb...   \n",
       "\n",
       "                                             Feature  \\\n",
       "0  \"10\"\" Peanut Butter Cake\\nCertified Kosher OU-...   \n",
       "1  Spiced Carrot Cake with Cream Cheese Frosting ...   \n",
       "2  100 count\\nIndividually wrapped\\nMade in and I...   \n",
       "3  Butter Pecan Meltaways\\n32 oz 2-Pack\\nNo Prese...   \n",
       "4  \"10\" Four Layer Chocolate Cake\\nCertified Kosh...   \n",
       "\n",
       "                                 Product Description Discount$  \n",
       "0  A cake the dessert epicure will die for!Our To...            \n",
       "1  Due to the perishable nature of this item, ord...            \n",
       "2  Moist and buttery sponge cakes with the tradit...            \n",
       "3  These delectable butter pecan meltaways are th...            \n",
       "4  A cake the dessert epicure will die for!To the...            "
      ]
     },
     "execution_count": 39,
     "metadata": {},
     "output_type": "execute_result"
    }
   ],
   "source": [
    "df.head()"
   ]
  },
  {
   "cell_type": "code",
   "execution_count": 40,
   "id": "287b197e",
   "metadata": {
    "execution": {
     "iopub.execute_input": "2024-01-17T19:49:26.523227Z",
     "iopub.status.busy": "2024-01-17T19:49:26.522701Z",
     "iopub.status.idle": "2024-01-17T19:49:26.530957Z",
     "shell.execute_reply": "2024-01-17T19:49:26.529858Z"
    },
    "papermill": {
     "duration": 0.03695,
     "end_time": "2024-01-17T19:49:26.533594",
     "exception": false,
     "start_time": "2024-01-17T19:49:26.496644",
     "status": "completed"
    },
    "tags": []
   },
   "outputs": [],
   "source": [
    "df['Discount$'].replace('',0, inplace=True)\n",
    "df['Discount$'] = pd.to_numeric(df['Discount$'], errors='coerce')"
   ]
  },
  {
   "cell_type": "code",
   "execution_count": 41,
   "id": "60dd0ba5",
   "metadata": {
    "execution": {
     "iopub.execute_input": "2024-01-17T19:49:26.585377Z",
     "iopub.status.busy": "2024-01-17T19:49:26.584965Z",
     "iopub.status.idle": "2024-01-17T19:49:26.597598Z",
     "shell.execute_reply": "2024-01-17T19:49:26.596479Z"
    },
    "papermill": {
     "duration": 0.042632,
     "end_time": "2024-01-17T19:49:26.599899",
     "exception": false,
     "start_time": "2024-01-17T19:49:26.557267",
     "status": "completed"
    },
    "tags": []
   },
   "outputs": [
    {
     "name": "stdout",
     "output_type": "stream",
     "text": [
      "<class 'pandas.core.frame.DataFrame'>\n",
      "Index: 1694 entries, 0 to 1756\n",
      "Data columns (total 7 columns):\n",
      " #   Column               Non-Null Count  Dtype  \n",
      "---  ------               --------------  -----  \n",
      " 0   Sub Category         1694 non-null   object \n",
      " 1   Price                1680 non-null   float64\n",
      " 2   Discount             1694 non-null   object \n",
      " 3   Title                1694 non-null   object \n",
      " 4   Feature              1694 non-null   object \n",
      " 5   Product Description  1694 non-null   object \n",
      " 6   Discount$            1693 non-null   float64\n",
      "dtypes: float64(2), object(5)\n",
      "memory usage: 105.9+ KB\n"
     ]
    }
   ],
   "source": [
    "df.info()"
   ]
  },
  {
   "cell_type": "markdown",
   "id": "78257112",
   "metadata": {
    "papermill": {
     "duration": 0.0227,
     "end_time": "2024-01-17T19:49:26.646572",
     "exception": false,
     "start_time": "2024-01-17T19:49:26.623872",
     "status": "completed"
    },
    "tags": []
   },
   "source": [
    "### Finding Discount upto given for each category"
   ]
  },
  {
   "cell_type": "code",
   "execution_count": 42,
   "id": "012b5cd8",
   "metadata": {
    "execution": {
     "iopub.execute_input": "2024-01-17T19:49:26.695731Z",
     "iopub.status.busy": "2024-01-17T19:49:26.695334Z",
     "iopub.status.idle": "2024-01-17T19:49:26.705609Z",
     "shell.execute_reply": "2024-01-17T19:49:26.704498Z"
    },
    "papermill": {
     "duration": 0.038158,
     "end_time": "2024-01-17T19:49:26.708157",
     "exception": false,
     "start_time": "2024-01-17T19:49:26.669999",
     "status": "completed"
    },
    "tags": []
   },
   "outputs": [],
   "source": [
    "new_df[\"OFF Upto\"] = df.loc[df.groupby(by='Sub Category')['Discount$'].idxmax()]['Discount$'].values"
   ]
  },
  {
   "cell_type": "code",
   "execution_count": 43,
   "id": "caf913b6",
   "metadata": {
    "execution": {
     "iopub.execute_input": "2024-01-17T19:49:26.757457Z",
     "iopub.status.busy": "2024-01-17T19:49:26.757071Z",
     "iopub.status.idle": "2024-01-17T19:49:26.766478Z",
     "shell.execute_reply": "2024-01-17T19:49:26.765662Z"
    },
    "papermill": {
     "duration": 0.036322,
     "end_time": "2024-01-17T19:49:26.768533",
     "exception": false,
     "start_time": "2024-01-17T19:49:26.732211",
     "status": "completed"
    },
    "tags": []
   },
   "outputs": [],
   "source": [
    "off = df.loc[df.groupby(by='Sub Category')['Discount$'].idxmax()].sort_values(by='Sub Category')['Discount$'].values"
   ]
  },
  {
   "cell_type": "code",
   "execution_count": 44,
   "id": "22438600",
   "metadata": {
    "execution": {
     "iopub.execute_input": "2024-01-17T19:49:26.817081Z",
     "iopub.status.busy": "2024-01-17T19:49:26.816703Z",
     "iopub.status.idle": "2024-01-17T19:49:26.821290Z",
     "shell.execute_reply": "2024-01-17T19:49:26.820026Z"
    },
    "papermill": {
     "duration": 0.031767,
     "end_time": "2024-01-17T19:49:26.823488",
     "exception": false,
     "start_time": "2024-01-17T19:49:26.791721",
     "status": "completed"
    },
    "tags": []
   },
   "outputs": [],
   "source": [
    "#new_df.drop('OFF upto', axis=1, inplace=True)"
   ]
  },
  {
   "cell_type": "code",
   "execution_count": 45,
   "id": "cbe184c4",
   "metadata": {
    "execution": {
     "iopub.execute_input": "2024-01-17T19:49:26.873596Z",
     "iopub.status.busy": "2024-01-17T19:49:26.872588Z",
     "iopub.status.idle": "2024-01-17T19:49:26.880623Z",
     "shell.execute_reply": "2024-01-17T19:49:26.879251Z"
    },
    "papermill": {
     "duration": 0.035348,
     "end_time": "2024-01-17T19:49:26.883020",
     "exception": false,
     "start_time": "2024-01-17T19:49:26.847672",
     "status": "completed"
    },
    "tags": []
   },
   "outputs": [],
   "source": [
    "new_df = new_df.sort_values(by='Sub Category')\n",
    "new_df['OFF Upto'] = off"
   ]
  },
  {
   "cell_type": "code",
   "execution_count": 46,
   "id": "1837e3d6",
   "metadata": {
    "execution": {
     "iopub.execute_input": "2024-01-17T19:49:26.936708Z",
     "iopub.status.busy": "2024-01-17T19:49:26.936196Z",
     "iopub.status.idle": "2024-01-17T19:49:26.950639Z",
     "shell.execute_reply": "2024-01-17T19:49:26.949588Z"
    },
    "papermill": {
     "duration": 0.041857,
     "end_time": "2024-01-17T19:49:26.952752",
     "exception": false,
     "start_time": "2024-01-17T19:49:26.910895",
     "status": "completed"
    },
    "tags": []
   },
   "outputs": [
    {
     "data": {
      "text/html": [
       "<div>\n",
       "<style scoped>\n",
       "    .dataframe tbody tr th:only-of-type {\n",
       "        vertical-align: middle;\n",
       "    }\n",
       "\n",
       "    .dataframe tbody tr th {\n",
       "        vertical-align: top;\n",
       "    }\n",
       "\n",
       "    .dataframe thead th {\n",
       "        text-align: right;\n",
       "    }\n",
       "</style>\n",
       "<table border=\"1\" class=\"dataframe\">\n",
       "  <thead>\n",
       "    <tr style=\"text-align: right;\">\n",
       "      <th></th>\n",
       "      <th>Sub Category</th>\n",
       "      <th>total_items</th>\n",
       "      <th>revenue</th>\n",
       "      <th>OFF Upto</th>\n",
       "    </tr>\n",
       "  </thead>\n",
       "  <tbody>\n",
       "    <tr>\n",
       "      <th>0</th>\n",
       "      <td>Bakery &amp; Desserts</td>\n",
       "      <td>33</td>\n",
       "      <td>2752.67</td>\n",
       "      <td>0.0</td>\n",
       "    </tr>\n",
       "    <tr>\n",
       "      <th>1</th>\n",
       "      <td>Beverages &amp; Water</td>\n",
       "      <td>147</td>\n",
       "      <td>5372.13</td>\n",
       "      <td>30.0</td>\n",
       "    </tr>\n",
       "    <tr>\n",
       "      <th>2</th>\n",
       "      <td>Breakfast</td>\n",
       "      <td>21</td>\n",
       "      <td>279.39</td>\n",
       "      <td>8.0</td>\n",
       "    </tr>\n",
       "  </tbody>\n",
       "</table>\n",
       "</div>"
      ],
      "text/plain": [
       "        Sub Category  total_items  revenue  OFF Upto\n",
       "0  Bakery & Desserts           33  2752.67       0.0\n",
       "1  Beverages & Water          147  5372.13      30.0\n",
       "2          Breakfast           21   279.39       8.0"
      ]
     },
     "execution_count": 46,
     "metadata": {},
     "output_type": "execute_result"
    }
   ],
   "source": [
    "new_df.head(3)"
   ]
  },
  {
   "cell_type": "code",
   "execution_count": 47,
   "id": "561ddd1d",
   "metadata": {
    "execution": {
     "iopub.execute_input": "2024-01-17T19:49:27.001408Z",
     "iopub.status.busy": "2024-01-17T19:49:27.000963Z",
     "iopub.status.idle": "2024-01-17T19:49:27.016797Z",
     "shell.execute_reply": "2024-01-17T19:49:27.015649Z"
    },
    "papermill": {
     "duration": 0.042686,
     "end_time": "2024-01-17T19:49:27.019045",
     "exception": false,
     "start_time": "2024-01-17T19:49:26.976359",
     "status": "completed"
    },
    "tags": []
   },
   "outputs": [
    {
     "data": {
      "text/html": [
       "<div>\n",
       "<style scoped>\n",
       "    .dataframe tbody tr th:only-of-type {\n",
       "        vertical-align: middle;\n",
       "    }\n",
       "\n",
       "    .dataframe tbody tr th {\n",
       "        vertical-align: top;\n",
       "    }\n",
       "\n",
       "    .dataframe thead th {\n",
       "        text-align: right;\n",
       "    }\n",
       "</style>\n",
       "<table border=\"1\" class=\"dataframe\">\n",
       "  <thead>\n",
       "    <tr style=\"text-align: right;\">\n",
       "      <th></th>\n",
       "      <th>Sub Category</th>\n",
       "      <th>total_items</th>\n",
       "      <th>revenue</th>\n",
       "      <th>OFF Upto</th>\n",
       "    </tr>\n",
       "  </thead>\n",
       "  <tbody>\n",
       "    <tr>\n",
       "      <th>12</th>\n",
       "      <td>Meat &amp; Seafood</td>\n",
       "      <td>143</td>\n",
       "      <td>32418.58</td>\n",
       "      <td>4080.0</td>\n",
       "    </tr>\n",
       "    <tr>\n",
       "      <th>8</th>\n",
       "      <td>Gift Baskets</td>\n",
       "      <td>89</td>\n",
       "      <td>10568.11</td>\n",
       "      <td>50.0</td>\n",
       "    </tr>\n",
       "    <tr>\n",
       "      <th>17</th>\n",
       "      <td>Seafood</td>\n",
       "      <td>47</td>\n",
       "      <td>9189.51</td>\n",
       "      <td>70.0</td>\n",
       "    </tr>\n",
       "    <tr>\n",
       "      <th>6</th>\n",
       "      <td>Deli</td>\n",
       "      <td>21</td>\n",
       "      <td>7784.79</td>\n",
       "      <td>50.0</td>\n",
       "    </tr>\n",
       "    <tr>\n",
       "      <th>18</th>\n",
       "      <td>Snacks</td>\n",
       "      <td>290</td>\n",
       "      <td>6255.00</td>\n",
       "      <td>10.0</td>\n",
       "    </tr>\n",
       "    <tr>\n",
       "      <th>1</th>\n",
       "      <td>Beverages &amp; Water</td>\n",
       "      <td>147</td>\n",
       "      <td>5372.13</td>\n",
       "      <td>30.0</td>\n",
       "    </tr>\n",
       "    <tr>\n",
       "      <th>14</th>\n",
       "      <td>Pantry &amp; Dry Goods</td>\n",
       "      <td>171</td>\n",
       "      <td>4976.69</td>\n",
       "      <td>20.0</td>\n",
       "    </tr>\n",
       "    <tr>\n",
       "      <th>7</th>\n",
       "      <td>Floral</td>\n",
       "      <td>75</td>\n",
       "      <td>4338.35</td>\n",
       "      <td>0.0</td>\n",
       "    </tr>\n",
       "    <tr>\n",
       "      <th>3</th>\n",
       "      <td>Candy</td>\n",
       "      <td>153</td>\n",
       "      <td>3841.67</td>\n",
       "      <td>4.0</td>\n",
       "    </tr>\n",
       "    <tr>\n",
       "      <th>10</th>\n",
       "      <td>Kirkland Signature Grocery</td>\n",
       "      <td>117</td>\n",
       "      <td>3335.63</td>\n",
       "      <td>6.0</td>\n",
       "    </tr>\n",
       "    <tr>\n",
       "      <th>5</th>\n",
       "      <td>Coffee</td>\n",
       "      <td>89</td>\n",
       "      <td>2964.11</td>\n",
       "      <td>10.0</td>\n",
       "    </tr>\n",
       "    <tr>\n",
       "      <th>0</th>\n",
       "      <td>Bakery &amp; Desserts</td>\n",
       "      <td>33</td>\n",
       "      <td>2752.67</td>\n",
       "      <td>0.0</td>\n",
       "    </tr>\n",
       "    <tr>\n",
       "      <th>4</th>\n",
       "      <td>Cleaning Supplies</td>\n",
       "      <td>85</td>\n",
       "      <td>2640.76</td>\n",
       "      <td>12.0</td>\n",
       "    </tr>\n",
       "    <tr>\n",
       "      <th>9</th>\n",
       "      <td>Household</td>\n",
       "      <td>65</td>\n",
       "      <td>2028.95</td>\n",
       "      <td>0.0</td>\n",
       "    </tr>\n",
       "    <tr>\n",
       "      <th>15</th>\n",
       "      <td>Paper &amp; Plastic Products</td>\n",
       "      <td>76</td>\n",
       "      <td>1926.44</td>\n",
       "      <td>6.5</td>\n",
       "    </tr>\n",
       "    <tr>\n",
       "      <th>16</th>\n",
       "      <td>Poultry</td>\n",
       "      <td>8</td>\n",
       "      <td>1279.92</td>\n",
       "      <td>0.0</td>\n",
       "    </tr>\n",
       "    <tr>\n",
       "      <th>11</th>\n",
       "      <td>Laundry Detergent &amp; Supplies</td>\n",
       "      <td>33</td>\n",
       "      <td>1179.17</td>\n",
       "      <td>12.0</td>\n",
       "    </tr>\n",
       "    <tr>\n",
       "      <th>13</th>\n",
       "      <td>Organic</td>\n",
       "      <td>33</td>\n",
       "      <td>739.87</td>\n",
       "      <td>0.0</td>\n",
       "    </tr>\n",
       "    <tr>\n",
       "      <th>2</th>\n",
       "      <td>Breakfast</td>\n",
       "      <td>21</td>\n",
       "      <td>279.39</td>\n",
       "      <td>8.0</td>\n",
       "    </tr>\n",
       "  </tbody>\n",
       "</table>\n",
       "</div>"
      ],
      "text/plain": [
       "                    Sub Category  total_items   revenue  OFF Upto\n",
       "12                Meat & Seafood          143  32418.58    4080.0\n",
       "8                   Gift Baskets           89  10568.11      50.0\n",
       "17                       Seafood           47   9189.51      70.0\n",
       "6                           Deli           21   7784.79      50.0\n",
       "18                        Snacks          290   6255.00      10.0\n",
       "1              Beverages & Water          147   5372.13      30.0\n",
       "14            Pantry & Dry Goods          171   4976.69      20.0\n",
       "7                         Floral           75   4338.35       0.0\n",
       "3                          Candy          153   3841.67       4.0\n",
       "10    Kirkland Signature Grocery          117   3335.63       6.0\n",
       "5                         Coffee           89   2964.11      10.0\n",
       "0              Bakery & Desserts           33   2752.67       0.0\n",
       "4              Cleaning Supplies           85   2640.76      12.0\n",
       "9                      Household           65   2028.95       0.0\n",
       "15      Paper & Plastic Products           76   1926.44       6.5\n",
       "16                       Poultry            8   1279.92       0.0\n",
       "11  Laundry Detergent & Supplies           33   1179.17      12.0\n",
       "13                       Organic           33    739.87       0.0\n",
       "2                      Breakfast           21    279.39       8.0"
      ]
     },
     "execution_count": 47,
     "metadata": {},
     "output_type": "execute_result"
    }
   ],
   "source": [
    "new_df.sort_values(by='revenue', ascending=False)"
   ]
  },
  {
   "cell_type": "code",
   "execution_count": 48,
   "id": "df47e7a7",
   "metadata": {
    "execution": {
     "iopub.execute_input": "2024-01-17T19:49:27.069960Z",
     "iopub.status.busy": "2024-01-17T19:49:27.069137Z",
     "iopub.status.idle": "2024-01-17T19:49:27.085523Z",
     "shell.execute_reply": "2024-01-17T19:49:27.084255Z"
    },
    "papermill": {
     "duration": 0.043881,
     "end_time": "2024-01-17T19:49:27.088006",
     "exception": false,
     "start_time": "2024-01-17T19:49:27.044125",
     "status": "completed"
    },
    "tags": []
   },
   "outputs": [
    {
     "data": {
      "text/html": [
       "<div>\n",
       "<style scoped>\n",
       "    .dataframe tbody tr th:only-of-type {\n",
       "        vertical-align: middle;\n",
       "    }\n",
       "\n",
       "    .dataframe tbody tr th {\n",
       "        vertical-align: top;\n",
       "    }\n",
       "\n",
       "    .dataframe thead th {\n",
       "        text-align: right;\n",
       "    }\n",
       "</style>\n",
       "<table border=\"1\" class=\"dataframe\">\n",
       "  <thead>\n",
       "    <tr style=\"text-align: right;\">\n",
       "      <th></th>\n",
       "      <th>Sub Category</th>\n",
       "      <th>total_items</th>\n",
       "      <th>revenue</th>\n",
       "      <th>OFF Upto</th>\n",
       "    </tr>\n",
       "  </thead>\n",
       "  <tbody>\n",
       "    <tr>\n",
       "      <th>12</th>\n",
       "      <td>Meat &amp; Seafood</td>\n",
       "      <td>143</td>\n",
       "      <td>32418.58</td>\n",
       "      <td>4080.0</td>\n",
       "    </tr>\n",
       "    <tr>\n",
       "      <th>17</th>\n",
       "      <td>Seafood</td>\n",
       "      <td>47</td>\n",
       "      <td>9189.51</td>\n",
       "      <td>70.0</td>\n",
       "    </tr>\n",
       "    <tr>\n",
       "      <th>6</th>\n",
       "      <td>Deli</td>\n",
       "      <td>21</td>\n",
       "      <td>7784.79</td>\n",
       "      <td>50.0</td>\n",
       "    </tr>\n",
       "    <tr>\n",
       "      <th>8</th>\n",
       "      <td>Gift Baskets</td>\n",
       "      <td>89</td>\n",
       "      <td>10568.11</td>\n",
       "      <td>50.0</td>\n",
       "    </tr>\n",
       "    <tr>\n",
       "      <th>1</th>\n",
       "      <td>Beverages &amp; Water</td>\n",
       "      <td>147</td>\n",
       "      <td>5372.13</td>\n",
       "      <td>30.0</td>\n",
       "    </tr>\n",
       "    <tr>\n",
       "      <th>14</th>\n",
       "      <td>Pantry &amp; Dry Goods</td>\n",
       "      <td>171</td>\n",
       "      <td>4976.69</td>\n",
       "      <td>20.0</td>\n",
       "    </tr>\n",
       "    <tr>\n",
       "      <th>4</th>\n",
       "      <td>Cleaning Supplies</td>\n",
       "      <td>85</td>\n",
       "      <td>2640.76</td>\n",
       "      <td>12.0</td>\n",
       "    </tr>\n",
       "    <tr>\n",
       "      <th>11</th>\n",
       "      <td>Laundry Detergent &amp; Supplies</td>\n",
       "      <td>33</td>\n",
       "      <td>1179.17</td>\n",
       "      <td>12.0</td>\n",
       "    </tr>\n",
       "    <tr>\n",
       "      <th>18</th>\n",
       "      <td>Snacks</td>\n",
       "      <td>290</td>\n",
       "      <td>6255.00</td>\n",
       "      <td>10.0</td>\n",
       "    </tr>\n",
       "    <tr>\n",
       "      <th>5</th>\n",
       "      <td>Coffee</td>\n",
       "      <td>89</td>\n",
       "      <td>2964.11</td>\n",
       "      <td>10.0</td>\n",
       "    </tr>\n",
       "    <tr>\n",
       "      <th>2</th>\n",
       "      <td>Breakfast</td>\n",
       "      <td>21</td>\n",
       "      <td>279.39</td>\n",
       "      <td>8.0</td>\n",
       "    </tr>\n",
       "    <tr>\n",
       "      <th>15</th>\n",
       "      <td>Paper &amp; Plastic Products</td>\n",
       "      <td>76</td>\n",
       "      <td>1926.44</td>\n",
       "      <td>6.5</td>\n",
       "    </tr>\n",
       "    <tr>\n",
       "      <th>10</th>\n",
       "      <td>Kirkland Signature Grocery</td>\n",
       "      <td>117</td>\n",
       "      <td>3335.63</td>\n",
       "      <td>6.0</td>\n",
       "    </tr>\n",
       "    <tr>\n",
       "      <th>3</th>\n",
       "      <td>Candy</td>\n",
       "      <td>153</td>\n",
       "      <td>3841.67</td>\n",
       "      <td>4.0</td>\n",
       "    </tr>\n",
       "    <tr>\n",
       "      <th>16</th>\n",
       "      <td>Poultry</td>\n",
       "      <td>8</td>\n",
       "      <td>1279.92</td>\n",
       "      <td>0.0</td>\n",
       "    </tr>\n",
       "    <tr>\n",
       "      <th>0</th>\n",
       "      <td>Bakery &amp; Desserts</td>\n",
       "      <td>33</td>\n",
       "      <td>2752.67</td>\n",
       "      <td>0.0</td>\n",
       "    </tr>\n",
       "    <tr>\n",
       "      <th>13</th>\n",
       "      <td>Organic</td>\n",
       "      <td>33</td>\n",
       "      <td>739.87</td>\n",
       "      <td>0.0</td>\n",
       "    </tr>\n",
       "    <tr>\n",
       "      <th>7</th>\n",
       "      <td>Floral</td>\n",
       "      <td>75</td>\n",
       "      <td>4338.35</td>\n",
       "      <td>0.0</td>\n",
       "    </tr>\n",
       "    <tr>\n",
       "      <th>9</th>\n",
       "      <td>Household</td>\n",
       "      <td>65</td>\n",
       "      <td>2028.95</td>\n",
       "      <td>0.0</td>\n",
       "    </tr>\n",
       "  </tbody>\n",
       "</table>\n",
       "</div>"
      ],
      "text/plain": [
       "                    Sub Category  total_items   revenue  OFF Upto\n",
       "12                Meat & Seafood          143  32418.58    4080.0\n",
       "17                       Seafood           47   9189.51      70.0\n",
       "6                           Deli           21   7784.79      50.0\n",
       "8                   Gift Baskets           89  10568.11      50.0\n",
       "1              Beverages & Water          147   5372.13      30.0\n",
       "14            Pantry & Dry Goods          171   4976.69      20.0\n",
       "4              Cleaning Supplies           85   2640.76      12.0\n",
       "11  Laundry Detergent & Supplies           33   1179.17      12.0\n",
       "18                        Snacks          290   6255.00      10.0\n",
       "5                         Coffee           89   2964.11      10.0\n",
       "2                      Breakfast           21    279.39       8.0\n",
       "15      Paper & Plastic Products           76   1926.44       6.5\n",
       "10    Kirkland Signature Grocery          117   3335.63       6.0\n",
       "3                          Candy          153   3841.67       4.0\n",
       "16                       Poultry            8   1279.92       0.0\n",
       "0              Bakery & Desserts           33   2752.67       0.0\n",
       "13                       Organic           33    739.87       0.0\n",
       "7                         Floral           75   4338.35       0.0\n",
       "9                      Household           65   2028.95       0.0"
      ]
     },
     "execution_count": 48,
     "metadata": {},
     "output_type": "execute_result"
    }
   ],
   "source": [
    "new_df.sort_values(by='OFF Upto', ascending=False)"
   ]
  },
  {
   "cell_type": "markdown",
   "id": "ba93326b",
   "metadata": {
    "papermill": {
     "duration": 0.025524,
     "end_time": "2024-01-17T19:49:27.137350",
     "exception": false,
     "start_time": "2024-01-17T19:49:27.111826",
     "status": "completed"
    },
    "tags": []
   },
   "source": [
    "> Conclusion: there is an clear evidence that in category 'Meat & Seafood' we have given much discount then other that is why it has generated higher revenue."
   ]
  }
 ],
 "metadata": {
  "kaggle": {
   "accelerator": "none",
   "dataSources": [
    {
     "datasetId": 4266581,
     "sourceId": 7347604,
     "sourceType": "datasetVersion"
    }
   ],
   "dockerImageVersionId": 30635,
   "isGpuEnabled": false,
   "isInternetEnabled": true,
   "language": "python",
   "sourceType": "notebook"
  },
  "kernelspec": {
   "display_name": "Python 3",
   "language": "python",
   "name": "python3"
  },
  "language_info": {
   "codemirror_mode": {
    "name": "ipython",
    "version": 3
   },
   "file_extension": ".py",
   "mimetype": "text/x-python",
   "name": "python",
   "nbconvert_exporter": "python",
   "pygments_lexer": "ipython3",
   "version": "3.10.12"
  },
  "papermill": {
   "default_parameters": {},
   "duration": 11.533143,
   "end_time": "2024-01-17T19:49:27.781376",
   "environment_variables": {},
   "exception": null,
   "input_path": "__notebook__.ipynb",
   "output_path": "__notebook__.ipynb",
   "parameters": {},
   "start_time": "2024-01-17T19:49:16.248233",
   "version": "2.4.0"
  }
 },
 "nbformat": 4,
 "nbformat_minor": 5
}
