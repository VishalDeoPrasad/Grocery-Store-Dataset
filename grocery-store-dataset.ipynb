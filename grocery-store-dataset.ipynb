{
 "cells": [
  {
   "cell_type": "code",
   "execution_count": 1,
   "id": "54474f4d",
   "metadata": {
    "_cell_guid": "b1076dfc-b9ad-4769-8c92-a6c4dae69d19",
    "_uuid": "8f2839f25d086af736a60e9eeb907d3b93b6e0e5",
    "execution": {
     "iopub.execute_input": "2024-01-15T15:13:54.534525Z",
     "iopub.status.busy": "2024-01-15T15:13:54.533787Z",
     "iopub.status.idle": "2024-01-15T15:13:54.968660Z",
     "shell.execute_reply": "2024-01-15T15:13:54.967852Z"
    },
    "papermill": {
     "duration": 0.44591,
     "end_time": "2024-01-15T15:13:54.971511",
     "exception": false,
     "start_time": "2024-01-15T15:13:54.525601",
     "status": "completed"
    },
    "tags": []
   },
   "outputs": [
    {
     "name": "stdout",
     "output_type": "stream",
     "text": [
      "/kaggle/input/grocery-store-dataset/GroceryDataset.csv\n"
     ]
    }
   ],
   "source": [
    "# This Python 3 environment comes with many helpful analytics libraries installed\n",
    "# It is defined by the kaggle/python Docker image: https://github.com/kaggle/docker-python\n",
    "# For example, here's several helpful packages to load\n",
    "\n",
    "import numpy as np # linear algebra\n",
    "import pandas as pd # data processing, CSV file I/O (e.g. pd.read_csv)\n",
    "\n",
    "# Input data files are available in the read-only \"../input/\" directory\n",
    "# For example, running this (by clicking run or pressing Shift+Enter) will list all files under the input directory\n",
    "\n",
    "import os\n",
    "for dirname, _, filenames in os.walk('/kaggle/input'):\n",
    "    for filename in filenames:\n",
    "        print(os.path.join(dirname, filename))\n",
    "\n",
    "# You can write up to 20GB to the current directory (/kaggle/working/) that gets preserved as output when you create a version using \"Save & Run All\" \n",
    "# You can also write temporary files to /kaggle/temp/, but they won't be saved outside of the current session"
   ]
  },
  {
   "cell_type": "code",
   "execution_count": 2,
   "id": "117499ec",
   "metadata": {
    "execution": {
     "iopub.execute_input": "2024-01-15T15:13:54.986114Z",
     "iopub.status.busy": "2024-01-15T15:13:54.985527Z",
     "iopub.status.idle": "2024-01-15T15:13:55.090633Z",
     "shell.execute_reply": "2024-01-15T15:13:55.089527Z"
    },
    "papermill": {
     "duration": 0.116466,
     "end_time": "2024-01-15T15:13:55.094391",
     "exception": false,
     "start_time": "2024-01-15T15:13:54.977925",
     "status": "completed"
    },
    "tags": []
   },
   "outputs": [
    {
     "data": {
      "text/html": [
       "<div>\n",
       "<style scoped>\n",
       "    .dataframe tbody tr th:only-of-type {\n",
       "        vertical-align: middle;\n",
       "    }\n",
       "\n",
       "    .dataframe tbody tr th {\n",
       "        vertical-align: top;\n",
       "    }\n",
       "\n",
       "    .dataframe thead th {\n",
       "        text-align: right;\n",
       "    }\n",
       "</style>\n",
       "<table border=\"1\" class=\"dataframe\">\n",
       "  <thead>\n",
       "    <tr style=\"text-align: right;\">\n",
       "      <th></th>\n",
       "      <th>Sub Category</th>\n",
       "      <th>Price</th>\n",
       "      <th>Discount</th>\n",
       "      <th>Rating</th>\n",
       "      <th>Title</th>\n",
       "      <th>Currency</th>\n",
       "      <th>Feature</th>\n",
       "      <th>Product Description</th>\n",
       "    </tr>\n",
       "  </thead>\n",
       "  <tbody>\n",
       "    <tr>\n",
       "      <th>706</th>\n",
       "      <td>Gift Baskets</td>\n",
       "      <td>$59.99</td>\n",
       "      <td>No Discount</td>\n",
       "      <td>Rated 4 out of 5 stars based on 27 reviews.</td>\n",
       "      <td>Heaton Pecans Praline Pecans Tin 3 lbs.</td>\n",
       "      <td>$</td>\n",
       "      <td>Praline Pecans   3 lbs.   Homemade in the Miss...</td>\n",
       "      <td>Heaton Pecans are home grown in the Mississipp...</td>\n",
       "    </tr>\n",
       "    <tr>\n",
       "      <th>1751</th>\n",
       "      <td>Snacks</td>\n",
       "      <td>$10.99</td>\n",
       "      <td>No Discount</td>\n",
       "      <td>NaN</td>\n",
       "      <td>El Camino Real Bakery Dulce De Leche Delights,...</td>\n",
       "      <td>$</td>\n",
       "      <td>Dulce De Leche Delights   0g Trans Fat per Ser...</td>\n",
       "      <td>A Delectable Butter Pastry with Filling</td>\n",
       "    </tr>\n",
       "    <tr>\n",
       "      <th>1110</th>\n",
       "      <td>Meat &amp; Seafood</td>\n",
       "      <td>$139.99</td>\n",
       "      <td>No Discount</td>\n",
       "      <td>Rated 4.3 out of 5 stars based on 32 reviews.</td>\n",
       "      <td>Northfork Bison Tenderloin, Total 1 Pack, 2 Lb...</td>\n",
       "      <td>$</td>\n",
       "      <td>Bison Tenderloin 1 Pack of 2 Lbs   23% to 30% ...</td>\n",
       "      <td>The animals are fed exclusively with 100% natu...</td>\n",
       "    </tr>\n",
       "    <tr>\n",
       "      <th>822</th>\n",
       "      <td>Kirkland Signature Grocery</td>\n",
       "      <td>$21.99</td>\n",
       "      <td>No Discount</td>\n",
       "      <td>NaN</td>\n",
       "      <td>Kirkland Signature Ultra Clean HE Liquid Laund...</td>\n",
       "      <td>$</td>\n",
       "      <td>146 Loads   Fresh Scent   Tough Stain Fighting...</td>\n",
       "      <td>NaN</td>\n",
       "    </tr>\n",
       "    <tr>\n",
       "      <th>435</th>\n",
       "      <td>Cleaning Supplies</td>\n",
       "      <td>$8.99</td>\n",
       "      <td>No Discount</td>\n",
       "      <td>NaN</td>\n",
       "      <td>Nouvelle Legende Ribbed Microfiber Bar Towel, ...</td>\n",
       "      <td>$</td>\n",
       "      <td>Ribbed Microfiber Bar Mop Towel   Super absorbent</td>\n",
       "      <td>Ribbed Microfiber Bar Mop TowelSuper absorbent...</td>\n",
       "    </tr>\n",
       "    <tr>\n",
       "      <th>8</th>\n",
       "      <td>Bakery &amp; Desserts</td>\n",
       "      <td>$29.99</td>\n",
       "      <td>No Discount</td>\n",
       "      <td>Rated 4.4 out of 5 stars based on 1679 reviews.</td>\n",
       "      <td>David's Cookies Brownie and Cookie Combo Pack</td>\n",
       "      <td>$</td>\n",
       "      <td>6 Rocky Road Brownies\\n12 Chocoloate Chunk Coo...</td>\n",
       "      <td>Due to the perishable nature of this product o...</td>\n",
       "    </tr>\n",
       "    <tr>\n",
       "      <th>351</th>\n",
       "      <td>Candy</td>\n",
       "      <td>$15.99</td>\n",
       "      <td>No Discount</td>\n",
       "      <td>NaN</td>\n",
       "      <td>Reese’s Caramel Big Cup, 1.4 oz, 16-count</td>\n",
       "      <td>$</td>\n",
       "      <td>Milk Chocolate   Caramel and Peanut Butter Fil...</td>\n",
       "      <td>Reese's Caramel Big Cup\\nIndividually wrapped\\...</td>\n",
       "    </tr>\n",
       "    <tr>\n",
       "      <th>1297</th>\n",
       "      <td>Pantry &amp; Dry Goods</td>\n",
       "      <td>$16.99</td>\n",
       "      <td>No Discount</td>\n",
       "      <td>NaN</td>\n",
       "      <td>C&amp;H Pure Cane Sugar, 2.83 g, 2,000-count</td>\n",
       "      <td>$</td>\n",
       "      <td>Single-serve Packets\\n100% Pure cane sugar\\nOn...</td>\n",
       "      <td>This item is currently only available for deli...</td>\n",
       "    </tr>\n",
       "    <tr>\n",
       "      <th>1419</th>\n",
       "      <td>Seafood</td>\n",
       "      <td>$14.99</td>\n",
       "      <td>No Discount</td>\n",
       "      <td>NaN</td>\n",
       "      <td>Crown Prince Smoked Oysters in Olive Oil, Fanc...</td>\n",
       "      <td>$</td>\n",
       "      <td>ASC Certified   From Managed Fisheries   Fresh...</td>\n",
       "      <td>WARNING:Consuming this product can expose you ...</td>\n",
       "    </tr>\n",
       "    <tr>\n",
       "      <th>1430</th>\n",
       "      <td>Seafood</td>\n",
       "      <td>$279.99</td>\n",
       "      <td>No Discount</td>\n",
       "      <td>No Reviews</td>\n",
       "      <td>Wild Alaska Snow Crab Meat (Bairdi Crab 8 oz. ...</td>\n",
       "      <td>$</td>\n",
       "      <td>6 Lbs. Alaska Snow Crab Meat   8 oz. Vacuum Pa...</td>\n",
       "      <td>We have done the work for you! These Alaska Sn...</td>\n",
       "    </tr>\n",
       "  </tbody>\n",
       "</table>\n",
       "</div>"
      ],
      "text/plain": [
       "                    Sub Category     Price     Discount  \\\n",
       "706                 Gift Baskets   $59.99   No Discount   \n",
       "1751                      Snacks   $10.99   No Discount   \n",
       "1110              Meat & Seafood  $139.99   No Discount   \n",
       "822   Kirkland Signature Grocery   $21.99   No Discount   \n",
       "435            Cleaning Supplies    $8.99   No Discount   \n",
       "8              Bakery & Desserts   $29.99   No Discount   \n",
       "351                        Candy   $15.99   No Discount   \n",
       "1297          Pantry & Dry Goods   $16.99   No Discount   \n",
       "1419                     Seafood   $14.99   No Discount   \n",
       "1430                     Seafood  $279.99   No Discount   \n",
       "\n",
       "                                               Rating  \\\n",
       "706       Rated 4 out of 5 stars based on 27 reviews.   \n",
       "1751                                              NaN   \n",
       "1110    Rated 4.3 out of 5 stars based on 32 reviews.   \n",
       "822                                               NaN   \n",
       "435                                               NaN   \n",
       "8     Rated 4.4 out of 5 stars based on 1679 reviews.   \n",
       "351                                               NaN   \n",
       "1297                                              NaN   \n",
       "1419                                              NaN   \n",
       "1430                                       No Reviews   \n",
       "\n",
       "                                                  Title Currency  \\\n",
       "706            Heaton Pecans Praline Pecans Tin 3 lbs.         $   \n",
       "1751  El Camino Real Bakery Dulce De Leche Delights,...        $   \n",
       "1110  Northfork Bison Tenderloin, Total 1 Pack, 2 Lb...        $   \n",
       "822   Kirkland Signature Ultra Clean HE Liquid Laund...        $   \n",
       "435   Nouvelle Legende Ribbed Microfiber Bar Towel, ...        $   \n",
       "8         David's Cookies Brownie and Cookie Combo Pack        $   \n",
       "351           Reese’s Caramel Big Cup, 1.4 oz, 16-count        $   \n",
       "1297           C&H Pure Cane Sugar, 2.83 g, 2,000-count        $   \n",
       "1419  Crown Prince Smoked Oysters in Olive Oil, Fanc...        $   \n",
       "1430  Wild Alaska Snow Crab Meat (Bairdi Crab 8 oz. ...        $   \n",
       "\n",
       "                                                Feature  \\\n",
       "706   Praline Pecans   3 lbs.   Homemade in the Miss...   \n",
       "1751  Dulce De Leche Delights   0g Trans Fat per Ser...   \n",
       "1110  Bison Tenderloin 1 Pack of 2 Lbs   23% to 30% ...   \n",
       "822   146 Loads   Fresh Scent   Tough Stain Fighting...   \n",
       "435   Ribbed Microfiber Bar Mop Towel   Super absorbent   \n",
       "8     6 Rocky Road Brownies\\n12 Chocoloate Chunk Coo...   \n",
       "351   Milk Chocolate   Caramel and Peanut Butter Fil...   \n",
       "1297  Single-serve Packets\\n100% Pure cane sugar\\nOn...   \n",
       "1419  ASC Certified   From Managed Fisheries   Fresh...   \n",
       "1430  6 Lbs. Alaska Snow Crab Meat   8 oz. Vacuum Pa...   \n",
       "\n",
       "                                    Product Description  \n",
       "706   Heaton Pecans are home grown in the Mississipp...  \n",
       "1751            A Delectable Butter Pastry with Filling  \n",
       "1110  The animals are fed exclusively with 100% natu...  \n",
       "822                                                 NaN  \n",
       "435   Ribbed Microfiber Bar Mop TowelSuper absorbent...  \n",
       "8     Due to the perishable nature of this product o...  \n",
       "351   Reese's Caramel Big Cup\\nIndividually wrapped\\...  \n",
       "1297  This item is currently only available for deli...  \n",
       "1419  WARNING:Consuming this product can expose you ...  \n",
       "1430  We have done the work for you! These Alaska Sn...  "
      ]
     },
     "execution_count": 2,
     "metadata": {},
     "output_type": "execute_result"
    }
   ],
   "source": [
    "data = pd.read_csv(\"/kaggle/input/grocery-store-dataset/GroceryDataset.csv\")\n",
    "data.sample(10)"
   ]
  },
  {
   "cell_type": "markdown",
   "id": "08bb40c8",
   "metadata": {
    "papermill": {
     "duration": 0.006053,
     "end_time": "2024-01-15T15:13:55.107011",
     "exception": false,
     "start_time": "2024-01-15T15:13:55.100958",
     "status": "completed"
    },
    "tags": []
   },
   "source": [
    "1. Check for Missing Value\n",
    "1. Fix datatype\n",
    "1. encode categorical data\n",
    "1. change rating column to something numerical value\n",
    "1. Fetch quantiy from title\n",
    "1. check out differnt currency to purchases"
   ]
  },
  {
   "cell_type": "code",
   "execution_count": 3,
   "id": "48803501",
   "metadata": {
    "execution": {
     "iopub.execute_input": "2024-01-15T15:13:55.121599Z",
     "iopub.status.busy": "2024-01-15T15:13:55.121104Z",
     "iopub.status.idle": "2024-01-15T15:13:55.128625Z",
     "shell.execute_reply": "2024-01-15T15:13:55.127612Z"
    },
    "papermill": {
     "duration": 0.017937,
     "end_time": "2024-01-15T15:13:55.131092",
     "exception": false,
     "start_time": "2024-01-15T15:13:55.113155",
     "status": "completed"
    },
    "tags": []
   },
   "outputs": [
    {
     "data": {
      "text/plain": [
       "(1757, 8)"
      ]
     },
     "execution_count": 3,
     "metadata": {},
     "output_type": "execute_result"
    }
   ],
   "source": [
    "data.shape"
   ]
  },
  {
   "cell_type": "markdown",
   "id": "5d24f9bf",
   "metadata": {
    "papermill": {
     "duration": 0.006239,
     "end_time": "2024-01-15T15:13:55.143720",
     "exception": false,
     "start_time": "2024-01-15T15:13:55.137481",
     "status": "completed"
    },
    "tags": []
   },
   "source": [
    "## 1. Check and Fix Missing Value\n",
    "> Here, I can see Price column has 3 missing value, Rating has 1075 missing value, currency has 5, Feature has 18 and Product Discription has 42 missing value."
   ]
  },
  {
   "cell_type": "code",
   "execution_count": 4,
   "id": "e534511c",
   "metadata": {
    "execution": {
     "iopub.execute_input": "2024-01-15T15:13:55.158696Z",
     "iopub.status.busy": "2024-01-15T15:13:55.158213Z",
     "iopub.status.idle": "2024-01-15T15:13:55.170573Z",
     "shell.execute_reply": "2024-01-15T15:13:55.169267Z"
    },
    "papermill": {
     "duration": 0.023197,
     "end_time": "2024-01-15T15:13:55.173253",
     "exception": false,
     "start_time": "2024-01-15T15:13:55.150056",
     "status": "completed"
    },
    "tags": []
   },
   "outputs": [
    {
     "data": {
      "text/plain": [
       "Sub Category              0\n",
       "Price                     3\n",
       "Discount                  0\n",
       "Rating                 1075\n",
       "Title                     0\n",
       "Currency                  5\n",
       "Feature                  18\n",
       "Product Description      42\n",
       "dtype: int64"
      ]
     },
     "execution_count": 4,
     "metadata": {},
     "output_type": "execute_result"
    }
   ],
   "source": [
    "data.isnull().sum()"
   ]
  },
  {
   "cell_type": "markdown",
   "id": "25934008",
   "metadata": {
    "papermill": {
     "duration": 0.006592,
     "end_time": "2024-01-15T15:13:55.186518",
     "exception": false,
     "start_time": "2024-01-15T15:13:55.179926",
     "status": "completed"
    },
    "tags": []
   },
   "source": [
    "### 1.a). Find missing value percentage.\n",
    "- if any column has more then 60 percentage of data is missing value then it is good idea to remove that columns\n",
    "- Missing Value Percentage = (Total Number of Values/Number of Missing Values)×100"
   ]
  },
  {
   "cell_type": "code",
   "execution_count": 5,
   "id": "a25bd89b",
   "metadata": {
    "execution": {
     "iopub.execute_input": "2024-01-15T15:13:55.201923Z",
     "iopub.status.busy": "2024-01-15T15:13:55.201402Z",
     "iopub.status.idle": "2024-01-15T15:13:55.207043Z",
     "shell.execute_reply": "2024-01-15T15:13:55.206105Z"
    },
    "papermill": {
     "duration": 0.016365,
     "end_time": "2024-01-15T15:13:55.209420",
     "exception": false,
     "start_time": "2024-01-15T15:13:55.193055",
     "status": "completed"
    },
    "tags": []
   },
   "outputs": [],
   "source": [
    "def find_percentage(columns_name):\n",
    "    missing_cnt = columns_name.isnull().sum()\n",
    "    total_cnt = columns_name.shape\n",
    "    missing_percentage = ((missing_cnt/total_cnt)*100).round(2)\n",
    "    return missing_percentage"
   ]
  },
  {
   "cell_type": "code",
   "execution_count": 6,
   "id": "cec3c3bb",
   "metadata": {
    "execution": {
     "iopub.execute_input": "2024-01-15T15:13:55.225864Z",
     "iopub.status.busy": "2024-01-15T15:13:55.225327Z",
     "iopub.status.idle": "2024-01-15T15:13:55.246499Z",
     "shell.execute_reply": "2024-01-15T15:13:55.245624Z"
    },
    "papermill": {
     "duration": 0.032706,
     "end_time": "2024-01-15T15:13:55.248757",
     "exception": false,
     "start_time": "2024-01-15T15:13:55.216051",
     "status": "completed"
    },
    "tags": []
   },
   "outputs": [
    {
     "data": {
      "text/html": [
       "<div>\n",
       "<style scoped>\n",
       "    .dataframe tbody tr th:only-of-type {\n",
       "        vertical-align: middle;\n",
       "    }\n",
       "\n",
       "    .dataframe tbody tr th {\n",
       "        vertical-align: top;\n",
       "    }\n",
       "\n",
       "    .dataframe thead th {\n",
       "        text-align: right;\n",
       "    }\n",
       "</style>\n",
       "<table border=\"1\" class=\"dataframe\">\n",
       "  <thead>\n",
       "    <tr style=\"text-align: right;\">\n",
       "      <th></th>\n",
       "      <th>Sub Category</th>\n",
       "      <th>Price</th>\n",
       "      <th>Discount</th>\n",
       "      <th>Rating</th>\n",
       "      <th>Title</th>\n",
       "      <th>Currency</th>\n",
       "      <th>Feature</th>\n",
       "      <th>Product Description</th>\n",
       "    </tr>\n",
       "  </thead>\n",
       "  <tbody>\n",
       "    <tr>\n",
       "      <th>0</th>\n",
       "      <td>0.0</td>\n",
       "      <td>0.17</td>\n",
       "      <td>0.0</td>\n",
       "      <td>61.18</td>\n",
       "      <td>0.0</td>\n",
       "      <td>0.28</td>\n",
       "      <td>1.02</td>\n",
       "      <td>2.39</td>\n",
       "    </tr>\n",
       "  </tbody>\n",
       "</table>\n",
       "</div>"
      ],
      "text/plain": [
       "   Sub Category  Price  Discount  Rating  Title  Currency  Feature  \\\n",
       "0           0.0   0.17       0.0   61.18    0.0      0.28     1.02   \n",
       "\n",
       "   Product Description  \n",
       "0                 2.39  "
      ]
     },
     "execution_count": 6,
     "metadata": {},
     "output_type": "execute_result"
    }
   ],
   "source": [
    "data.apply(find_percentage)"
   ]
  },
  {
   "cell_type": "markdown",
   "id": "865c9f2d",
   "metadata": {
    "papermill": {
     "duration": 0.006513,
     "end_time": "2024-01-15T15:13:55.262081",
     "exception": false,
     "start_time": "2024-01-15T15:13:55.255568",
     "status": "completed"
    },
    "tags": []
   },
   "source": [
    "### 1.b). Drop Rating Column "
   ]
  },
  {
   "cell_type": "code",
   "execution_count": 7,
   "id": "d710b02f",
   "metadata": {
    "execution": {
     "iopub.execute_input": "2024-01-15T15:13:55.278023Z",
     "iopub.status.busy": "2024-01-15T15:13:55.277493Z",
     "iopub.status.idle": "2024-01-15T15:13:55.289458Z",
     "shell.execute_reply": "2024-01-15T15:13:55.288008Z"
    },
    "papermill": {
     "duration": 0.023217,
     "end_time": "2024-01-15T15:13:55.291992",
     "exception": false,
     "start_time": "2024-01-15T15:13:55.268775",
     "status": "completed"
    },
    "tags": []
   },
   "outputs": [],
   "source": [
    "#since Rating has 61.18 percentage of null value so drop the columns\n",
    "data.drop(['Rating'], axis=1, inplace=True)"
   ]
  },
  {
   "cell_type": "markdown",
   "id": "37494f4f",
   "metadata": {
    "papermill": {
     "duration": 0.006445,
     "end_time": "2024-01-15T15:13:55.305313",
     "exception": false,
     "start_time": "2024-01-15T15:13:55.298868",
     "status": "completed"
    },
    "tags": []
   },
   "source": [
    "### 1.c) Handle Missing Value\n",
    "1. Price\n",
    "1. Currency\n",
    "1. Feature\n",
    "1. Product Description"
   ]
  },
  {
   "cell_type": "markdown",
   "id": "7c7ba25d",
   "metadata": {
    "execution": {
     "iopub.execute_input": "2024-01-15T14:23:32.589792Z",
     "iopub.status.busy": "2024-01-15T14:23:32.589322Z",
     "iopub.status.idle": "2024-01-15T14:23:32.594386Z",
     "shell.execute_reply": "2024-01-15T14:23:32.593531Z",
     "shell.execute_reply.started": "2024-01-15T14:23:32.589757Z"
    },
    "papermill": {
     "duration": 0.006528,
     "end_time": "2024-01-15T15:13:55.318539",
     "exception": false,
     "start_time": "2024-01-15T15:13:55.312011",
     "status": "completed"
    },
    "tags": []
   },
   "source": [
    "### Display Unique Sub Category"
   ]
  },
  {
   "cell_type": "code",
   "execution_count": 8,
   "id": "bf3150da",
   "metadata": {
    "execution": {
     "iopub.execute_input": "2024-01-15T15:13:55.334165Z",
     "iopub.status.busy": "2024-01-15T15:13:55.333655Z",
     "iopub.status.idle": "2024-01-15T15:13:55.347122Z",
     "shell.execute_reply": "2024-01-15T15:13:55.345294Z"
    },
    "papermill": {
     "duration": 0.024447,
     "end_time": "2024-01-15T15:13:55.349737",
     "exception": false,
     "start_time": "2024-01-15T15:13:55.325290",
     "status": "completed"
    },
    "tags": []
   },
   "outputs": [
    {
     "name": "stdout",
     "output_type": "stream",
     "text": [
      "['Bakery & Desserts' 'Beverages & Water' 'Breakfast' 'Candy'\n",
      " 'Cleaning Supplies' 'Coffee' 'Deli' 'Floral' 'Gift Baskets' 'Household'\n",
      " 'Kirkland Signature Grocery' 'Laundry Detergent & Supplies'\n",
      " 'Meat & Seafood' 'Organic' 'Pantry & Dry Goods'\n",
      " 'Paper & Plastic Products' 'Poultry' 'Seafood' 'Snacks']\n",
      "\n",
      "Total Sub Category count = 19\n"
     ]
    }
   ],
   "source": [
    "print(data['Sub Category'].unique())\n",
    "print(\"\\nTotal Sub Category count =\", data['Sub Category'].nunique())"
   ]
  },
  {
   "cell_type": "code",
   "execution_count": 9,
   "id": "ae0a2687",
   "metadata": {
    "execution": {
     "iopub.execute_input": "2024-01-15T15:13:55.365476Z",
     "iopub.status.busy": "2024-01-15T15:13:55.364986Z",
     "iopub.status.idle": "2024-01-15T15:13:55.371916Z",
     "shell.execute_reply": "2024-01-15T15:13:55.370641Z"
    },
    "papermill": {
     "duration": 0.017728,
     "end_time": "2024-01-15T15:13:55.374254",
     "exception": false,
     "start_time": "2024-01-15T15:13:55.356526",
     "status": "completed"
    },
    "tags": []
   },
   "outputs": [
    {
     "name": "stdout",
     "output_type": "stream",
     "text": [
      "Original number: 3.456\n",
      "Rounded number: 3.46\n"
     ]
    }
   ],
   "source": [
    "# Example number\n",
    "number = 3.456\n",
    "\n",
    "# Round to two decimal places\n",
    "rounded_number = round(number, 2)\n",
    "\n",
    "# Print the result\n",
    "print(\"Original number:\", number)\n",
    "print(\"Rounded number:\", rounded_number)"
   ]
  },
  {
   "cell_type": "code",
   "execution_count": null,
   "id": "284c213c",
   "metadata": {
    "papermill": {
     "duration": 0.006925,
     "end_time": "2024-01-15T15:13:55.388297",
     "exception": false,
     "start_time": "2024-01-15T15:13:55.381372",
     "status": "completed"
    },
    "tags": []
   },
   "outputs": [],
   "source": []
  }
 ],
 "metadata": {
  "kaggle": {
   "accelerator": "none",
   "dataSources": [
    {
     "datasetId": 4266581,
     "sourceId": 7347604,
     "sourceType": "datasetVersion"
    }
   ],
   "dockerImageVersionId": 30635,
   "isGpuEnabled": false,
   "isInternetEnabled": true,
   "language": "python",
   "sourceType": "notebook"
  },
  "kernelspec": {
   "display_name": "Python 3",
   "language": "python",
   "name": "python3"
  },
  "language_info": {
   "codemirror_mode": {
    "name": "ipython",
    "version": 3
   },
   "file_extension": ".py",
   "mimetype": "text/x-python",
   "name": "python",
   "nbconvert_exporter": "python",
   "pygments_lexer": "ipython3",
   "version": "3.10.12"
  },
  "papermill": {
   "default_parameters": {},
   "duration": 5.215428,
   "end_time": "2024-01-15T15:13:56.119604",
   "environment_variables": {},
   "exception": null,
   "input_path": "__notebook__.ipynb",
   "output_path": "__notebook__.ipynb",
   "parameters": {},
   "start_time": "2024-01-15T15:13:50.904176",
   "version": "2.4.0"
  }
 },
 "nbformat": 4,
 "nbformat_minor": 5
}
